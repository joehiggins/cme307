{
 "cells": [
  {
   "cell_type": "markdown",
   "metadata": {},
   "source": [
    "Group: Austin Wang, Joe Higgins, Lawrence Moore"
   ]
  },
  {
   "cell_type": "code",
   "execution_count": null,
   "metadata": {
    "collapsed": true
   },
   "outputs": [],
   "source": []
  },
  {
   "cell_type": "markdown",
   "metadata": {},
   "source": [
    "# Question 1"
   ]
  },
  {
   "cell_type": "markdown",
   "metadata": {},
   "source": [
    "# SOCP"
   ]
  },
  {
   "cell_type": "code",
   "execution_count": 2,
   "metadata": {
    "collapsed": true
   },
   "outputs": [],
   "source": [
    "# Import necessary modules\n",
    "import cvxpy as cvx\n",
    "import numpy as np\n",
    "from scipy import random\n",
    "from scipy import linalg"
   ]
  },
  {
   "cell_type": "code",
   "execution_count": 3,
   "metadata": {
    "collapsed": true
   },
   "outputs": [],
   "source": [
    "def generate_points(num, dim):\n",
    "    return np.matrix(4 * np.random.random((num, dim)) - 2)"
   ]
  },
  {
   "cell_type": "code",
   "execution_count": 5,
   "metadata": {
    "collapsed": true
   },
   "outputs": [],
   "source": [
    "num_sensors = 10\n",
    "num_anchors = 4\n",
    "dim = 2\n",
    "range_mult = 1\n",
    "\n",
    "anchors = generate_points(num_anchors, dim) * range_mult\n",
    "sensors = generate_points(num_sensors, dim)\n",
    "\n",
    "d_sa = list(map(lambda s: list(map(lambda a: np.linalg.norm(a - s), anchors)), sensors))\n",
    "\n",
    "d_ss = list(map(lambda s1: \n",
    "        list(map(lambda s2: np.linalg.norm(s1 - s2), sensors))\n",
    "    , sensors))"
   ]
  },
  {
   "cell_type": "code",
   "execution_count": 6,
   "metadata": {
    "collapsed": true
   },
   "outputs": [],
   "source": [
    "x = cvx.Variable(num_sensors, dim)\n",
    "objective = cvx.Minimize(0)"
   ]
  },
  {
   "cell_type": "code",
   "execution_count": 7,
   "metadata": {
    "collapsed": true
   },
   "outputs": [],
   "source": [
    "constraints  = []\n",
    "for i in range(num_sensors):\n",
    "    x_i = x[i, :]\n",
    "    for j in range(num_anchors):\n",
    "        constraints.append(cvx.norm(x_i - anchors[j]) <= d_sa[i][j])\n",
    "    for j in range(num_sensors):\n",
    "        if i < j:\n",
    "            constraints.append(cvx.norm(x_i - sensors[j]) <= d_ss[i][j])\n"
   ]
  },
  {
   "cell_type": "code",
   "execution_count": 240,
   "metadata": {},
   "outputs": [
    {
     "name": "stdout",
     "output_type": "stream",
     "text": [
      "[[-1.42275272  1.6052675 ]\n",
      " [ 0.87439427 -0.83121965]\n",
      " [-0.35642879  0.70686266]\n",
      " [ 1.95111945 -1.3025779 ]\n",
      " [-0.32487899  1.16506877]\n",
      " [-1.70155146 -0.1441852 ]\n",
      " [-0.35626019 -0.26393005]\n",
      " [-1.73766309 -0.37360521]\n",
      " [ 0.51652128  0.05486113]\n",
      " [ 0.55180187 -1.9985776 ]]\n"
     ]
    }
   ],
   "source": [
    "print(sensors)"
   ]
  },
  {
   "cell_type": "code",
   "execution_count": 241,
   "metadata": {},
   "outputs": [
    {
     "name": "stdout",
     "output_type": "stream",
     "text": [
      "[[ 0.79000745 -0.30830019]\n",
      " [-1.5201135   0.96813936]\n",
      " [-0.22088681  0.03526299]\n",
      " [-0.98710229  0.70550747]]\n"
     ]
    }
   ],
   "source": [
    "print(anchors)"
   ]
  },
  {
   "cell_type": "code",
   "execution_count": 267,
   "metadata": {},
   "outputs": [
    {
     "name": "stdout",
     "output_type": "stream",
     "text": [
      "[[-0.66812887 -0.89937099]\n",
      " [-0.64038825 -0.65681491]\n",
      " [-0.88529556 -1.25097927]\n",
      " [-0.99294347  1.34253601]\n",
      " [ 0.41043658 -1.70089718]\n",
      " [ 0.16732836  0.56002081]\n",
      " [-0.2893331  -1.56912421]\n",
      " [ 1.00274363 -0.04602282]\n",
      " [-0.16143208 -1.16948561]\n",
      " [ 0.5888892  -0.0959116 ]]\n"
     ]
    }
   ],
   "source": [
    "prob = cvx.Problem(objective, constraints)\n",
    "\n",
    "# The optimal objective is returned by prob.solve().\n",
    "result = prob.solve(solver = 'MOSEK')\n",
    "# The optimal value for x is stored in x.value.\n",
    "print(x.value)"
   ]
  },
  {
   "cell_type": "code",
   "execution_count": 268,
   "metadata": {},
   "outputs": [
    {
     "name": "stdout",
     "output_type": "stream",
     "text": [
      "[[ True  True]\n",
      " [ True  True]\n",
      " [False False]\n",
      " [False False]\n",
      " [ True  True]\n",
      " [ True  True]\n",
      " [False False]\n",
      " [False False]\n",
      " [False False]\n",
      " [False False]]\n"
     ]
    }
   ],
   "source": [
    "print(abs(x.value-sensors)<= 10**-5)"
   ]
  },
  {
   "cell_type": "markdown",
   "metadata": {},
   "source": [
    "# SDP"
   ]
  },
  {
   "cell_type": "code",
   "execution_count": 269,
   "metadata": {
    "collapsed": true
   },
   "outputs": [],
   "source": [
    "Z = cvx.Semidef(num_sensors + dim)"
   ]
  },
  {
   "cell_type": "code",
   "execution_count": 8,
   "metadata": {
    "collapsed": true
   },
   "outputs": [],
   "source": [
    "def sum_elem_product(A,B):\n",
    "    return cvx.sum_entries(cvx.mul_elemwise(A, B))"
   ]
  },
  {
   "cell_type": "code",
   "execution_count": 9,
   "metadata": {},
   "outputs": [],
   "source": [
    "#Make first set of constraint matrices (look like identity)\n",
    "def enforce_id(dim, num_sensors):\n",
    "    matrices = []\n",
    "    rhs = []\n",
    "    for i in range(dim):\n",
    "        new_matrix = np.zeros((dim+num_sensors, dim+num_sensors))\n",
    "        new_matrix[i,i] = 1\n",
    "        matrices.append(new_matrix)\n",
    "        rhs.append(1)\n",
    "        \n",
    "    return (matrices, rhs)\n",
    "\n",
    "#Make second set of constraint matrices (symmetric holders) \n",
    "def enforce_id2(dim, num_sensors):\n",
    "    matrices = []\n",
    "    rhs = []\n",
    "    for i in range(dim):\n",
    "        for j in range(dim):\n",
    "            new_matrix = np.identity(dim)\n",
    "            if(j > i):\n",
    "                new_matrix[i,j] = 1\n",
    "                new_matrix[j,i] = 1\n",
    "                big_matrix = np.zeros((dim+num_sensors, dim+num_sensors))\n",
    "                big_matrix[0:dim,0:dim] = new_matrix\n",
    "                matrices.append(big_matrix)\n",
    "                rhs.append(dim)\n",
    "                \n",
    "    return (matrices, rhs)\n",
    "\n",
    "\n",
    "#Make third set of constraint matrices (anchors to sensors)\n",
    "def sensor_constraints(dim, num_sensors):\n",
    "    matrices = []\n",
    "    rhs = []\n",
    "    zero_vec_dim = np.zeros(dim)\n",
    "    for i in range(num_sensors):\n",
    "        for j in range(i+1, num_sensors):\n",
    "            zero_vec_num_s = np.zeros(num_sensors)\n",
    "            zero_vec_num_s[i] = 1\n",
    "            zero_vec_num_s[j] = -1\n",
    "            \n",
    "            new_vec = np.matrix(np.append(zero_vec_dim, zero_vec_num_s))\n",
    "            \n",
    "            new_matrix = np.dot(np.transpose(new_vec), new_vec)\n",
    "            \n",
    "            matrices.append(new_matrix)\n",
    "            rhs.append(d_ss[i][j]**2)\n",
    "\n",
    "    return (matrices, rhs)\n",
    "\n",
    "#Make fourth set of constraint matrices (sensors to sensors)\n",
    "def anchor_constraints(num_anchors, num_sensors):\n",
    "    matrices = []\n",
    "    rhs = []\n",
    "    for i in range(num_anchors):\n",
    "        for j in range(num_sensors):\n",
    "            zero_vec_num_s = np.zeros(num_sensors)\n",
    "            zero_vec_num_s[j] = -1\n",
    "\n",
    "            new_vec = np.append(np.array(anchors[i,:]), np.array(zero_vec_num_s))\n",
    "            new_vec = np.matrix(new_vec)\n",
    "            new_matrix = np.dot(np.transpose(new_vec), new_vec)\n",
    "            matrices.append(new_matrix)\n",
    "            rhs.append(d_sa[j][i]**2)\n",
    "\n",
    "    return (matrices, rhs)\n",
    "\n",
    "A = enforce_id(dim, num_sensors)\n",
    "B = enforce_id2(dim, num_sensors)\n",
    "C = sensor_constraints(dim, num_sensors)\n",
    "D = anchor_constraints(num_anchors, num_sensors)"
   ]
  },
  {
   "cell_type": "code",
   "execution_count": 272,
   "metadata": {
    "collapsed": true
   },
   "outputs": [],
   "source": [
    "constraints = []\n",
    "for id_constraint, rhs in zip(A[0], A[1]):\n",
    "    constraints.append(sum_elem_product(id_constraint, Z) == rhs)\n",
    "for id_constraint2, rhs in zip(B[0], B[1]):\n",
    "    constraints.append(sum_elem_product(id_constraint2, Z) == rhs)\n",
    "for sensor_constraint, rhs in zip(C[0], C[1]):\n",
    "    constraints.append(sum_elem_product(sensor_constraint, Z) == rhs)\n",
    "for anchor_constraint, rhs in zip(D[0], D[1]):\n",
    "    constraints.append(sum_elem_product(anchor_constraint, Z) == rhs)"
   ]
  },
  {
   "cell_type": "code",
   "execution_count": 273,
   "metadata": {
    "collapsed": true
   },
   "outputs": [],
   "source": [
    "prob = cvx.Problem(objective, constraints)\n",
    "result = prob.solve(solver = 'MOSEK')"
   ]
  },
  {
   "cell_type": "code",
   "execution_count": 274,
   "metadata": {},
   "outputs": [
    {
     "name": "stdout",
     "output_type": "stream",
     "text": [
      "Real sensors: \n",
      "[[-0.66812887 -0.89937099]\n",
      " [-0.64038825 -0.65681491]\n",
      " [-1.50042933 -1.98543567]\n",
      " [-1.10276266  1.51493211]\n",
      " [ 0.41043658 -1.70089719]\n",
      " [ 0.16732836  0.56002081]\n",
      " [-0.39070409 -1.95306535]\n",
      " [ 1.74767567  0.35239902]\n",
      " [-0.19505899 -1.75562855]\n",
      " [ 1.66120014 -1.40530023]]\n",
      "Generated Sensors: \n",
      "[[-0.66812887 -0.89937099]\n",
      " [-0.64038825 -0.65681491]\n",
      " [-1.50042933 -1.98543567]\n",
      " [-1.10276266  1.51493211]\n",
      " [ 0.41043658 -1.70089719]\n",
      " [ 0.16732836  0.56002081]\n",
      " [-0.39070409 -1.95306535]\n",
      " [ 1.74767567  0.35239902]\n",
      " [-0.19505899 -1.75562855]\n",
      " [ 1.66120014 -1.40530023]]\n"
     ]
    }
   ],
   "source": [
    "print(\"Real sensors: \")\n",
    "print(sensors)\n",
    "print(\"Generated Sensors: \")\n",
    "generated = np.transpose(Z[0:dim, dim:dim+num_sensors].value)\n",
    "print(generated)"
   ]
  },
  {
   "cell_type": "code",
   "execution_count": 251,
   "metadata": {
    "collapsed": true
   },
   "outputs": [],
   "source": [
    "def super_quick_func(real, generated):\n",
    "    for_real_do_results = []\n",
    "    for real_sens, real_gen in zip(real, generated):\n",
    "        for_real_do_results.append(np.linalg.norm(real_sens - real_gen) < 10**(-6))\n",
    "    return for_real_do_results\n"
   ]
  },
  {
   "cell_type": "code",
   "execution_count": 207,
   "metadata": {},
   "outputs": [
    {
     "data": {
      "text/plain": [
       "[True, True, True, True, True, True, True, True, True, True]"
      ]
     },
     "execution_count": 207,
     "metadata": {},
     "output_type": "execute_result"
    }
   ],
   "source": [
    "super_quick_func(sensors, generated)"
   ]
  },
  {
   "cell_type": "code",
   "execution_count": null,
   "metadata": {
    "collapsed": true
   },
   "outputs": [],
   "source": []
  },
  {
   "cell_type": "markdown",
   "metadata": {},
   "source": [
    "Yo, anchors is huge == it'll localize."
   ]
  },
  {
   "cell_type": "markdown",
   "metadata": {},
   "source": [
    "### Part 3 "
   ]
  },
  {
   "cell_type": "code",
   "execution_count": 32,
   "metadata": {
    "collapsed": true
   },
   "outputs": [],
   "source": [
    "def grad(X):\n",
    "    sensor_distance_sum = np.zeros((1,X.shape[1]))\n",
    "    anchor_distance_sum = np.zeros((1,X.shape[1]))\n",
    "    gradient = np.zeros(X.shape)\n",
    "\n",
    "    for i, sensor_i in enumerate(X):\n",
    "        for j, sensor_j in enumerate(X):\n",
    "            if(i != j):\n",
    "                sensor_distance_sum += (np.linalg.norm(sensor_i - sensor_j)**2 - \\\n",
    "                                        np.linalg.norm(sensors[i,:] - sensors[j,:])**2) * \\\n",
    "                                       (sensor_i - sensor_j)\n",
    "\n",
    "        for k, anchor_k in enumerate(anchors):\n",
    "            anchor_distance_sum += (np.linalg.norm(anchor_k - sensor_i)**2 - \\\n",
    "                                    np.linalg.norm(anchors[k,:] - sensors[i,:])**2) * \\\n",
    "                                   (sensor_i - anchor_k)\n",
    "\n",
    "        gradient[i,:] = 8*sensor_distance_sum + 4*anchor_distance_sum\n",
    "\n",
    "    return gradient"
   ]
  },
  {
   "cell_type": "code",
   "execution_count": 33,
   "metadata": {
    "collapsed": true
   },
   "outputs": [],
   "source": [
    "check = 1000\n",
    "max_iter = 10000\n",
    "k = 0\n",
    "\n",
    "# Initial sensors guess\n",
    "sensors_0 = generate_points(num_sensors, dim)\n",
    "sensors_k = sensors_0\n",
    "\n",
    "# D iteration\n",
    "alpha = .0000001\n",
    "while check > 10**-8 and k < max_iter:\n",
    "    sensors_k1 = sensors_k - alpha * grad(sensors_k)\n",
    "    check = np.linalg.norm(sensors_k1 - sensors_k)\n",
    "    sensors_k = sensors_k1\n",
    "    k = k+1\n",
    "    "
   ]
  },
  {
   "cell_type": "code",
   "execution_count": 31,
   "metadata": {},
   "outputs": [
    {
     "data": {
      "text/plain": [
       "matrix([[-0.82963175,  1.49491793],\n",
       "        [-1.6397261 , -0.88638492],\n",
       "        [-0.57167572, -1.90004467],\n",
       "        [-0.57647951, -1.41087409],\n",
       "        [ 0.12781571, -0.32245923],\n",
       "        [-1.03637545, -0.24204694],\n",
       "        [-1.55879562,  1.60678321],\n",
       "        [ 1.34062095,  1.62617786],\n",
       "        [ 0.88287445, -1.71321207],\n",
       "        [ 1.62936614,  0.73302684]])"
      ]
     },
     "execution_count": 31,
     "metadata": {},
     "output_type": "execute_result"
    }
   ],
   "source": [
    "sensors"
   ]
  },
  {
   "cell_type": "code",
   "execution_count": 34,
   "metadata": {
    "scrolled": true
   },
   "outputs": [
    {
     "data": {
      "text/plain": [
       "matrix([[-0.82963175,  1.49491793],\n",
       "        [-1.6397261 , -0.88638492],\n",
       "        [-0.57167572, -1.90004467],\n",
       "        [-0.57647952, -1.41087409],\n",
       "        [ 0.12781572, -0.32245924],\n",
       "        [-1.03637549, -0.24204693],\n",
       "        [-1.55879554,  1.60678318],\n",
       "        [ 1.34062092,  1.62617787],\n",
       "        [ 0.88287422, -1.71321199],\n",
       "        [ 1.62936685,  0.73302657]])"
      ]
     },
     "execution_count": 34,
     "metadata": {},
     "output_type": "execute_result"
    }
   ],
   "source": [
    "sensors_k"
   ]
  },
  {
   "cell_type": "markdown",
   "metadata": {},
   "source": [
    "### Question 2"
   ]
  },
  {
   "cell_type": "code",
   "execution_count": 36,
   "metadata": {
    "collapsed": true
   },
   "outputs": [],
   "source": [
    "Z = cvx.Semidef(num_sensors + dim)"
   ]
  },
  {
   "cell_type": "code",
   "execution_count": 37,
   "metadata": {
    "collapsed": true
   },
   "outputs": [],
   "source": [
    "#order of indexing: (1,2), (1,3), (1,4)... (9,10)\n",
    "delta_p_ss = cvx.Variable((int) (num_sensors*(num_sensors-1)/2))\n",
    "delta_pp_ss = cvx.Variable((int) (num_sensors*(num_sensors-1)/2))\n",
    "                           \n",
    "#order of indexing: (anchor, sensor), primary sort on anchors\n",
    "delta_p_sa = cvx.Variable(num_anchors * num_sensors)\n",
    "delta_pp_sa = cvx.Variable(num_anchors * num_sensors)"
   ]
  },
  {
   "cell_type": "code",
   "execution_count": 38,
   "metadata": {},
   "outputs": [],
   "source": [
    "constraints = []\n",
    "\n",
    "constraints.append(delta_p_ss >= 0)\n",
    "constraints.append(delta_pp_ss >= 0)\n",
    "constraints.append(delta_p_sa >= 0)\n",
    "constraints.append(delta_pp_sa >= 0)\n",
    "\n",
    "for id_constraint, rhs in zip(A[0], A[1]):\n",
    "    constraints.append(sum_elem_product(id_constraint, Z) == rhs)\n",
    "for id_constraint2, rhs in zip(B[0], B[1]):\n",
    "    constraints.append(sum_elem_product(id_constraint2, Z) == rhs)\n",
    "for sensor_constraint, rhs, dp, dpp in zip(C[0], C[1], delta_p_ss, delta_pp_ss):\n",
    "    constraints.append(sum_elem_product(sensor_constraint, Z) + \\\n",
    "                       dp - dpp == rhs)\n",
    "for anchor_constraint, rhs, dp, dpp in zip(D[0], D[1], delta_p_sa, delta_pp_sa):\n",
    "    constraints.append(sum_elem_product(anchor_constraint, Z) + \\\n",
    "                       dp - dpp == rhs)\n"
   ]
  },
  {
   "cell_type": "code",
   "execution_count": 39,
   "metadata": {
    "collapsed": true
   },
   "outputs": [],
   "source": [
    "objective = cvx.Minimize(cvx.sum_entries(delta_p_ss) + \\\n",
    "                         cvx.sum_entries(delta_pp_ss) + \\\n",
    "                         cvx.sum_entries(delta_p_sa) + \\\n",
    "                         cvx.sum_entries(delta_pp_sa))"
   ]
  },
  {
   "cell_type": "code",
   "execution_count": 40,
   "metadata": {
    "collapsed": true
   },
   "outputs": [],
   "source": [
    "prob = cvx.Problem(objective, constraints)\n",
    "result = prob.solve(solver = 'MOSEK')"
   ]
  },
  {
   "cell_type": "code",
   "execution_count": 41,
   "metadata": {},
   "outputs": [
    {
     "name": "stdout",
     "output_type": "stream",
     "text": [
      "Real sensors: \n",
      "[[ 1.54156573 -1.76389547]\n",
      " [-1.05057748  1.03173858]\n",
      " [ 1.98800959  1.01284084]\n",
      " [-1.45969671 -1.38504371]\n",
      " [-1.77460924  1.13546463]\n",
      " [ 0.63673365 -0.58291593]\n",
      " [-0.88334992 -1.69480079]\n",
      " [ 0.50113216 -0.31842127]\n",
      " [-1.25266142 -0.27797936]\n",
      " [-1.51687772 -0.96143237]]\n",
      "Generated Sensors: \n",
      "[[ 1.54156573 -1.76389547]\n",
      " [-1.05057748  1.03173858]\n",
      " [ 1.98800959  1.01284084]\n",
      " [-1.45969671 -1.38504371]\n",
      " [-1.77460924  1.13546463]\n",
      " [ 0.63673365 -0.58291593]\n",
      " [-0.88334992 -1.69480079]\n",
      " [ 0.50113216 -0.31842127]\n",
      " [-1.25266142 -0.27797936]\n",
      " [-1.51687772 -0.96143237]]\n"
     ]
    }
   ],
   "source": [
    "print(\"Real sensors: \")\n",
    "print(sensors)\n",
    "print(\"Generated Sensors: \")\n",
    "generated = np.transpose(Z[0:dim, dim:dim+num_sensors].value)\n",
    "print(generated)"
   ]
  },
  {
   "cell_type": "code",
   "execution_count": 42,
   "metadata": {},
   "outputs": [],
   "source": [
    "check = 1000\n",
    "max_iter = 10000\n",
    "k = 0\n",
    "\n",
    "# Initial sensors guess\n",
    "sensors_0 = generated\n",
    "sensors_k = sensors_0\n",
    "\n",
    "# D iteration\n",
    "alpha = .000001\n",
    "while check > 10**-8 and k < max_iter:\n",
    "    sensors_k1 = sensors_k - alpha * grad(sensors_k)\n",
    "    check = np.linalg.norm(sensors_k1 - sensors_k)\n",
    "    sensors_k = sensors_k1\n",
    "    k = k+1"
   ]
  },
  {
   "cell_type": "code",
   "execution_count": 43,
   "metadata": {},
   "outputs": [
    {
     "name": "stdout",
     "output_type": "stream",
     "text": [
      "Real sensors: \n",
      "[[ 1.54156573 -1.76389547]\n",
      " [-1.05057748  1.03173858]\n",
      " [ 1.98800959  1.01284084]\n",
      " [-1.45969671 -1.38504371]\n",
      " [-1.77460924  1.13546463]\n",
      " [ 0.63673365 -0.58291593]\n",
      " [-0.88334992 -1.69480079]\n",
      " [ 0.50113216 -0.31842127]\n",
      " [-1.25266142 -0.27797936]\n",
      " [-1.51687772 -0.96143237]]\n",
      "Generated Sensors: \n",
      "[[ 1.54156573 -1.76389547]\n",
      " [-1.05057748  1.03173858]\n",
      " [ 1.98800959  1.01284084]\n",
      " [-1.45969671 -1.38504371]\n",
      " [-1.77460924  1.13546463]\n",
      " [ 0.63673365 -0.58291593]\n",
      " [-0.88334992 -1.69480079]\n",
      " [ 0.50113216 -0.31842127]\n",
      " [-1.25266142 -0.27797936]\n",
      " [-1.51687772 -0.96143237]]\n"
     ]
    }
   ],
   "source": [
    "print(\"Real sensors: \")\n",
    "print(sensors)\n",
    "print(\"Generated Sensors: \")\n",
    "generated = np.transpose(Z[0:dim, dim:dim+num_sensors].value)\n",
    "print(generated)"
   ]
  },
  {
   "cell_type": "markdown",
   "metadata": {},
   "source": [
    "## Question 4"
   ]
  },
  {
   "cell_type": "code",
   "execution_count": 24,
   "metadata": {},
   "outputs": [
    {
     "name": "stdout",
     "output_type": "stream",
     "text": [
      "0\n",
      "1000\n",
      "2000\n",
      "3000\n",
      "4000\n",
      "5000\n",
      "6000\n",
      "7000\n",
      "8000\n",
      "9000\n",
      "10000\n",
      "11000\n",
      "12000\n",
      "13000\n",
      "14000\n",
      "15000\n",
      "16000\n",
      "17000\n",
      "18000\n",
      "19000\n"
     ]
    }
   ],
   "source": [
    "def sum_elem_product_noncvx(A,B):\n",
    "    return np.sum(np.multiply(A,B))\n",
    "\n",
    "def make_AX_less_b(X):\n",
    "    output = []\n",
    "    for id_constraint, rhs in zip(A[0], A[1]):\n",
    "        output.append(sum_elem_product_noncvx(id_constraint, X) - rhs)\n",
    "    for id_constraint2, rhs in zip(B[0], B[1]):\n",
    "        output.append(sum_elem_product_noncvx(id_constraint2, X) - rhs)\n",
    "    for sensor_constraint, rhs in zip(C[0], C[1]):\n",
    "        output.append(sum_elem_product_noncvx(sensor_constraint, X) - rhs)\n",
    "    for anchor_constraint, rhs in zip(D[0], D[1]):\n",
    "        output.append(sum_elem_product_noncvx(anchor_constraint, X) - rhs)\n",
    "    \n",
    "    return output\n",
    "\n",
    "def scriptAt_y(y):\n",
    "    output = np.zeros((dim+num_sensors,dim+num_sensors)) #start sum of y_i*A_i\n",
    "    i = 0\n",
    "    for id_constraint, rhs in zip(A[0], A[1]):\n",
    "        output += np.multiply(id_constraint, y[i])\n",
    "        i = i + 1\n",
    "    for id_constraint2, rhs in zip(B[0], B[1]):\n",
    "        output += np.multiply(id_constraint2, y[i])\n",
    "        i = i + 1\n",
    "    for sensor_constraint, rhs in zip(C[0], C[1]):\n",
    "        output += np.multiply(sensor_constraint, y[i])\n",
    "        i = i + 1\n",
    "    for anchor_constraint, rhs in zip(D[0], D[1]):\n",
    "        output += np.multiply(anchor_constraint, y[i])\n",
    "        i = i + 1\n",
    "    return output\n",
    "\n",
    "def grad(X):\n",
    "    return scriptAt_y(make_AX_less_b(X))\n",
    "\n",
    "me = np.zeros((dim+num_sensors,dim+num_sensors))\n",
    "me[0:dim,0:dim] = np.eye(dim)\n",
    "me[0:dim, dim:dim+num_sensors] = np.transpose(sensors)\n",
    "me[dim:dim+num_sensors, 0:dim] = sensors\n",
    "me[num_sensors:dim+num_sensors,num_sensors:dim+num_sensors] = \\\n",
    "        np.dot(np.transpose(sensors),sensors)\n",
    "\n",
    "#prepare iterations\n",
    "thing = random.rand(dim+num_sensors,dim+num_sensors)\n",
    "X_0 = np.dot(thing,thing.transpose())\n",
    "#X_0 = np.eye(dim+num_sensors)\n",
    "X_k = me\n",
    "X_k = X_0\n",
    "Beta = 100\n",
    "k = 0\n",
    "check = 1000\n",
    "max_iter = 20000\n",
    "\n",
    "while check > 10**-8 and k < max_iter:\n",
    "    \n",
    "    #get next iterate from descent\n",
    "    X_k1 = X_k - (1/Beta) * grad(X_k)\n",
    "    \n",
    "    #project back into cone with eigen decomp\n",
    "    [eigenvalues, V] = np.linalg.eig(X_k1)\n",
    "    eigenvalues[eigenvalues < 0] = 0\n",
    "    Lambda = np.diag(eigenvalues)\n",
    "    X_k1 = np.dot(np.dot(V, Lambda), np.transpose(V))\n",
    "    \n",
    "    #set up for next iteration\n",
    "    check = np.linalg.norm(X_k1 - X_k)  \n",
    "    X_k = X_k1\n",
    "    \n",
    "    if(k%1000 == 0):\n",
    "        print(k)\n",
    "    k = k+1\n",
    "\n"
   ]
  },
  {
   "cell_type": "code",
   "execution_count": 25,
   "metadata": {},
   "outputs": [
    {
     "name": "stdout",
     "output_type": "stream",
     "text": [
      "Real sensors: \n",
      "[[ 1.54156573 -1.76389547]\n",
      " [-1.05057748  1.03173858]\n",
      " [ 1.98800959  1.01284084]\n",
      " [-1.45969671 -1.38504371]\n",
      " [-1.77460924  1.13546463]\n",
      " [ 0.63673365 -0.58291593]\n",
      " [-0.88334992 -1.69480079]\n",
      " [ 0.50113216 -0.31842127]\n",
      " [-1.25266142 -0.27797936]\n",
      " [-1.51687772 -0.96143237]]\n",
      "Generated Sensors: \n",
      "[[ 1.54731918 -1.77165812]\n",
      " [-1.04461862  1.02349457]\n",
      " [ 1.99247072  1.00455557]\n",
      " [-1.4528653  -1.39260742]\n",
      " [-1.76840086  1.12722361]\n",
      " [ 0.64240995 -0.59080108]\n",
      " [-0.87669238 -1.70231672]\n",
      " [ 0.5067707  -0.32635264]\n",
      " [-1.24625099 -0.28592622]\n",
      " [-1.51014966 -0.96914022]]\n",
      "Correct: \n",
      "[[ 1.54156573 -1.76389547]\n",
      " [-1.05057748  1.03173858]\n",
      " [ 1.98800959  1.01284084]\n",
      " [-1.45969671 -1.38504371]\n",
      " [-1.77460924  1.13546463]\n",
      " [ 0.63673365 -0.58291593]\n",
      " [-0.88334992 -1.69480079]\n",
      " [ 0.50113216 -0.31842127]\n",
      " [-1.25266142 -0.27797936]\n",
      " [-1.51687772 -0.96143237]]\n"
     ]
    }
   ],
   "source": [
    "print(\"Real sensors: \")\n",
    "print(sensors)\n",
    "print(\"Generated Sensors: \")\n",
    "generated = np.transpose(X_k[0:dim, dim:dim+num_sensors])\n",
    "correct = np.transpose(me[0:dim, dim:dim+num_sensors])\n",
    "print(generated)\n",
    "print(\"Correct: \")\n",
    "print(correct)"
   ]
  },
  {
   "cell_type": "code",
   "execution_count": 259,
   "metadata": {},
   "outputs": [
    {
     "name": "stdout",
     "output_type": "stream",
     "text": [
      "0\n",
      "1000\n",
      "2000\n",
      "3000\n",
      "4000\n",
      "5000\n"
     ]
    },
    {
     "ename": "LinAlgError",
     "evalue": "Matrix is not positive definite",
     "output_type": "error",
     "traceback": [
      "\u001b[0;31m--------------------------------------------------------------------------\u001b[0m",
      "\u001b[0;31mLinAlgError\u001b[0m                              Traceback (most recent call last)",
      "\u001b[0;32m<ipython-input-259-5da59ccd10cb>\u001b[0m in \u001b[0;36m<module>\u001b[0;34m()\u001b[0m\n\u001b[1;32m     26\u001b[0m \u001b[0;34m\u001b[0m\u001b[0m\n\u001b[1;32m     27\u001b[0m     \u001b[0;31m#project back into cone with eigen decomp\u001b[0m\u001b[0;34m\u001b[0m\u001b[0;34m\u001b[0m\u001b[0m\n\u001b[0;32m---> 28\u001b[0;31m     \u001b[0;34m[\u001b[0m\u001b[0mL\u001b[0m\u001b[0;34m,\u001b[0m \u001b[0mD\u001b[0m\u001b[0;34m]\u001b[0m \u001b[0;34m=\u001b[0m \u001b[0mldl_decomp\u001b[0m\u001b[0;34m(\u001b[0m\u001b[0mX_k1\u001b[0m\u001b[0;34m)\u001b[0m\u001b[0;34m\u001b[0m\u001b[0m\n\u001b[0m\u001b[1;32m     29\u001b[0m     \u001b[0mD\u001b[0m\u001b[0;34m[\u001b[0m\u001b[0mD\u001b[0m \u001b[0;34m<\u001b[0m \u001b[0;36m0\u001b[0m\u001b[0;34m]\u001b[0m \u001b[0;34m=\u001b[0m \u001b[0;36m0\u001b[0m\u001b[0;34m\u001b[0m\u001b[0m\n\u001b[1;32m     30\u001b[0m     \u001b[0mD_psd\u001b[0m \u001b[0;34m=\u001b[0m \u001b[0mnp\u001b[0m\u001b[0;34m.\u001b[0m\u001b[0mdiag\u001b[0m\u001b[0;34m(\u001b[0m\u001b[0mD\u001b[0m\u001b[0;34m)\u001b[0m\u001b[0;34m\u001b[0m\u001b[0m\n",
      "\u001b[0;32m<ipython-input-259-5da59ccd10cb>\u001b[0m in \u001b[0;36mldl_decomp\u001b[0;34m(A)\u001b[0m\n\u001b[1;32m      5\u001b[0m     \u001b[0mSinv\u001b[0m \u001b[0;34m=\u001b[0m \u001b[0mnp\u001b[0m\u001b[0;34m.\u001b[0m\u001b[0mdiag\u001b[0m\u001b[0;34m(\u001b[0m\u001b[0;36m1\u001b[0m\u001b[0;34m/\u001b[0m\u001b[0mnp\u001b[0m\u001b[0;34m.\u001b[0m\u001b[0mdiag\u001b[0m\u001b[0;34m(\u001b[0m\u001b[0mA\u001b[0m\u001b[0;34m)\u001b[0m\u001b[0;34m)\u001b[0m\u001b[0;34m\u001b[0m\u001b[0m\n\u001b[1;32m      6\u001b[0m     \u001b[0mD\u001b[0m \u001b[0;34m=\u001b[0m \u001b[0mnp\u001b[0m\u001b[0;34m.\u001b[0m\u001b[0mmatrix\u001b[0m\u001b[0;34m(\u001b[0m\u001b[0mS\u001b[0m\u001b[0;34m.\u001b[0m\u001b[0mdot\u001b[0m\u001b[0;34m(\u001b[0m\u001b[0mS\u001b[0m\u001b[0;34m)\u001b[0m\u001b[0;34m)\u001b[0m\u001b[0;34m\u001b[0m\u001b[0m\n\u001b[0;32m----> 7\u001b[0;31m     \u001b[0mLch\u001b[0m \u001b[0;34m=\u001b[0m \u001b[0mnp\u001b[0m\u001b[0;34m.\u001b[0m\u001b[0mlinalg\u001b[0m\u001b[0;34m.\u001b[0m\u001b[0mcholesky\u001b[0m\u001b[0;34m(\u001b[0m\u001b[0mA\u001b[0m\u001b[0;34m)\u001b[0m\u001b[0;34m\u001b[0m\u001b[0m\n\u001b[0m\u001b[1;32m      8\u001b[0m     \u001b[0mL\u001b[0m \u001b[0;34m=\u001b[0m \u001b[0mnp\u001b[0m\u001b[0;34m.\u001b[0m\u001b[0mmatrix\u001b[0m\u001b[0;34m(\u001b[0m\u001b[0mLch\u001b[0m\u001b[0;34m.\u001b[0m\u001b[0mdot\u001b[0m\u001b[0;34m(\u001b[0m\u001b[0mSinv\u001b[0m\u001b[0;34m)\u001b[0m\u001b[0;34m)\u001b[0m\u001b[0;34m\u001b[0m\u001b[0m\n\u001b[1;32m      9\u001b[0m     \u001b[0;32mreturn\u001b[0m \u001b[0mL\u001b[0m\u001b[0;34m,\u001b[0m \u001b[0mD\u001b[0m\u001b[0;34m\u001b[0m\u001b[0m\n",
      "\u001b[0;32m/Users/josephhiggins/anaconda/lib/python3.6/site-packages/numpy/linalg/linalg.py\u001b[0m in \u001b[0;36mcholesky\u001b[0;34m(a)\u001b[0m\n\u001b[1;32m    597\u001b[0m     \u001b[0mt\u001b[0m\u001b[0;34m,\u001b[0m \u001b[0mresult_t\u001b[0m \u001b[0;34m=\u001b[0m \u001b[0m_commonType\u001b[0m\u001b[0;34m(\u001b[0m\u001b[0ma\u001b[0m\u001b[0;34m)\u001b[0m\u001b[0;34m\u001b[0m\u001b[0m\n\u001b[1;32m    598\u001b[0m     \u001b[0msignature\u001b[0m \u001b[0;34m=\u001b[0m \u001b[0;34m'D->D'\u001b[0m \u001b[0;32mif\u001b[0m \u001b[0misComplexType\u001b[0m\u001b[0;34m(\u001b[0m\u001b[0mt\u001b[0m\u001b[0;34m)\u001b[0m \u001b[0;32melse\u001b[0m \u001b[0;34m'd->d'\u001b[0m\u001b[0;34m\u001b[0m\u001b[0m\n\u001b[0;32m--> 599\u001b[0;31m     \u001b[0mr\u001b[0m \u001b[0;34m=\u001b[0m \u001b[0mgufunc\u001b[0m\u001b[0;34m(\u001b[0m\u001b[0ma\u001b[0m\u001b[0;34m,\u001b[0m \u001b[0msignature\u001b[0m\u001b[0;34m=\u001b[0m\u001b[0msignature\u001b[0m\u001b[0;34m,\u001b[0m \u001b[0mextobj\u001b[0m\u001b[0;34m=\u001b[0m\u001b[0mextobj\u001b[0m\u001b[0;34m)\u001b[0m\u001b[0;34m\u001b[0m\u001b[0m\n\u001b[0m\u001b[1;32m    600\u001b[0m     \u001b[0;32mreturn\u001b[0m \u001b[0mwrap\u001b[0m\u001b[0;34m(\u001b[0m\u001b[0mr\u001b[0m\u001b[0;34m.\u001b[0m\u001b[0mastype\u001b[0m\u001b[0;34m(\u001b[0m\u001b[0mresult_t\u001b[0m\u001b[0;34m,\u001b[0m \u001b[0mcopy\u001b[0m\u001b[0;34m=\u001b[0m\u001b[0;32mFalse\u001b[0m\u001b[0;34m)\u001b[0m\u001b[0;34m)\u001b[0m\u001b[0;34m\u001b[0m\u001b[0m\n\u001b[1;32m    601\u001b[0m \u001b[0;34m\u001b[0m\u001b[0m\n",
      "\u001b[0;32m/Users/josephhiggins/anaconda/lib/python3.6/site-packages/numpy/linalg/linalg.py\u001b[0m in \u001b[0;36m_raise_linalgerror_nonposdef\u001b[0;34m(err, flag)\u001b[0m\n\u001b[1;32m     91\u001b[0m \u001b[0;34m\u001b[0m\u001b[0m\n\u001b[1;32m     92\u001b[0m \u001b[0;32mdef\u001b[0m \u001b[0m_raise_linalgerror_nonposdef\u001b[0m\u001b[0;34m(\u001b[0m\u001b[0merr\u001b[0m\u001b[0;34m,\u001b[0m \u001b[0mflag\u001b[0m\u001b[0;34m)\u001b[0m\u001b[0;34m:\u001b[0m\u001b[0;34m\u001b[0m\u001b[0m\n\u001b[0;32m---> 93\u001b[0;31m     \u001b[0;32mraise\u001b[0m \u001b[0mLinAlgError\u001b[0m\u001b[0;34m(\u001b[0m\u001b[0;34m\"Matrix is not positive definite\"\u001b[0m\u001b[0;34m)\u001b[0m\u001b[0;34m\u001b[0m\u001b[0m\n\u001b[0m\u001b[1;32m     94\u001b[0m \u001b[0;34m\u001b[0m\u001b[0m\n\u001b[1;32m     95\u001b[0m \u001b[0;32mdef\u001b[0m \u001b[0m_raise_linalgerror_eigenvalues_nonconvergence\u001b[0m\u001b[0;34m(\u001b[0m\u001b[0merr\u001b[0m\u001b[0;34m,\u001b[0m \u001b[0mflag\u001b[0m\u001b[0;34m)\u001b[0m\u001b[0;34m:\u001b[0m\u001b[0;34m\u001b[0m\u001b[0m\n",
      "\u001b[0;31mLinAlgError\u001b[0m: Matrix is not positive definite"
     ]
    }
   ],
   "source": [
    "def ldl_decomp(A):\n",
    "    A = np.matrix(A)\n",
    "\n",
    "    S = np.diag(np.diag(A))\n",
    "    Sinv = np.diag(1/np.diag(A))\n",
    "    D = np.matrix(S.dot(S))\n",
    "    Lch = np.linalg.cholesky(A)\n",
    "    L = np.matrix(Lch.dot(Sinv))\n",
    "    return L, D\n",
    "\n",
    "#prepare iterations\n",
    "thing = random.rand(dim+num_sensors,dim+num_sensors)\n",
    "X_0 = np.dot(thing,thing.transpose())\n",
    "X_0 = np.eye(dim+num_sensors)\n",
    "X_k = X_0\n",
    "Beta = 100\n",
    "k = 0\n",
    "check = 1000\n",
    "max_iter = 20000\n",
    "\n",
    "    \n",
    "while check > 10**-8 and k < max_iter:\n",
    "    \n",
    "    #get next iterate from descent\n",
    "    X_k1 = X_k - (1/Beta) * grad(X_k)\n",
    "    \n",
    "    #project back into cone with eigen decomp\n",
    "    [L, D] = ldl_decomp(X_k1)\n",
    "    D[D < 0] = 0\n",
    "    D_psd = np.diag(D)\n",
    "    X_k1 = np.dot(np.dot(L, D), np.transpose(L))\n",
    "    \n",
    "    #set up for next iteration\n",
    "    check = np.linalg.norm(X_k1 - X_k)  \n",
    "    X_k = X_k1\n",
    "    \n",
    "    if(k%1000 == 0):\n",
    "        print(k)\n",
    "    k = k+1"
   ]
  },
  {
   "cell_type": "code",
   "execution_count": 212,
   "metadata": {},
   "outputs": [
    {
     "data": {
      "text/plain": [
       "[0.0,\n",
       " 0.0,\n",
       " 0.0,\n",
       " -6.0543978243369905,\n",
       " -0.4254131200884172,\n",
       " -3.6293859911697908,\n",
       " -4.1914071380431404,\n",
       " -3.2186659061052785,\n",
       " -6.8219613854772669,\n",
       " -2.3777212072599072,\n",
       " 5.9167859115221191,\n",
       " 16.421254501737202,\n",
       " -3.2818452180582298,\n",
       " -13.286462951137706,\n",
       " -2.0033990664612293,\n",
       " -2.8436844382657802,\n",
       " -0.033661863263293165,\n",
       " -8.9766942833819314,\n",
       " 5.3181400185813379,\n",
       " 5.4121199770106667,\n",
       " -5.2026794839133785,\n",
       " -2.3085081291098395,\n",
       " -1.8087626736644054,\n",
       " -3.8436493537534271,\n",
       " -2.7752121597964439,\n",
       " 6.7977534793777057,\n",
       " 14.593556859355562,\n",
       " -14.414563740085788,\n",
       " -13.086033815957123,\n",
       " -14.648313468351745,\n",
       " -11.255242373876593,\n",
       " 4.9009926129677863,\n",
       " 17.218461074969575,\n",
       " -0.13845570996034789,\n",
       " -2.0197532330633368,\n",
       " -3.3183065697499936,\n",
       " 2.6029976861337429,\n",
       " 6.8808490868078316,\n",
       " -2.9587662042100917,\n",
       " -2.1034475913264417,\n",
       " 2.6331062155750962,\n",
       " 8.5078220775542057,\n",
       " -9.4485275071455579,\n",
       " 4.6238029717387175,\n",
       " 4.1648569573554965,\n",
       " -0.41121501709174524,\n",
       " 11.6845926196882,\n",
       " 27.52930228342689,\n",
       " -0.14131000375135283,\n",
       " -4.3894931159914838,\n",
       " -0.098767151623567973,\n",
       " -4.0223708036396726,\n",
       " -3.2944932430983105,\n",
       " -2.6006735598371917,\n",
       " -5.0649450417259327,\n",
       " -2.8501134118099234,\n",
       " 6.78494943858,\n",
       " 15.677216892897434,\n",
       " -0.14131000375135305,\n",
       " -4.3894931159914847,\n",
       " -0.098767151623567084,\n",
       " -4.0223708036396726,\n",
       " -3.2944932430983114,\n",
       " -2.6006735598371913,\n",
       " -5.0649450417259327,\n",
       " -2.8501134118099221,\n",
       " 6.7849494385799982,\n",
       " 15.677216892897434,\n",
       " -0.14131000375135305,\n",
       " -4.3894931159914883,\n",
       " -0.09876715162356664,\n",
       " -4.0223708036396744,\n",
       " -3.2944932430983105,\n",
       " -2.6006735598371939,\n",
       " -5.0649450417259327,\n",
       " -2.8501134118099229,\n",
       " 6.7849494385799991,\n",
       " 15.677216892897434,\n",
       " -0.14131000375135372,\n",
       " -4.3894931159914838,\n",
       " -0.098767151623567084,\n",
       " -4.0223708036396761,\n",
       " -3.2944932430983105,\n",
       " -2.6006735598371917,\n",
       " -5.0649450417259327,\n",
       " -2.8501134118099221,\n",
       " 6.7849494385800009,\n",
       " 15.677216892897432]"
      ]
     },
     "execution_count": 212,
     "metadata": {},
     "output_type": "execute_result"
    }
   ],
   "source": [
    "me = np.zeros((dim+num_sensors,dim+num_sensors))\n",
    "me[0:dim,0:dim] = np.eye(dim)\n",
    "me[0:dim, dim:dim+num_sensors] = np.transpose(sensors)\n",
    "me[dim:dim+num_sensors, 0:dim] = sensors\n",
    "me[num_sensors:dim+num_sensors,num_sensors:dim+num_sensors] = \\\n",
    "        np.dot(np.transpose(sensors),sensors)\n",
    "\n",
    "make_AX_less_b(me)"
   ]
  },
  {
   "cell_type": "code",
   "execution_count": 28,
   "metadata": {
    "collapsed": true
   },
   "outputs": [],
   "source": [
    "import scipy\n",
    "from scipy.linalg import eigh\n",
    "def pca(X):\n",
    "    [evalues, evectors] = scipy.linalg.eigh(X)\n",
    "    \n",
    "    idx = evalues.argsort()[::-1]   \n",
    "    evalues = evalues[idx]\n",
    "    evectors = evectors[:,idx]\n",
    "    \n",
    "    matrix = np.zeros(X.shape)\n",
    "    width = evalues.shape[0]\n",
    "    for i in range(8):\n",
    "        index = width - i - 1\n",
    "        if index >= 0 and evalues[index] > 0:\n",
    "            matrix += evalues[index] * np.outer(evectors[:, index], evectors[:, index])\n",
    "    return matrix"
   ]
  },
  {
   "cell_type": "code",
   "execution_count": 29,
   "metadata": {},
   "outputs": [
    {
     "name": "stdout",
     "output_type": "stream",
     "text": [
      "0\n",
      "1000\n",
      "2000\n",
      "3000\n",
      "4000\n",
      "5000\n",
      "6000\n",
      "7000\n",
      "8000\n",
      "9000\n",
      "10000\n",
      "11000\n",
      "12000\n",
      "13000\n",
      "14000\n",
      "15000\n",
      "16000\n",
      "17000\n",
      "18000\n",
      "19000\n"
     ]
    }
   ],
   "source": [
    "thing = random.rand(dim+num_sensors,dim+num_sensors)\n",
    "X_0 = np.dot(thing,thing.transpose())\n",
    "X_0 = np.eye(dim+num_sensors)\n",
    "X_k = X_0\n",
    "Beta = 100\n",
    "k = 0\n",
    "check = 1000\n",
    "max_iter = 20000\n",
    "\n",
    "while check > 10**-8 and k < max_iter:\n",
    "    \n",
    "    #get next iterate from descent\n",
    "    X_k1 = X_k - (1/Beta) * grad(X_k)\n",
    "    \n",
    "    #project back into cone with eigen decomp\n",
    "    X_k1 = pca(X_k1) \n",
    "    \n",
    "    #set up for next iteration\n",
    "    check = np.linalg.norm(X_k1 - X_k)  \n",
    "    X_k = X_k1\n",
    "    \n",
    "    if(k%1000 == 0):\n",
    "        print(k)\n",
    "    k = k+1"
   ]
  },
  {
   "cell_type": "code",
   "execution_count": 30,
   "metadata": {},
   "outputs": [
    {
     "name": "stdout",
     "output_type": "stream",
     "text": [
      "Real sensors: \n",
      "[[ 1.54156573 -1.76389547]\n",
      " [-1.05057748  1.03173858]\n",
      " [ 1.98800959  1.01284084]\n",
      " [-1.45969671 -1.38504371]\n",
      " [-1.77460924  1.13546463]\n",
      " [ 0.63673365 -0.58291593]\n",
      " [-0.88334992 -1.69480079]\n",
      " [ 0.50113216 -0.31842127]\n",
      " [-1.25266142 -0.27797936]\n",
      " [-1.51687772 -0.96143237]]\n",
      "Generated Sensors: \n",
      "[[ 0.0515302  -0.12690548]\n",
      " [-0.02343274 -0.01411685]\n",
      " [-0.23604401 -0.20466439]\n",
      " [ 0.13311265 -0.07952421]\n",
      " [ 0.03535156 -0.01629193]\n",
      " [ 0.06025325 -0.10577756]\n",
      " [-0.09492264  0.24431221]\n",
      " [ 0.19514649 -0.2408509 ]\n",
      " [ 0.18934783 -0.14848494]\n",
      " [ 0.1036183  -0.00079884]]\n",
      "Correct: \n",
      "[[ 1.54156573 -1.76389547]\n",
      " [-1.05057748  1.03173858]\n",
      " [ 1.98800959  1.01284084]\n",
      " [-1.45969671 -1.38504371]\n",
      " [-1.77460924  1.13546463]\n",
      " [ 0.63673365 -0.58291593]\n",
      " [-0.88334992 -1.69480079]\n",
      " [ 0.50113216 -0.31842127]\n",
      " [-1.25266142 -0.27797936]\n",
      " [-1.51687772 -0.96143237]]\n"
     ]
    }
   ],
   "source": [
    "print(\"Real sensors: \")\n",
    "print(sensors)\n",
    "print(\"Generated Sensors: \")\n",
    "generated = np.transpose(X_k[0:dim, dim:dim+num_sensors])\n",
    "correct = np.transpose(me[0:dim, dim:dim+num_sensors])\n",
    "print(generated)\n",
    "print(\"Correct: \")\n",
    "print(correct)"
   ]
  }
 ],
 "metadata": {
  "kernelspec": {
   "display_name": "Python 3",
   "language": "python",
   "name": "python3"
  },
  "language_info": {
   "codemirror_mode": {
    "name": "ipython",
    "version": 3
   },
   "file_extension": ".py",
   "mimetype": "text/x-python",
   "name": "python",
   "nbconvert_exporter": "python",
   "pygments_lexer": "ipython3",
   "version": "3.6.3"
  }
 },
 "nbformat": 4,
 "nbformat_minor": 2
}
