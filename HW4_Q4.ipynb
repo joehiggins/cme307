{
 "cells": [
  {
   "cell_type": "code",
   "execution_count": 10,
   "metadata": {},
   "outputs": [
    {
     "name": "stdout",
     "output_type": "stream",
     "text": [
      "[0, 1, 2]\n"
     ]
    }
   ],
   "source": [
    "import numpy as np\n",
    "\n",
    "e = np.exp(1)\n",
    "\n",
    "pos_data = np.matrix([\n",
    "    [ -0.01, -0.01],\n",
    "    [ 1, 0],\n",
    "    [ 0, 1]\n",
    "])\n",
    "neg_data = np.matrix([\n",
    "    [ 0.01, 0.01],\n",
    "    [-1, 0],\n",
    "    [ 0,-1]\n",
    "])\n",
    "\n",
    "# Add shift variable\n",
    "pos_data = np.hstack((pos_data, np.ones((3,1))))\n",
    "neg_data = np.hstack((neg_data, np.ones((3,1))))\n",
    "\n",
    "print([x for x in range(3)])"
   ]
  },
  {
   "cell_type": "code",
   "execution_count": 19,
   "metadata": {},
   "outputs": [],
   "source": [
    "def hess(x):\n",
    "    output_hess = np.zeros((3, 3))\n",
    "    for j in range(3):\n",
    "        pos_sum = np.zeros((1,3))\n",
    "        neg_sum = np.zeros((1,3))\n",
    "        for i in range(3):\n",
    "            num = e**(-1 * np.dot(pos_data[i, :], x)) \\\n",
    "                  * pos_data[i, j]\n",
    "            den = (1 + e**(-1 * np.dot(pos_data[i, :], x)))**2\n",
    "            pos_sum += (num/den)*pos_data[i, :]\n",
    "                          \n",
    "            num = e**(np.dot(neg_data[i, :], x)) \\\n",
    "                  * neg_data[i, j]\n",
    "            den = (1 + e**(np.dot(neg_data[i, :], x)))**2\n",
    "            neg_sum += (num/den)*neg_data[i, :]\n",
    "        output_hess[j,:] = pos_sum + neg_sum\n",
    "    return output_hess"
   ]
  },
  {
   "cell_type": "code",
   "execution_count": 22,
   "metadata": {
    "collapsed": true
   },
   "outputs": [],
   "source": [
    "def grad(x):\n",
    "    \n",
    "    pos_data_sum = \\\n",
    "        e**(-1*np.dot(pos_data[0,:], x))/(1 + e**(-1*np.dot(pos_data[0,:], x))) * \\\n",
    "        pos_data[0,:] + e**(-1*np.dot(pos_data[1,:], x))/ \\\n",
    "        (1 + e**(-1*np.dot(pos_data[1,:], x))) * pos_data[1,:] + \\\n",
    "        e**(-1*np.dot(pos_data[2,:], x))/(1 + e**(-1*np.dot(pos_data[2,:], x))) * \\\n",
    "        pos_data[2,:]\n",
    "\n",
    "    neg_data_sum = \\\n",
    "        e**(np.dot(neg_data[0,:], x))/(1 + e**(np.dot(neg_data[0,:], x))) * \\\n",
    "        neg_data[0,:] + e**(np.dot(neg_data[1,:], x))/ \\\n",
    "        (1 + e**(np.dot(neg_data[1,:], x))) * neg_data[1,:] + \\\n",
    "        e**(np.dot(neg_data[2,:], x))/(1 + e**(np.dot(neg_data[2,:], x))) * \\\n",
    "        neg_data[2,:]\n",
    "        \n",
    "    return np.transpose(-1*pos_data_sum + neg_data_sum)"
   ]
  },
  {
   "cell_type": "code",
   "execution_count": 32,
   "metadata": {
    "collapsed": true
   },
   "outputs": [],
   "source": [
    "x_0 = np.matrix([\n",
    "    [0], \n",
    "    [0],\n",
    "    [0]\n",
    "])\n",
    "check = 1000\n",
    "max_iter = 10000\n",
    "k = 0\n",
    "x_k = x_0"
   ]
  },
  {
   "cell_type": "code",
   "execution_count": null,
   "metadata": {
    "collapsed": true
   },
   "outputs": [],
   "source": [
    "while check > 10**-8 and k < max_iter:\n",
    "\n",
    "    x_k1 = x_k - np.linalg.inv(hess(x_k)) * grad(x_k)\n",
    "    check = np.linalg.norm(x_k1 - x_k)\n",
    "    x_k = x_k1\n",
    "    k = k+1"
   ]
  },
  {
   "cell_type": "code",
   "execution_count": null,
   "metadata": {
    "collapsed": true
   },
   "outputs": [],
   "source": [
    "def next_d(x_k, S_k):\n",
    "    return -1 * np.dot(np.transpose(S_k), grad(x_k))\n",
    "def p_k(alpha_k, d_k):\n",
    "    return alpha_k, d_k\n",
    "def q_k(S_k_1):\n",
    "    return np.linalg.solve(S_k_1 + )\n",
    "def next_s(p_k, q_k, S_k):\n",
    "    return S_k + (1 + np.dot(np.transpose(q_k), ))"
   ]
  },
  {
   "cell_type": "code",
   "execution_count": 38,
   "metadata": {},
   "outputs": [
    {
     "name": "stdout",
     "output_type": "stream",
     "text": [
      "1.40007142675\n",
      "1.05695961332\n",
      "0.61194257843\n",
      "0.393187047984\n",
      "0.254562711423\n",
      "0.16606595032\n",
      "0.108385896502\n",
      "0.0705216583266\n",
      "0.0455616482008\n",
      "0.0290976300203\n",
      "0.0182705604369\n",
      "0.0112093052239\n",
      "0.00667693409418\n",
      "0.00384218565881\n",
      "0.00213231319772\n",
      "0.00114454568899\n",
      "0.000598160603573\n",
      "0.000306831611927\n",
      "0.00015557490783\n",
      "7.83610502496e-05\n",
      "3.93286743989e-05\n",
      "1.97020075507e-05\n",
      "9.86050321642e-06\n",
      "4.93263688032e-06\n",
      "2.46691607128e-06\n",
      "1.23360760829e-06\n",
      "6.16841217954e-07\n",
      "3.08429965029e-07\n",
      "1.54217321837e-07\n",
      "7.71092458012e-08\n",
      "3.85547691179e-08\n",
      "1.9277421109e-08\n",
      "9.63871969293e-09\n",
      "[[ 5.24199432]\n",
      " [ 5.24199432]\n",
      " [ 0.        ]]\n"
     ]
    }
   ],
   "source": [
    "alpha_k = 0.5 # IniLearning rate\n",
    "\n",
    "x_0 = np.matrix([\n",
    "    [0], \n",
    "    [0],\n",
    "    [0]\n",
    "])\n",
    "check = 1000\n",
    "max_iter = 10000\n",
    "k = 0\n",
    "x_k1 = x_0\n",
    "B_k = np.eye(3, 3)\n",
    "\n",
    "while check > 10**-8 and k < max_iter:\n",
    "    x_k = x_k1\n",
    "    p_k = np.linalg.solve(B_k, -1 * grad(x_k))\n",
    "    s_k = alpha * p_k\n",
    "    x_k1 = x_k + s_k\n",
    "    y_k = grad(x_k1) - grad(x_k)\n",
    "    \n",
    "    middle = np.dot(y_k, np.transpose(y_k)) / \\\n",
    "        np.dot(np.transpose(y_k), s_k)\n",
    "    BS = np.dot(B_k, s_k)\n",
    "    last = np.dot(BS, np.transpose(BS)) / \\\n",
    "            np.dot(np.transpose(s_k), BS) \n",
    "    \n",
    "    B_k = B_k + middle - last\n",
    "    check = np.linalg.norm(grad(x_k))\n",
    "print(x_k)"
   ]
  },
  {
   "cell_type": "code",
   "execution_count": null,
   "metadata": {
    "collapsed": true
   },
   "outputs": [],
   "source": []
  }
 ],
 "metadata": {
  "kernelspec": {
   "display_name": "Python 3",
   "language": "python",
   "name": "python3"
  },
  "language_info": {
   "codemirror_mode": {
    "name": "ipython",
    "version": 3
   },
   "file_extension": ".py",
   "mimetype": "text/x-python",
   "name": "python",
   "nbconvert_exporter": "python",
   "pygments_lexer": "ipython3",
   "version": "3.6.3"
  }
 },
 "nbformat": 4,
 "nbformat_minor": 2
}
