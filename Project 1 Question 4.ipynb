{
 "cells": [
  {
   "cell_type": "code",
   "execution_count": 1,
   "metadata": {
    "collapsed": true
   },
   "outputs": [],
   "source": [
    "# Import necessary modules\n",
    "import cvxpy as cvx\n",
    "import numpy as np\n",
    "import scipy\n",
    "from scipy import random\n",
    "from scipy import linalg\n",
    "from scipy.linalg import eigh"
   ]
  },
  {
   "cell_type": "code",
   "execution_count": 2,
   "metadata": {
    "collapsed": true
   },
   "outputs": [],
   "source": [
    "def generate_points(num, dim):\n",
    "    return np.matrix(4 * np.random.random((num, dim)) - 2)"
   ]
  },
  {
   "cell_type": "code",
   "execution_count": 3,
   "metadata": {
    "collapsed": true
   },
   "outputs": [],
   "source": [
    "num_sensors = 10\n",
    "num_anchors = 4\n",
    "dim = 2\n",
    "range_mult = 1\n",
    "\n",
    "anchors = generate_points(num_anchors, dim) * range_mult\n",
    "sensors = generate_points(num_sensors, dim)\n",
    "\n",
    "d_sa = list(map(lambda s: list(map(lambda a: np.linalg.norm(a - s), anchors)), sensors))\n",
    "\n",
    "d_ss = list(map(lambda s1: \n",
    "        list(map(lambda s2: np.linalg.norm(s1 - s2), sensors))\n",
    "    , sensors))"
   ]
  },
  {
   "cell_type": "code",
   "execution_count": 4,
   "metadata": {
    "collapsed": true
   },
   "outputs": [],
   "source": [
    "# Same as from Question 1.\n",
    "# Make first set of constraint matrices (look like identity)\n",
    "def enforce_id(dim, num_sensors):\n",
    "    matrices = []\n",
    "    rhs = []\n",
    "    for i in range(dim):\n",
    "        new_matrix = np.zeros((dim+num_sensors, dim+num_sensors))\n",
    "        new_matrix[i,i] = 1\n",
    "        matrices.append(new_matrix)\n",
    "        rhs.append(1)\n",
    "        \n",
    "    return (matrices, rhs)\n",
    "\n",
    "#Make second set of constraint matrices (symmetric holders) \n",
    "def enforce_id2(dim, num_sensors):\n",
    "    matrices = []\n",
    "    rhs = []\n",
    "    for i in range(dim):\n",
    "        for j in range(dim):\n",
    "            new_matrix = np.identity(dim)\n",
    "            if(j > i):\n",
    "                new_matrix[i,j] = 1\n",
    "                new_matrix[j,i] = 1\n",
    "                big_matrix = np.zeros((dim+num_sensors, dim+num_sensors))\n",
    "                big_matrix[0:dim,0:dim] = new_matrix\n",
    "                matrices.append(big_matrix)\n",
    "                rhs.append(dim)\n",
    "                \n",
    "    return (matrices, rhs)\n",
    "\n",
    "\n",
    "#Make third set of constraint matrices (anchors to sensors)\n",
    "def sensor_constraints(dim, num_sensors):\n",
    "    matrices = []\n",
    "    rhs = []\n",
    "    zero_vec_dim = np.zeros(dim)\n",
    "    for i in range(num_sensors):\n",
    "        for j in range(i+1, num_sensors):\n",
    "            zero_vec_num_s = np.zeros(num_sensors)\n",
    "            zero_vec_num_s[i] = 1\n",
    "            zero_vec_num_s[j] = -1\n",
    "            \n",
    "            new_vec = np.matrix(np.append(zero_vec_dim, zero_vec_num_s))\n",
    "            \n",
    "            new_matrix = np.dot(np.transpose(new_vec), new_vec)\n",
    "            \n",
    "            matrices.append(new_matrix)\n",
    "            rhs.append(d_ss[i][j]**2)\n",
    "\n",
    "    return (matrices, rhs)\n",
    "\n",
    "#Make fourth set of constraint matrices (sensors to sensors)\n",
    "def anchor_constraints(num_anchors, num_sensors):\n",
    "    matrices = []\n",
    "    rhs = []\n",
    "    for i in range(num_anchors):\n",
    "        for j in range(num_sensors):\n",
    "            zero_vec_num_s = np.zeros(num_sensors)\n",
    "            zero_vec_num_s[j] = -1\n",
    "\n",
    "            new_vec = np.append(np.array(anchors[i,:]), np.array(zero_vec_num_s))\n",
    "            new_vec = np.matrix(new_vec)\n",
    "            new_matrix = np.dot(np.transpose(new_vec), new_vec)\n",
    "            matrices.append(new_matrix)\n",
    "            rhs.append(d_sa[j][i]**2)\n",
    "\n",
    "    return (matrices, rhs)\n",
    "\n",
    "A = enforce_id(dim, num_sensors)\n",
    "B = enforce_id2(dim, num_sensors)\n",
    "C = sensor_constraints(dim, num_sensors)\n",
    "D = anchor_constraints(num_anchors, num_sensors)"
   ]
  },
  {
   "cell_type": "code",
   "execution_count": 5,
   "metadata": {
    "collapsed": true
   },
   "outputs": [],
   "source": [
    "def sum_elem_product_noncvx(A,B):\n",
    "    return np.sum(np.multiply(A,B))\n",
    "\n",
    "def make_AX_less_b(X):\n",
    "    output = []\n",
    "    for id_constraint, rhs in zip(A[0], A[1]):\n",
    "        output.append(sum_elem_product_noncvx(id_constraint, X) - rhs)\n",
    "    for id_constraint2, rhs in zip(B[0], B[1]):\n",
    "        output.append(sum_elem_product_noncvx(id_constraint2, X) - rhs)\n",
    "    for sensor_constraint, rhs in zip(C[0], C[1]):\n",
    "        output.append(sum_elem_product_noncvx(sensor_constraint, X) - rhs)\n",
    "    for anchor_constraint, rhs in zip(D[0], D[1]):\n",
    "        output.append(sum_elem_product_noncvx(anchor_constraint, X) - rhs)\n",
    "    \n",
    "    return output\n",
    "\n",
    "def scriptAt_y(y):\n",
    "    output = np.zeros((dim+num_sensors,dim+num_sensors)) #start sum of y_i*A_i\n",
    "    i = 0\n",
    "    for id_constraint, rhs in zip(A[0], A[1]):\n",
    "        output += np.multiply(id_constraint, y[i])\n",
    "        i = i + 1\n",
    "    for id_constraint2, rhs in zip(B[0], B[1]):\n",
    "        output += np.multiply(id_constraint2, y[i])\n",
    "        i = i + 1\n",
    "    for sensor_constraint, rhs in zip(C[0], C[1]):\n",
    "        output += np.multiply(sensor_constraint, y[i])\n",
    "        i = i + 1\n",
    "    for anchor_constraint, rhs in zip(D[0], D[1]):\n",
    "        output += np.multiply(anchor_constraint, y[i])\n",
    "        i = i + 1\n",
    "    return output\n",
    "\n",
    "def grad(X):\n",
    "    return scriptAt_y(make_AX_less_b(X))"
   ]
  },
  {
   "cell_type": "code",
   "execution_count": 6,
   "metadata": {},
   "outputs": [],
   "source": [
    "def eigen_decomp_project(X_k1):\n",
    "    [eigenvalues, V] = np.linalg.eig(X_k1)\n",
    "    eigenvalues[eigenvalues < 0] = 0\n",
    "    Lambda = np.diag(eigenvalues)\n",
    "    return np.dot(np.dot(V, Lambda), np.transpose(V))"
   ]
  },
  {
   "cell_type": "code",
   "execution_count": 7,
   "metadata": {
    "collapsed": true
   },
   "outputs": [],
   "source": [
    "def ldl_decomp_project(X_k1):\n",
    "    def ldl_decomp(A):\n",
    "        A = np.matrix(A)\n",
    "\n",
    "        S = np.diag(np.diag(A))\n",
    "        Sinv = np.diag(1/np.diag(A))\n",
    "        D = np.matrix(S.dot(S))\n",
    "        Lch = np.linalg.cholesky(A)\n",
    "        L = np.matrix(Lch.dot(Sinv))\n",
    "        return L, D\n",
    "    [L, D] = ldl_decomp(X_k1)\n",
    "    D[D < 0] = 0\n",
    "    D_psd = np.diag(D)\n",
    "    return np.dot(np.dot(L, D), np.transpose(L))"
   ]
  },
  {
   "cell_type": "code",
   "execution_count": 8,
   "metadata": {
    "collapsed": true
   },
   "outputs": [],
   "source": [
    "def pca_proj(X):\n",
    "    [evalues, evectors] = scipy.linalg.eigh(X)\n",
    "    \n",
    "    idx = evalues.argsort()[::-1]   \n",
    "    evalues = evalues[idx]\n",
    "    evectors = evectors[:,idx]\n",
    "    \n",
    "    matrix = np.zeros(X.shape)\n",
    "    width = evalues.shape[0]\n",
    "    for i in range(6):\n",
    "        index = width - i - 1\n",
    "        if index >= 0 and evalues[index] > 0:\n",
    "            matrix += evalues[index] * np.outer(evectors[:, index], evectors[:, index])\n",
    "    return matrix"
   ]
  },
  {
   "cell_type": "code",
   "execution_count": 9,
   "metadata": {
    "collapsed": true
   },
   "outputs": [],
   "source": [
    "Beta = 100\n",
    "def run_solver(method_name, projection_func):\n",
    "    thing = random.rand(dim + num_sensors, dim + num_sensors)\n",
    "    X_0 = np.dot(thing,thing.transpose())\n",
    "    X_k = X_0\n",
    "    k = 0\n",
    "    check = 1000\n",
    "    max_iter = 20000\n",
    "    \n",
    "    while check > 10**-8 and k < max_iter:\n",
    "        # Get next iterate from descent\n",
    "        X_k1 = X_k - (1/Beta) * grad(X_k)\n",
    "\n",
    "        # Project back into cone with eigen decomp\n",
    "        X_k1 = projection_func(X_k1)\n",
    "\n",
    "        #set up for next iteration\n",
    "        check = np.linalg.norm(X_k1 - X_k)  \n",
    "        X_k = X_k1\n",
    "\n",
    "        k = k+1\n",
    "    \n",
    "    print(\"Generated Sensors for method \" + method_name)\n",
    "    generated = np.transpose(X_k[0:dim, dim:dim+num_sensors])\n",
    "    print(generated)"
   ]
  },
  {
   "cell_type": "code",
   "execution_count": 10,
   "metadata": {},
   "outputs": [
    {
     "name": "stdout",
     "output_type": "stream",
     "text": [
      "Real sensors: \n",
      "[[ 0.97591557 -1.90590207]\n",
      " [ 0.98879867 -0.61392471]\n",
      " [ 1.0582781  -1.50743397]\n",
      " [-1.61550811  0.52106587]\n",
      " [ 1.26337953  1.12418618]\n",
      " [ 1.10768273  1.44839876]\n",
      " [ 0.68032683  0.17353154]\n",
      " [ 1.07754533  1.49970902]\n",
      " [ 0.34527882 -0.13375661]\n",
      " [ 0.79291076 -1.78982923]]\n",
      "Generated Sensors for method Eigenvalue Decomposition\n",
      "[[ 0.9690596  -1.90176948]\n",
      " [ 0.98165871 -0.60973985]\n",
      " [ 1.05117266 -1.50322042]\n",
      " [-1.61638973  0.52271575]\n",
      " [ 1.25519359  1.12868242]\n",
      " [ 1.0997615   1.4527689 ]\n",
      " [ 0.67372273  0.17745107]\n",
      " [ 1.06967858  1.50405406]\n",
      " [ 0.33960666 -0.13018334]\n",
      " [ 0.78641769 -1.78584476]]\n"
     ]
    }
   ],
   "source": [
    "print(\"Real sensors: \")\n",
    "print(sensors)\n",
    "run_solver(\"Eigenvalue Decomposition\", eigen_decomp_project)"
   ]
  },
  {
   "cell_type": "code",
   "execution_count": 11,
   "metadata": {},
   "outputs": [
    {
     "ename": "LinAlgError",
     "evalue": "Matrix is not positive definite",
     "output_type": "error",
     "traceback": [
      "\u001b[0;31m---------------------------------------------------------------------------\u001b[0m",
      "\u001b[0;31mLinAlgError\u001b[0m                               Traceback (most recent call last)",
      "\u001b[0;32m<ipython-input-11-61e6ef97ab2b>\u001b[0m in \u001b[0;36m<module>\u001b[0;34m()\u001b[0m\n\u001b[0;32m----> 1\u001b[0;31m \u001b[0mrun_solver\u001b[0m\u001b[0;34m(\u001b[0m\u001b[0;34m\"LDL Decomposition\"\u001b[0m\u001b[0;34m,\u001b[0m \u001b[0mldl_decomp_project\u001b[0m\u001b[0;34m)\u001b[0m\u001b[0;34m\u001b[0m\u001b[0m\n\u001b[0m",
      "\u001b[0;32m<ipython-input-9-7afb6d0f225f>\u001b[0m in \u001b[0;36mrun_solver\u001b[0;34m(method_name, projection_func)\u001b[0m\n\u001b[1;32m     13\u001b[0m \u001b[0;34m\u001b[0m\u001b[0m\n\u001b[1;32m     14\u001b[0m         \u001b[0;31m# Project back into cone with eigen decomp\u001b[0m\u001b[0;34m\u001b[0m\u001b[0;34m\u001b[0m\u001b[0m\n\u001b[0;32m---> 15\u001b[0;31m         \u001b[0mX_k1\u001b[0m \u001b[0;34m=\u001b[0m \u001b[0mprojection_func\u001b[0m\u001b[0;34m(\u001b[0m\u001b[0mX_k1\u001b[0m\u001b[0;34m)\u001b[0m\u001b[0;34m\u001b[0m\u001b[0m\n\u001b[0m\u001b[1;32m     16\u001b[0m \u001b[0;34m\u001b[0m\u001b[0m\n\u001b[1;32m     17\u001b[0m         \u001b[0;31m#set up for next iteration\u001b[0m\u001b[0;34m\u001b[0m\u001b[0;34m\u001b[0m\u001b[0m\n",
      "\u001b[0;32m<ipython-input-7-cf5f21c5b0ef>\u001b[0m in \u001b[0;36mldl_decomp_project\u001b[0;34m(X_k1)\u001b[0m\n\u001b[1;32m      9\u001b[0m         \u001b[0mL\u001b[0m \u001b[0;34m=\u001b[0m \u001b[0mnp\u001b[0m\u001b[0;34m.\u001b[0m\u001b[0mmatrix\u001b[0m\u001b[0;34m(\u001b[0m\u001b[0mLch\u001b[0m\u001b[0;34m.\u001b[0m\u001b[0mdot\u001b[0m\u001b[0;34m(\u001b[0m\u001b[0mSinv\u001b[0m\u001b[0;34m)\u001b[0m\u001b[0;34m)\u001b[0m\u001b[0;34m\u001b[0m\u001b[0m\n\u001b[1;32m     10\u001b[0m         \u001b[0;32mreturn\u001b[0m \u001b[0mL\u001b[0m\u001b[0;34m,\u001b[0m \u001b[0mD\u001b[0m\u001b[0;34m\u001b[0m\u001b[0m\n\u001b[0;32m---> 11\u001b[0;31m     \u001b[0;34m[\u001b[0m\u001b[0mL\u001b[0m\u001b[0;34m,\u001b[0m \u001b[0mD\u001b[0m\u001b[0;34m]\u001b[0m \u001b[0;34m=\u001b[0m \u001b[0mldl_decomp\u001b[0m\u001b[0;34m(\u001b[0m\u001b[0mX_k1\u001b[0m\u001b[0;34m)\u001b[0m\u001b[0;34m\u001b[0m\u001b[0m\n\u001b[0m\u001b[1;32m     12\u001b[0m     \u001b[0mD\u001b[0m\u001b[0;34m[\u001b[0m\u001b[0mD\u001b[0m \u001b[0;34m<\u001b[0m \u001b[0;36m0\u001b[0m\u001b[0;34m]\u001b[0m \u001b[0;34m=\u001b[0m \u001b[0;36m0\u001b[0m\u001b[0;34m\u001b[0m\u001b[0m\n\u001b[1;32m     13\u001b[0m     \u001b[0mD_psd\u001b[0m \u001b[0;34m=\u001b[0m \u001b[0mnp\u001b[0m\u001b[0;34m.\u001b[0m\u001b[0mdiag\u001b[0m\u001b[0;34m(\u001b[0m\u001b[0mD\u001b[0m\u001b[0;34m)\u001b[0m\u001b[0;34m\u001b[0m\u001b[0m\n",
      "\u001b[0;32m<ipython-input-7-cf5f21c5b0ef>\u001b[0m in \u001b[0;36mldl_decomp\u001b[0;34m(A)\u001b[0m\n\u001b[1;32m      6\u001b[0m         \u001b[0mSinv\u001b[0m \u001b[0;34m=\u001b[0m \u001b[0mnp\u001b[0m\u001b[0;34m.\u001b[0m\u001b[0mdiag\u001b[0m\u001b[0;34m(\u001b[0m\u001b[0;36m1\u001b[0m\u001b[0;34m/\u001b[0m\u001b[0mnp\u001b[0m\u001b[0;34m.\u001b[0m\u001b[0mdiag\u001b[0m\u001b[0;34m(\u001b[0m\u001b[0mA\u001b[0m\u001b[0;34m)\u001b[0m\u001b[0;34m)\u001b[0m\u001b[0;34m\u001b[0m\u001b[0m\n\u001b[1;32m      7\u001b[0m         \u001b[0mD\u001b[0m \u001b[0;34m=\u001b[0m \u001b[0mnp\u001b[0m\u001b[0;34m.\u001b[0m\u001b[0mmatrix\u001b[0m\u001b[0;34m(\u001b[0m\u001b[0mS\u001b[0m\u001b[0;34m.\u001b[0m\u001b[0mdot\u001b[0m\u001b[0;34m(\u001b[0m\u001b[0mS\u001b[0m\u001b[0;34m)\u001b[0m\u001b[0;34m)\u001b[0m\u001b[0;34m\u001b[0m\u001b[0m\n\u001b[0;32m----> 8\u001b[0;31m         \u001b[0mLch\u001b[0m \u001b[0;34m=\u001b[0m \u001b[0mnp\u001b[0m\u001b[0;34m.\u001b[0m\u001b[0mlinalg\u001b[0m\u001b[0;34m.\u001b[0m\u001b[0mcholesky\u001b[0m\u001b[0;34m(\u001b[0m\u001b[0mA\u001b[0m\u001b[0;34m)\u001b[0m\u001b[0;34m\u001b[0m\u001b[0m\n\u001b[0m\u001b[1;32m      9\u001b[0m         \u001b[0mL\u001b[0m \u001b[0;34m=\u001b[0m \u001b[0mnp\u001b[0m\u001b[0;34m.\u001b[0m\u001b[0mmatrix\u001b[0m\u001b[0;34m(\u001b[0m\u001b[0mLch\u001b[0m\u001b[0;34m.\u001b[0m\u001b[0mdot\u001b[0m\u001b[0;34m(\u001b[0m\u001b[0mSinv\u001b[0m\u001b[0;34m)\u001b[0m\u001b[0;34m)\u001b[0m\u001b[0;34m\u001b[0m\u001b[0m\n\u001b[1;32m     10\u001b[0m         \u001b[0;32mreturn\u001b[0m \u001b[0mL\u001b[0m\u001b[0;34m,\u001b[0m \u001b[0mD\u001b[0m\u001b[0;34m\u001b[0m\u001b[0m\n",
      "\u001b[0;32m~/anaconda3/lib/python3.6/site-packages/numpy/linalg/linalg.py\u001b[0m in \u001b[0;36mcholesky\u001b[0;34m(a)\u001b[0m\n\u001b[1;32m    597\u001b[0m     \u001b[0mt\u001b[0m\u001b[0;34m,\u001b[0m \u001b[0mresult_t\u001b[0m \u001b[0;34m=\u001b[0m \u001b[0m_commonType\u001b[0m\u001b[0;34m(\u001b[0m\u001b[0ma\u001b[0m\u001b[0;34m)\u001b[0m\u001b[0;34m\u001b[0m\u001b[0m\n\u001b[1;32m    598\u001b[0m     \u001b[0msignature\u001b[0m \u001b[0;34m=\u001b[0m \u001b[0;34m'D->D'\u001b[0m \u001b[0;32mif\u001b[0m \u001b[0misComplexType\u001b[0m\u001b[0;34m(\u001b[0m\u001b[0mt\u001b[0m\u001b[0;34m)\u001b[0m \u001b[0;32melse\u001b[0m \u001b[0;34m'd->d'\u001b[0m\u001b[0;34m\u001b[0m\u001b[0m\n\u001b[0;32m--> 599\u001b[0;31m     \u001b[0mr\u001b[0m \u001b[0;34m=\u001b[0m \u001b[0mgufunc\u001b[0m\u001b[0;34m(\u001b[0m\u001b[0ma\u001b[0m\u001b[0;34m,\u001b[0m \u001b[0msignature\u001b[0m\u001b[0;34m=\u001b[0m\u001b[0msignature\u001b[0m\u001b[0;34m,\u001b[0m \u001b[0mextobj\u001b[0m\u001b[0;34m=\u001b[0m\u001b[0mextobj\u001b[0m\u001b[0;34m)\u001b[0m\u001b[0;34m\u001b[0m\u001b[0m\n\u001b[0m\u001b[1;32m    600\u001b[0m     \u001b[0;32mreturn\u001b[0m \u001b[0mwrap\u001b[0m\u001b[0;34m(\u001b[0m\u001b[0mr\u001b[0m\u001b[0;34m.\u001b[0m\u001b[0mastype\u001b[0m\u001b[0;34m(\u001b[0m\u001b[0mresult_t\u001b[0m\u001b[0;34m,\u001b[0m \u001b[0mcopy\u001b[0m\u001b[0;34m=\u001b[0m\u001b[0;32mFalse\u001b[0m\u001b[0;34m)\u001b[0m\u001b[0;34m)\u001b[0m\u001b[0;34m\u001b[0m\u001b[0m\n\u001b[1;32m    601\u001b[0m \u001b[0;34m\u001b[0m\u001b[0m\n",
      "\u001b[0;32m~/anaconda3/lib/python3.6/site-packages/numpy/linalg/linalg.py\u001b[0m in \u001b[0;36m_raise_linalgerror_nonposdef\u001b[0;34m(err, flag)\u001b[0m\n\u001b[1;32m     91\u001b[0m \u001b[0;34m\u001b[0m\u001b[0m\n\u001b[1;32m     92\u001b[0m \u001b[0;32mdef\u001b[0m \u001b[0m_raise_linalgerror_nonposdef\u001b[0m\u001b[0;34m(\u001b[0m\u001b[0merr\u001b[0m\u001b[0;34m,\u001b[0m \u001b[0mflag\u001b[0m\u001b[0;34m)\u001b[0m\u001b[0;34m:\u001b[0m\u001b[0;34m\u001b[0m\u001b[0m\n\u001b[0;32m---> 93\u001b[0;31m     \u001b[0;32mraise\u001b[0m \u001b[0mLinAlgError\u001b[0m\u001b[0;34m(\u001b[0m\u001b[0;34m\"Matrix is not positive definite\"\u001b[0m\u001b[0;34m)\u001b[0m\u001b[0;34m\u001b[0m\u001b[0m\n\u001b[0m\u001b[1;32m     94\u001b[0m \u001b[0;34m\u001b[0m\u001b[0m\n\u001b[1;32m     95\u001b[0m \u001b[0;32mdef\u001b[0m \u001b[0m_raise_linalgerror_eigenvalues_nonconvergence\u001b[0m\u001b[0;34m(\u001b[0m\u001b[0merr\u001b[0m\u001b[0;34m,\u001b[0m \u001b[0mflag\u001b[0m\u001b[0;34m)\u001b[0m\u001b[0;34m:\u001b[0m\u001b[0;34m\u001b[0m\u001b[0m\n",
      "\u001b[0;31mLinAlgError\u001b[0m: Matrix is not positive definite"
     ]
    }
   ],
   "source": [
    "run_solver(\"LDL Decomposition\", ldl_decomp_project)"
   ]
  },
  {
   "cell_type": "code",
   "execution_count": 12,
   "metadata": {},
   "outputs": [
    {
     "name": "stdout",
     "output_type": "stream",
     "text": [
      "Generated Sensors for method Top 6 Eigenavalues\n",
      "[[ 0.03102414  0.00705995]\n",
      " [-0.06445363  0.0134805 ]\n",
      " [-0.11948408  0.06657993]\n",
      " [ 0.00850821  0.00475373]\n",
      " [-0.08228007  0.01937804]\n",
      " [ 0.03638893 -0.01575315]\n",
      " [-0.03355575  0.02162814]\n",
      " [ 0.12123091 -0.06039648]\n",
      " [ 0.02359164  0.03472891]\n",
      " [-0.02941484  0.02490931]]\n"
     ]
    }
   ],
   "source": [
    "run_solver(\"Top 6 Eigenavalues\", pca_proj)"
   ]
  }
 ],
 "metadata": {
  "kernelspec": {
   "display_name": "Python 3",
   "language": "python",
   "name": "python3"
  },
  "language_info": {
   "codemirror_mode": {
    "name": "ipython",
    "version": 3
   },
   "file_extension": ".py",
   "mimetype": "text/x-python",
   "name": "python",
   "nbconvert_exporter": "python",
   "pygments_lexer": "ipython3",
   "version": "3.6.3"
  }
 },
 "nbformat": 4,
 "nbformat_minor": 2
}
