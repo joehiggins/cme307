{
 "cells": [
  {
   "cell_type": "markdown",
   "metadata": {},
   "source": [
    "Group: Austin Wang, Joe Higgins, Lawrence Moore"
   ]
  },
  {
   "cell_type": "code",
   "execution_count": 1,
   "metadata": {
    "collapsed": true
   },
   "outputs": [],
   "source": [
    "# Import necessary modules\n",
    "import cvxpy as cvx\n",
    "import numpy as np"
   ]
  },
  {
   "cell_type": "code",
   "execution_count": 2,
   "metadata": {
    "collapsed": true
   },
   "outputs": [],
   "source": [
    "# Helper functions for SDP matrix multiplications\n",
    "def sum_elem_product(A,B):\n",
    "    return cvx.sum_entries(cvx.mul_elemwise(A, B))\n",
    "\n",
    "def col_vec_4elem(a,b,c,d):\n",
    "    return np.matrix([[a],[b],[c],[d]])"
   ]
  },
  {
   "cell_type": "markdown",
   "metadata": {},
   "source": [
    "## Introduction\n",
    "\n",
    "In this problem, we will test to see if adding regulative objectives to the SDP sensor network localization problem will allow us to successfully locate sensors that we failed to without the regulative objective."
   ]
  },
  {
   "cell_type": "markdown",
   "metadata": {},
   "source": [
    "## Data\n",
    "\n",
    "Below is the data for the anchors and sensors. In particular, we choose sensors such that one of the sensors is not in the convex hull of the other sensor and the two corresponding anchors. In the previous homeworks, SDP failed to find these sensor locations; we will see if adding the regulative objectives will allow us to be more successful."
   ]
  },
  {
   "cell_type": "code",
   "execution_count": 3,
   "metadata": {
    "collapsed": true
   },
   "outputs": [],
   "source": [
    "# Define anchors\n",
    "anchors = np.matrix([\n",
    "    [ 1, 0],\n",
    "    [-1, 0],\n",
    "    [ 0, 2]\n",
    "])\n",
    "\n",
    "# Number of dimensions\n",
    "n = 2\n",
    "\n",
    "# Sensor locations\n",
    "s1 = np.matrix([\n",
    "    [ 0, .1],\n",
    "    [-.15, 1.8]])\n",
    "\n",
    "# Distances from anchors\n",
    "d0 = list(map(lambda a: np.linalg.norm(s1[0, :] - a), anchors))\n",
    "d1 = list(map(lambda a: np.linalg.norm(s1[1, :] - a), anchors))\n",
    "d_both_sensor = np.linalg.norm(s1[0, :] - s1[1, :])"
   ]
  },
  {
   "cell_type": "markdown",
   "metadata": {},
   "source": [
    "## Problem Construction"
   ]
  },
  {
   "cell_type": "code",
   "execution_count": 4,
   "metadata": {
    "collapsed": true
   },
   "outputs": [],
   "source": [
    "# Constraints will define the proper structure for Z. The optimal value will be \n",
    "# located in the top right two elements of Z.\n",
    "Z = cvx.Semidef(4)\n",
    "\n",
    "v0 = col_vec_4elem(1,0,0,0)\n",
    "v1 = col_vec_4elem(0,1,0,0)\n",
    "v2 = col_vec_4elem(1,1,0,0)\n",
    "\n",
    "a0 = col_vec_4elem(anchors[0,0], anchors[0,1], -1, 0)\n",
    "a1 = col_vec_4elem(anchors[1,0], anchors[1,1], -1, 0)\n",
    "\n",
    "a2 = col_vec_4elem(anchors[1,0], anchors[1,1], 0, -1)\n",
    "a3 = col_vec_4elem(anchors[2,0], anchors[2,1], 0, -1)\n",
    "\n",
    "v3 = col_vec_4elem(0, 0, 1, -1)\n",
    "\n",
    "constraints = [\n",
    "    sum_elem_product(v0*np.transpose(v0), Z) == 1,\n",
    "    sum_elem_product(v1*np.transpose(v1), Z) == 1,\n",
    "    sum_elem_product(v2*np.transpose(v2), Z) == 2,\n",
    "    sum_elem_product(a0*np.transpose(a0), Z) == cvx.square(d0[0]),\n",
    "    sum_elem_product(a1*np.transpose(a1), Z) == cvx.square(d0[1]),\n",
    "    sum_elem_product(a2*np.transpose(a2), Z) == cvx.square(d1[1]),\n",
    "    sum_elem_product(a3*np.transpose(a3), Z) == cvx.square(d1[2]),\n",
    "    sum_elem_product(v3*np.transpose(v3), Z) == cvx.square(d_both_sensor)\n",
    "]"
   ]
  },
  {
   "cell_type": "markdown",
   "metadata": {},
   "source": [
    "### Regulative Objective 1: Minimize Trace of Z"
   ]
  },
  {
   "cell_type": "code",
   "execution_count": 5,
   "metadata": {
    "collapsed": true
   },
   "outputs": [],
   "source": [
    "C = np.identity(4)\n",
    "objective = cvx.Minimize(sum_elem_product(C, Z))"
   ]
  },
  {
   "cell_type": "code",
   "execution_count": 6,
   "metadata": {},
   "outputs": [
    {
     "name": "stdout",
     "output_type": "stream",
     "text": [
      "Results for Sensor Inside of Convex Hull of Anchors\n",
      "---------------------------------------------------\n",
      "True Sensor Locations: [[ 0.    0.1 ]\n",
      " [-0.15  1.8 ]]\n",
      "SDP optimal sensor 1 location : [0.0, 0.05681656621615909]\n",
      "SDP optimal sensor 2 location : [-0.06999867480845734, 1.7599993374042289]\n"
     ]
    }
   ],
   "source": [
    "prob = cvx.Problem(objective, constraints)\n",
    "result = prob.solve(solver = 'MOSEK')\n",
    "\n",
    "# Optimal solution\n",
    "x_1_star = [Z[0,2].value, Z[1,2].value]\n",
    "x_2_star = [Z[0,3].value, Z[1,3].value]\n",
    "\n",
    "print('Results for Sensor Inside of Convex Hull of Anchors')\n",
    "print('---------------------------------------------------')\n",
    "print('True Sensor Locations: {}'.format(s1))\n",
    "print('SDP optimal sensor 1 location : {}'.format(x_1_star))\n",
    "print('SDP optimal sensor 2 location : {}'.format(x_2_star))"
   ]
  },
  {
   "cell_type": "markdown",
   "metadata": {},
   "source": [
    "### Regulative Objective 2: Maximize Trace of Z"
   ]
  },
  {
   "cell_type": "code",
   "execution_count": 7,
   "metadata": {
    "collapsed": true
   },
   "outputs": [],
   "source": [
    "C = np.identity(4)\n",
    "objective = cvx.Maximize(sum_elem_product(C, Z))"
   ]
  },
  {
   "cell_type": "code",
   "execution_count": 8,
   "metadata": {},
   "outputs": [
    {
     "name": "stdout",
     "output_type": "stream",
     "text": [
      "Results for Sensor Inside of Convex Hull of Anchors\n",
      "---------------------------------------------------\n",
      "True Sensor Locations: [[ 0.    0.1 ]\n",
      " [-0.15  1.8 ]]\n",
      "SDP optimal sensor 1 location : [0.0, 0.10000003811232931]\n",
      "SDP optimal sensor 2 location : [-0.15000006351395934, 1.80000003175698]\n"
     ]
    }
   ],
   "source": [
    "prob = cvx.Problem(objective, constraints)\n",
    "result = prob.solve(solver = 'MOSEK')\n",
    "\n",
    "# Optimal solution\n",
    "x_1_star = [Z[0,2].value, Z[1,2].value]\n",
    "x_2_star = [Z[0,3].value, Z[1,3].value]\n",
    "\n",
    "print('Results for Sensor Inside of Convex Hull of Anchors')\n",
    "print('---------------------------------------------------')\n",
    "print('True Sensor Locations: {}'.format(s1))\n",
    "print('SDP optimal sensor 1 location : {}'.format(x_1_star))\n",
    "print('SDP optimal sensor 2 location : {}'.format(x_2_star))"
   ]
  },
  {
   "cell_type": "markdown",
   "metadata": {},
   "source": [
    "### Regulative Objective 3: Minimize Sum of Non-Edge Distance Squares"
   ]
  },
  {
   "cell_type": "code",
   "execution_count": 9,
   "metadata": {
    "collapsed": true
   },
   "outputs": [],
   "source": [
    "c1 = col_vec_4elem(anchors[2,0], anchors[2,1], -1, 0)\n",
    "c2 = col_vec_4elem(anchors[0,0], anchors[0,1], 0, -1)\n",
    "C = c1*np.transpose(c1) + c2*np.transpose(c2)\n",
    "objective = cvx.Minimize(sum_elem_product(C, Z))"
   ]
  },
  {
   "cell_type": "code",
   "execution_count": 10,
   "metadata": {},
   "outputs": [
    {
     "name": "stdout",
     "output_type": "stream",
     "text": [
      "Results for Sensor Inside of Convex Hull of Anchors\n",
      "---------------------------------------------------\n",
      "True Sensor Locations: [[ 0.    0.1 ]\n",
      " [-0.15  1.8 ]]\n",
      "SDP optimal sensor 1 location : [0.0, 0.05719579163857793]\n",
      "SDP optimal sensor 2 location : [-0.07025636374641686, 1.7601281818732086]\n"
     ]
    }
   ],
   "source": [
    "prob = cvx.Problem(objective, constraints)\n",
    "result = prob.solve(solver = 'MOSEK')\n",
    "\n",
    "# Optimal solution\n",
    "x_1_star = [Z[0,2].value, Z[1,2].value]\n",
    "x_2_star = [Z[0,3].value, Z[1,3].value]\n",
    "\n",
    "print('Results for Sensor Inside of Convex Hull of Anchors')\n",
    "print('---------------------------------------------------')\n",
    "print('True Sensor Locations: {}'.format(s1))\n",
    "print('SDP optimal sensor 1 location : {}'.format(x_1_star))\n",
    "print('SDP optimal sensor 2 location : {}'.format(x_2_star))"
   ]
  },
  {
   "cell_type": "markdown",
   "metadata": {},
   "source": [
    "### Regulative Objective 4: Maximize Sum of Non-Edge Distance Squares"
   ]
  },
  {
   "cell_type": "code",
   "execution_count": 11,
   "metadata": {},
   "outputs": [],
   "source": [
    "c1 = col_vec_4elem(anchors[2,0], anchors[2,1], -1, 0)\n",
    "c2 = col_vec_4elem(anchors[0,0], anchors[0,1], 0, -1)\n",
    "C = c1*np.transpose(c1) + c2*np.transpose(c2)\n",
    "objective = cvx.Maximize(sum_elem_product(C, Z))"
   ]
  },
  {
   "cell_type": "code",
   "execution_count": 12,
   "metadata": {},
   "outputs": [
    {
     "name": "stdout",
     "output_type": "stream",
     "text": [
      "Results for Sensor Inside of Convex Hull of Anchors\n",
      "---------------------------------------------------\n",
      "True Sensor Locations: [[ 0.    0.1 ]\n",
      " [-0.15  1.8 ]]\n",
      "SDP optimal sensor 1 location : [0.0, 0.10000006145272888]\n",
      "SDP optimal sensor 2 location : [-0.1500001069335295, 1.800000053466765]\n"
     ]
    }
   ],
   "source": [
    "prob = cvx.Problem(objective, constraints)\n",
    "result = prob.solve(solver = 'MOSEK')\n",
    "\n",
    "# Optimal solution\n",
    "x_1_star = [Z[0,2].value, Z[1,2].value]\n",
    "x_2_star = [Z[0,3].value, Z[1,3].value]\n",
    "\n",
    "print('Results for Sensor Inside of Convex Hull of Anchors')\n",
    "print('---------------------------------------------------')\n",
    "print('True Sensor Locations: {}'.format(s1))\n",
    "print('SDP optimal sensor 1 location : {}'.format(x_1_star))\n",
    "print('SDP optimal sensor 2 location : {}'.format(x_2_star))"
   ]
  },
  {
   "cell_type": "markdown",
   "metadata": {
    "collapsed": true
   },
   "source": [
    "## Conclusion\n",
    "\n",
    "Our results are as follows:\n",
    "\n",
    "1. Minimize Trace of Z: FAILURE\n",
    "2. Maximize Trace of Z: SUCCESS\n",
    "3. Minimize Sum of Non-Edge Distance Squares: FAILURE\n",
    "4. Maximize Sum of Non-Edge Distance Squares: SUCCESS\n",
    "\n",
    "We find that adding a regulative objective that maximizes the trace of Z or a regulative objective that maximizes the sum of the non-edge distance squares allows us to successfully locate the sensors we otherwise could not. The minimizing counterparts to these two objectives, however, led to no improvement."
   ]
  }
 ],
 "metadata": {
  "kernelspec": {
   "display_name": "Python 3",
   "language": "python",
   "name": "python3"
  },
  "language_info": {
   "codemirror_mode": {
    "name": "ipython",
    "version": 3
   },
   "file_extension": ".py",
   "mimetype": "text/x-python",
   "name": "python",
   "nbconvert_exporter": "python",
   "pygments_lexer": "ipython3",
   "version": "3.6.1"
  }
 },
 "nbformat": 4,
 "nbformat_minor": 2
}
