{
 "cells": [
  {
   "cell_type": "code",
   "execution_count": 2,
   "metadata": {
    "collapsed": true
   },
   "outputs": [],
   "source": [
    "# Import necessary modules\n",
    "%matplotlib inline\n",
    "import cvxpy as cvx\n",
    "import numpy as np\n",
    "from scipy import random\n",
    "from scipy import linalg\n",
    "import matplotlib.pyplot as plt"
   ]
  },
  {
   "cell_type": "code",
   "execution_count": 3,
   "metadata": {
    "collapsed": true
   },
   "outputs": [],
   "source": [
    "def generate_points(num, dim):\n",
    "    return np.matrix(4 * np.random.random((num, dim)) - 2)"
   ]
  },
  {
   "cell_type": "code",
   "execution_count": 4,
   "metadata": {
    "collapsed": true
   },
   "outputs": [],
   "source": [
    "def sum_elem_product(A,B):\n",
    "    return cvx.sum_entries(cvx.mul_elemwise(A, B))"
   ]
  },
  {
   "cell_type": "code",
   "execution_count": 5,
   "metadata": {
    "collapsed": true
   },
   "outputs": [],
   "source": [
    "def generate_ss_distances(sensors):\n",
    "    return list(map(lambda s1: \n",
    "                list(map(lambda s2: np.linalg.norm(s1 - s2), sensors))\n",
    "            , sensors))\n",
    "\n",
    "def generate_sa_distances(sensors, anchors):\n",
    "    return list(map(lambda s: \n",
    "                list(map(lambda a: np.linalg.norm(a - s), anchors))\n",
    "            , sensors))"
   ]
  },
  {
   "cell_type": "code",
   "execution_count": 5,
   "metadata": {
    "collapsed": true
   },
   "outputs": [],
   "source": [
    "def get_SOCP_result(sensors, anchors):\n",
    "    d_ss = generate_ss_distances(sensors)\n",
    "    d_sa = generate_sa_distances(sensors, anchors)\n",
    "    \n",
    "    x = cvx.Variable(num_sensors, dim)\n",
    "    objective = cvx.Minimize(0)\n",
    "    \n",
    "    constraints  = []\n",
    "    for i in range(num_sensors):\n",
    "        x_i = x[i, :]\n",
    "        for j in range(num_anchors):\n",
    "            constraints.append(cvx.norm(x_i - anchors[j]) <= d_sa[i][j])\n",
    "        for j in range(num_sensors):\n",
    "            if i < j:\n",
    "                constraints.append(cvx.norm(x_i - sensors[j]) <= d_ss[i][j])\n",
    "\n",
    "    prob = cvx.Problem(objective, constraints)\n",
    "    result = prob.solve(solver = 'MOSEK')\n",
    "    print(\"SOCP complete\")\n",
    "    return x.value"
   ]
  },
  {
   "cell_type": "code",
   "execution_count": 6,
   "metadata": {
    "collapsed": true
   },
   "outputs": [],
   "source": [
    "def get_SDP_result(sensors, anchors):    \n",
    "    \n",
    "    A = enforce_id(sensors)\n",
    "    B = enforce_id2(sensors)\n",
    "    C = sensor_constraints(sensors)\n",
    "    D = anchor_constraints(sensors, anchors)\n",
    "\n",
    "    Z = cvx.Semidef(num_sensors + dim)\n",
    "    \n",
    "    constraints = []\n",
    "    for id_constraint, rhs in zip(A[0], A[1]):\n",
    "        constraints.append(sum_elem_product(id_constraint, Z) == rhs)\n",
    "    for id_constraint2, rhs in zip(B[0], B[1]):\n",
    "        constraints.append(sum_elem_product(id_constraint2, Z) == rhs)\n",
    "    for sensor_constraint, rhs in zip(C[0], C[1]):\n",
    "        constraints.append(sum_elem_product(sensor_constraint, Z) == rhs)\n",
    "    for anchor_constraint, rhs in zip(D[0], D[1]):\n",
    "        constraints.append(sum_elem_product(anchor_constraint, Z) == rhs)\n",
    "        \n",
    "    objective = cvx.Minimize(0)\n",
    "    prob = cvx.Problem(objective, constraints)\n",
    "    result = prob.solve(solver = 'MOSEK')\n",
    "\n",
    "    print(\"SDP complete\")\n",
    "    return np.transpose(Z[0:dim, dim:dim+num_sensors].value)\n",
    "\n",
    "#Make first set of constraint matrices (look like identity)\n",
    "def enforce_id(sensors):\n",
    "    dim = np.shape(sensors)[1]\n",
    "    num_sensors = np.shape(sensors)[0]\n",
    "    matrices = []\n",
    "    rhs = []\n",
    "    for i in range(dim):\n",
    "        new_matrix = np.zeros((dim+num_sensors, dim+num_sensors))\n",
    "        new_matrix[i,i] = 1\n",
    "        matrices.append(new_matrix)\n",
    "        rhs.append(1)\n",
    "        \n",
    "    return (matrices, rhs)\n",
    "\n",
    "#Make second set of constraint matrices (symmetric holders) \n",
    "def enforce_id2(sensors):\n",
    "    dim = np.shape(sensors)[1]\n",
    "    num_sensors = np.shape(sensors)[0]\n",
    "    matrices = []\n",
    "    rhs = []\n",
    "    for i in range(dim):\n",
    "        for j in range(dim):\n",
    "            new_matrix = np.identity(dim)\n",
    "            if(j > i):\n",
    "                new_matrix[i,j] = 1\n",
    "                new_matrix[j,i] = 1\n",
    "                big_matrix = np.zeros((dim+num_sensors, dim+num_sensors))\n",
    "                big_matrix[0:dim,0:dim] = new_matrix\n",
    "                matrices.append(big_matrix)\n",
    "                rhs.append(dim)\n",
    "                \n",
    "    return (matrices, rhs)\n",
    "\n",
    "\n",
    "#Make third set of constraint matrices (anchors to sensors)\n",
    "def sensor_constraints(sensors):\n",
    "    dim = np.shape(sensors)[1]\n",
    "    num_sensors = np.shape(sensors)[0]\n",
    "    d_ss = generate_ss_distances(sensors)\n",
    "    matrices = []\n",
    "    rhs = []\n",
    "    zero_vec_dim = np.zeros(dim)\n",
    "    for i in range(num_sensors):\n",
    "        for j in range(i+1, num_sensors):\n",
    "            zero_vec_num_s = np.zeros(num_sensors)\n",
    "            zero_vec_num_s[i] = 1\n",
    "            zero_vec_num_s[j] = -1\n",
    "            \n",
    "            new_vec = np.matrix(np.append(zero_vec_dim, zero_vec_num_s))\n",
    "            \n",
    "            new_matrix = np.dot(np.transpose(new_vec), new_vec)\n",
    "            \n",
    "            matrices.append(new_matrix)\n",
    "            rhs.append(d_ss[i][j]**2)\n",
    "\n",
    "    return (matrices, rhs)\n",
    "\n",
    "#Make fourth set of constraint matrices (sensors to sensors)\n",
    "def anchor_constraints(sensors, anchors):\n",
    "    num_anchors = np.shape(anchors)[0]\n",
    "    d_sa = generate_sa_distances(sensors, anchors)\n",
    "    matrices = []\n",
    "    rhs = []\n",
    "    for i in range(num_anchors):\n",
    "        for j in range(num_sensors):\n",
    "            zero_vec_num_s = np.zeros(num_sensors)\n",
    "            zero_vec_num_s[j] = -1\n",
    "\n",
    "            new_vec = np.append(np.array(anchors[i,:]), np.array(zero_vec_num_s))\n",
    "            new_vec = np.matrix(new_vec)\n",
    "            new_matrix = np.dot(np.transpose(new_vec), new_vec)\n",
    "            matrices.append(new_matrix)\n",
    "            rhs.append(d_sa[j][i]**2)\n",
    "\n",
    "    return (matrices, rhs)"
   ]
  },
  {
   "cell_type": "code",
   "execution_count": 18,
   "metadata": {
    "collapsed": true
   },
   "outputs": [],
   "source": [
    "def get_NLLS_matches(sensors, anchors):\n",
    "    check = 1000\n",
    "    max_iter = 10000\n",
    "    k = 0\n",
    "\n",
    "    # Initial sensors guess\n",
    "    sensors_0 = generate_points(num_sensors, dim)\n",
    "    sensors_k = sensors_0\n",
    "\n",
    "    # iteration\n",
    "    alpha = .0000001\n",
    "    while check > 10**-8 and k < max_iter:\n",
    "        sensors_k1 = sensors_k - alpha * grad(sensors_k)\n",
    "        check = np.linalg.norm(sensors_k1 - sensors_k)\n",
    "        sensors_k = sensors_k1\n",
    "        if(k % 2000 == 0):\n",
    "            print(\"NLLS k:\" + str(k))\n",
    "        k = k+1\n",
    "\n",
    "    print(\"NLLS complete\")\n",
    "    return sensors_k\n",
    "    \n",
    "def grad(X):\n",
    "    sensor_distance_sum = np.zeros((1,X.shape[1]))\n",
    "    anchor_distance_sum = np.zeros((1,X.shape[1]))\n",
    "    gradient = np.zeros(X.shape)\n",
    "\n",
    "    for i, sensor_i in enumerate(X):\n",
    "        for j, sensor_j in enumerate(X):\n",
    "            if(i != j):\n",
    "                sensor_distance_sum += (np.linalg.norm(sensor_i - sensor_j)**2 - \\\n",
    "                                        np.linalg.norm(sensors[i,:] - sensors[j,:])**2) * \\\n",
    "                                       (sensor_i - sensor_j)\n",
    "\n",
    "        for k, anchor_k in enumerate(anchors):\n",
    "            anchor_distance_sum += (np.linalg.norm(anchor_k - sensor_i)**2 - \\\n",
    "                                    np.linalg.norm(anchors[k,:] - sensors[i,:])**2) * \\\n",
    "                                   (sensor_i - anchor_k)\n",
    "\n",
    "        gradient[i,:] = 8*sensor_distance_sum + 4*anchor_distance_sum\n",
    "\n",
    "    return gradient"
   ]
  },
  {
   "cell_type": "code",
   "execution_count": 8,
   "metadata": {
    "collapsed": true
   },
   "outputs": [],
   "source": [
    "def get_sensor_matches(sensors, results):\n",
    "    matches = []\n",
    "    for sensor, result in zip(sensors, results):\n",
    "        matches.append(np.linalg.norm(sensor - result) < 10**(-6))\n",
    "    return np.array(matches)"
   ]
  },
  {
   "cell_type": "code",
   "execution_count": 9,
   "metadata": {},
   "outputs": [
    {
     "name": "stdout",
     "output_type": "stream",
     "text": [
      "SOCP complete\n",
      "SDP complete\n",
      "NLLS k:0\n",
      "NLLS k:2000\n",
      "NLLS k:4000\n",
      "NLLS k:6000\n",
      "NLLS k:8000\n",
      "NLLS complete\n"
     ]
    }
   ],
   "source": [
    "#run simulation\n",
    "dim = 2\n",
    "num_sensors = 10\n",
    "num_anchors = 4\n",
    "\n",
    "anchors = generate_points(num_anchors, dim)\n",
    "sensors = generate_points(num_sensors, dim)\n",
    "\n",
    "SOCP_result = get_SOCP_result(sensors, anchors)\n",
    "SDP_result = get_SDP_result(sensors, anchors)\n",
    "NLLS_result = get_NLLS_matches(sensors, anchors)"
   ]
  },
  {
   "cell_type": "code",
   "execution_count": 10,
   "metadata": {
    "collapsed": true
   },
   "outputs": [],
   "source": [
    "def plot_results(anchors, sensors, results):\n",
    "    anchor_x = np.array(anchors[:,0])\n",
    "    anchor_y = np.array(anchors[:,1])\n",
    "    \n",
    "    matches = get_sensor_matches(sensors,results)\n",
    "    \n",
    "    matched_sensors_x = np.array(sensors[matches,0])\n",
    "    matched_sensors_y = np.array(sensors[matches,1])\n",
    "    unmatched_sensors_x = np.array(sensors[~matches,0])\n",
    "    unmatched_sensors_y = np.array(sensors[~matches,1])\n",
    "    \n",
    "    fig, out_plot = plt.subplots()\n",
    "    \n",
    "    out_plot.scatter(x=anchor_x, y=anchor_y, c=\"g\", alpha=0.5)\n",
    "    out_plot.scatter(x=matched_sensors_x, y=matched_sensors_y, c=\"b\", alpha=0.5)\n",
    "    out_plot.scatter(x=unmatched_sensors_x, y=unmatched_sensors_y, c=\"r\", alpha=0.5)"
   ]
  },
  {
   "cell_type": "code",
   "execution_count": 11,
   "metadata": {},
   "outputs": [
    {
     "data": {
      "image/png": "[encoded data removed]",
      "text/plain": [
       "<matplotlib.figure.Figure at 0x1147dd828>"
      ]
     },
     "metadata": {},
     "output_type": "display_data"
    },
    {
     "data": {
      "image/png": "[encoded data removed]",
      "text/plain": [
       "<matplotlib.figure.Figure at 0x1147dd8d0>"
      ]
     },
     "metadata": {},
     "output_type": "display_data"
    },
    {
     "data": {
      "image/png": "[encoded data removed]",
      "text/plain": [
       "<matplotlib.figure.Figure at 0x1171bca58>"
      ]
     },
     "metadata": {},
     "output_type": "display_data"
    }
   ],
   "source": [
    "plot_results(anchors, sensors, SOCP_result)\n",
    "plot_results(anchors, sensors, SDP_result)\n",
    "plot_results(anchors, sensors, NLLS_result)"
   ]
  },
  {
   "cell_type": "markdown",
   "metadata": {},
   "source": [
    "## Question 2 - SNL with Noise"
   ]
  },
  {
   "cell_type": "markdown",
   "metadata": {},
   "source": [
    "In the event that the sensor readings are noisy, it is useful to introduce a corresponding representation of the noise to our objective function and attempt to minimize it. This makes the process slightly more robust. We find that the SDP relaxation automatically sets the noise to zero, leading the optimal solution.  "
   ]
  },
  {
   "cell_type": "code",
   "execution_count": 33,
   "metadata": {},
   "outputs": [],
   "source": [
    "num_sensors = 10\n",
    "num_anchors = 4\n",
    "dim = 2\n",
    "\n",
    "Z = cvx.Semidef(num_sensors + dim)\n",
    "anchors = generate_points(num_anchors, dim)\n",
    "sensors = generate_points(num_sensors, dim)"
   ]
  },
  {
   "cell_type": "code",
   "execution_count": 34,
   "metadata": {
    "collapsed": true
   },
   "outputs": [],
   "source": [
    "# order of indexing: (1,2), (1,3), (1,4)... (9,10)\n",
    "delta_p_ss = cvx.Variable((int) (num_sensors*(num_sensors-1)/2))\n",
    "delta_pp_ss = cvx.Variable((int) (num_sensors*(num_sensors-1)/2))\n",
    "                           \n",
    "# order of indexing: (anchor, sensor), primary sort on anchors\n",
    "delta_p_sa = cvx.Variable(num_anchors * num_sensors)\n",
    "delta_pp_sa = cvx.Variable(num_anchors * num_sensors)"
   ]
  },
  {
   "cell_type": "code",
   "execution_count": 35,
   "metadata": {},
   "outputs": [],
   "source": [
    "constraints = []\n",
    "\n",
    "A = enforce_id(sensors)\n",
    "B = enforce_id2(sensors)\n",
    "C = sensor_constraints(sensors)\n",
    "D = anchor_constraints(sensors, anchors)\n",
    "\n",
    "constraints.append(delta_p_ss >= 0)\n",
    "constraints.append(delta_pp_ss >= 0)\n",
    "constraints.append(delta_p_sa >= 0)\n",
    "constraints.append(delta_pp_sa >= 0)\n",
    "\n",
    "# add the noise through the presence of dp and dpp\n",
    "for id_constraint, rhs in zip(A[0], A[1]):\n",
    "    constraints.append(sum_elem_product(id_constraint, Z) == rhs)\n",
    "for id_constraint2, rhs in zip(B[0], B[1]):\n",
    "    constraints.append(sum_elem_product(id_constraint2, Z) == rhs)\n",
    "for sensor_constraint, rhs, dp, dpp in zip(C[0], C[1], delta_p_ss, delta_pp_ss):\n",
    "    constraints.append(sum_elem_product(sensor_constraint, Z) + \\\n",
    "                       dp - dpp == rhs)\n",
    "for anchor_constraint, rhs, dp, dpp in zip(D[0], D[1], delta_p_sa, delta_pp_sa):\n",
    "    constraints.append(sum_elem_product(anchor_constraint, Z) + \\\n",
    "                       dp - dpp == rhs)\n"
   ]
  },
  {
   "cell_type": "code",
   "execution_count": 36,
   "metadata": {
    "collapsed": true
   },
   "outputs": [],
   "source": [
    "objective = cvx.Minimize(cvx.sum_entries(delta_p_ss) + \\\n",
    "                         cvx.sum_entries(delta_pp_ss) + \\\n",
    "                         cvx.sum_entries(delta_p_sa) + \\\n",
    "                         cvx.sum_entries(delta_pp_sa))\n",
    "\n",
    "# First find some solution given the presence of the noise terms\n",
    "prob = cvx.Problem(objective, constraints)\n",
    "result = prob.solve(solver = 'MOSEK')"
   ]
  },
  {
   "cell_type": "code",
   "execution_count": 37,
   "metadata": {},
   "outputs": [
    {
     "name": "stdout",
     "output_type": "stream",
     "text": [
      "Real sensors: \n",
      "[[ 0.46409552  1.63450733]\n",
      " [ 1.72346984  1.14498925]\n",
      " [-1.23989958 -1.69847233]\n",
      " [ 1.27919014  0.07435849]\n",
      " [ 1.08567831 -1.92857085]\n",
      " [ 0.81242805  1.2767817 ]\n",
      " [ 0.09832017  1.37298782]\n",
      " [ 0.83427247  0.54403558]\n",
      " [ 0.01516241 -0.04764979]\n",
      " [-0.25331007  0.35229282]]\n",
      "Generated Sensors: \n",
      "[[ 0.46409555  1.63450726]\n",
      " [ 1.72346966  1.14498936]\n",
      " [-1.23989952 -1.69847233]\n",
      " [ 1.27918996  0.07435863]\n",
      " [ 1.08567805 -1.92857057]\n",
      " [ 0.81242801  1.27678169]\n",
      " [ 0.09832024  1.37298773]\n",
      " [ 0.83427238  0.54403563]\n",
      " [ 0.01516241 -0.04764978]\n",
      " [-0.25331001  0.35229276]]\n"
     ]
    }
   ],
   "source": [
    "print(\"Real sensors: \")\n",
    "print(sensors)\n",
    "print(\"Generated Sensors: \")\n",
    "generated = np.transpose(Z[0:dim, dim:dim+num_sensors].value)\n",
    "print(generated)"
   ]
  },
  {
   "cell_type": "code",
   "execution_count": 27,
   "metadata": {},
   "outputs": [
    {
     "name": "stdout",
     "output_type": "stream",
     "text": [
      "Real sensors: \n",
      "[[ 0.86109148  0.98948059]\n",
      " [ 1.60656185 -0.48360963]\n",
      " [ 1.0531452  -0.62324633]\n",
      " [-1.22598159 -0.48773091]\n",
      " [ 0.70269259 -1.78430939]\n",
      " [-0.71866919  1.51265894]\n",
      " [ 0.31691533  1.49150015]\n",
      " [ 1.15777625  1.46704818]\n",
      " [ 0.76394984  0.90913851]\n",
      " [-0.43071197 -0.15019594]]\n",
      "Generated Sensors: \n",
      "[[ 0.86109148  0.98948059]\n",
      " [ 1.60656184 -0.48360962]\n",
      " [ 1.05314519 -0.62324632]\n",
      " [-1.22598158 -0.4877309 ]\n",
      " [ 0.70269257 -1.78430938]\n",
      " [-0.7186692   1.51265893]\n",
      " [ 0.31691533  1.49150015]\n",
      " [ 1.15777624  1.46704818]\n",
      " [ 0.76394983  0.9091385 ]\n",
      " [-0.43071197 -0.15019594]]\n"
     ]
    }
   ],
   "source": [
    "# Now use generate sensor locations as the initial points for the \n",
    "# nonlinear least squares approach. \n",
    "check = 1000\n",
    "max_iter = 10000\n",
    "k = 0\n",
    "\n",
    "# Initial sensors guess\n",
    "sensors_0 = generated\n",
    "sensors_k = sensors_0\n",
    "\n",
    "# D iteration\n",
    "alpha = .000001\n",
    "while check > 10**-8 and k < max_iter:\n",
    "    sensors_k1 = sensors_k - alpha * grad(sensors_k)\n",
    "    check = np.linalg.norm(sensors_k1 - sensors_k)\n",
    "    sensors_k = sensors_k1\n",
    "    k = k+1\n",
    "    \n",
    "print(\"Real sensors: \")\n",
    "print(sensors)\n",
    "print(\"Generated Sensors: \")\n",
    "print(sensors_k)"
   ]
  }
 ],
 "metadata": {
  "kernelspec": {
   "display_name": "Python 3",
   "language": "python",
   "name": "python3"
  },
  "language_info": {
   "codemirror_mode": {
    "name": "ipython",
    "version": 3
   },
   "file_extension": ".py",
   "mimetype": "text/x-python",
   "name": "python",
   "nbconvert_exporter": "python",
   "pygments_lexer": "ipython3",
   "version": "3.6.3"
  }
 },
 "nbformat": 4,
 "nbformat_minor": 2
}
