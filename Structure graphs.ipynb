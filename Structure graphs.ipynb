{
 "cells": [
  {
   "cell_type": "code",
   "execution_count": 1,
   "metadata": {
    "collapsed": true
   },
   "outputs": [],
   "source": [
    "# Import necessary modules\n",
    "import cvxpy as cvx\n",
    "import numpy as np\n",
    "from scipy import random\n",
    "from scipy import linalg"
   ]
  },
  {
   "cell_type": "code",
   "execution_count": 2,
   "metadata": {
    "collapsed": true
   },
   "outputs": [],
   "source": [
    "def generate_points(num, dim):\n",
    "    return np.matrix(4 * np.random.random((num, dim)) - 2)"
   ]
  },
  {
   "cell_type": "code",
   "execution_count": 3,
   "metadata": {
    "collapsed": true
   },
   "outputs": [],
   "source": [
    "def sum_elem_product(A,B):\n",
    "    return cvx.sum_entries(cvx.mul_elemwise(A, B))"
   ]
  },
  {
   "cell_type": "code",
   "execution_count": 4,
   "metadata": {},
   "outputs": [],
   "source": [
    "def generate_ss_distances(sensors):\n",
    "    return list(map(lambda s1: \n",
    "                list(map(lambda s2: np.linalg.norm(s1 - s2), sensors))\n",
    "            , sensors))\n",
    "\n",
    "def generate_sa_distances(sensors, anchors):\n",
    "    return list(map(lambda s: \n",
    "                list(map(lambda a: np.linalg.norm(a - s), anchors))\n",
    "            , sensors))"
   ]
  },
  {
   "cell_type": "code",
   "execution_count": 5,
   "metadata": {
    "collapsed": true
   },
   "outputs": [],
   "source": [
    "def get_SOCP_result(sensors, anchors):\n",
    "    d_ss = generate_ss_distances(sensors)\n",
    "    d_sa = generate_sa_distances(sensors, anchors)\n",
    "    \n",
    "    x = cvx.Variable(num_sensors, dim)\n",
    "    objective = cvx.Minimize(0)\n",
    "    \n",
    "    constraints  = []\n",
    "    for i in range(num_sensors):\n",
    "        x_i = x[i, :]\n",
    "        for j in range(num_anchors):\n",
    "            constraints.append(cvx.norm(x_i - anchors[j]) <= d_sa[i][j])\n",
    "        for j in range(num_sensors):\n",
    "            if i < j:\n",
    "                constraints.append(cvx.norm(x_i - sensors[j]) <= d_ss[i][j])\n",
    "\n",
    "    prob = cvx.Problem(objective, constraints)\n",
    "    result = prob.solve(solver = 'MOSEK')\n",
    "    print(\"SOCP complete\")\n",
    "    return x.value"
   ]
  },
  {
   "cell_type": "code",
   "execution_count": 6,
   "metadata": {
    "collapsed": true
   },
   "outputs": [],
   "source": [
    "def get_SDP_result(sensors, anchors):    \n",
    "    \n",
    "    A = enforce_id(sensors)\n",
    "    B = enforce_id2(sensors)\n",
    "    C = sensor_constraints(sensors)\n",
    "    D = anchor_constraints(sensors, anchors)\n",
    "\n",
    "    Z = cvx.Semidef(num_sensors + dim)\n",
    "    \n",
    "    constraints = []\n",
    "    for id_constraint, rhs in zip(A[0], A[1]):\n",
    "        constraints.append(sum_elem_product(id_constraint, Z) == rhs)\n",
    "    for id_constraint2, rhs in zip(B[0], B[1]):\n",
    "        constraints.append(sum_elem_product(id_constraint2, Z) == rhs)\n",
    "    for sensor_constraint, rhs in zip(C[0], C[1]):\n",
    "        constraints.append(sum_elem_product(sensor_constraint, Z) == rhs)\n",
    "    for anchor_constraint, rhs in zip(D[0], D[1]):\n",
    "        constraints.append(sum_elem_product(anchor_constraint, Z) == rhs)\n",
    "        \n",
    "    objective = cvx.Minimize(0)\n",
    "    prob = cvx.Problem(objective, constraints)\n",
    "    result = prob.solve(solver = 'MOSEK')\n",
    "\n",
    "    print(\"SDP complete\")\n",
    "    return np.transpose(Z[0:dim, dim:dim+num_sensors].value)\n",
    "\n",
    "#Make first set of constraint matrices (look like identity)\n",
    "def enforce_id(sensors):\n",
    "    dim = np.shape(sensors)[1]\n",
    "    num_sensors = np.shape(sensors)[0]\n",
    "    matrices = []\n",
    "    rhs = []\n",
    "    for i in range(dim):\n",
    "        new_matrix = np.zeros((dim+num_sensors, dim+num_sensors))\n",
    "        new_matrix[i,i] = 1\n",
    "        matrices.append(new_matrix)\n",
    "        rhs.append(1)\n",
    "        \n",
    "    return (matrices, rhs)\n",
    "\n",
    "#Make second set of constraint matrices (symmetric holders) \n",
    "def enforce_id2(sensors):\n",
    "    dim = np.shape(sensors)[1]\n",
    "    num_sensors = np.shape(sensors)[0]\n",
    "    matrices = []\n",
    "    rhs = []\n",
    "    for i in range(dim):\n",
    "        for j in range(dim):\n",
    "            new_matrix = np.identity(dim)\n",
    "            if(j > i):\n",
    "                new_matrix[i,j] = 1\n",
    "                new_matrix[j,i] = 1\n",
    "                big_matrix = np.zeros((dim+num_sensors, dim+num_sensors))\n",
    "                big_matrix[0:dim,0:dim] = new_matrix\n",
    "                matrices.append(big_matrix)\n",
    "                rhs.append(dim)\n",
    "                \n",
    "    return (matrices, rhs)\n",
    "\n",
    "\n",
    "#Make third set of constraint matrices (anchors to sensors)\n",
    "def sensor_constraints(sensors):\n",
    "    dim = np.shape(sensors)[1]\n",
    "    num_sensors = np.shape(sensors)[0]\n",
    "    d_ss = generate_ss_distances(sensors)\n",
    "    matrices = []\n",
    "    rhs = []\n",
    "    zero_vec_dim = np.zeros(dim)\n",
    "    for i in range(num_sensors):\n",
    "        for j in range(i+1, num_sensors):\n",
    "            zero_vec_num_s = np.zeros(num_sensors)\n",
    "            zero_vec_num_s[i] = 1\n",
    "            zero_vec_num_s[j] = -1\n",
    "            \n",
    "            new_vec = np.matrix(np.append(zero_vec_dim, zero_vec_num_s))\n",
    "            \n",
    "            new_matrix = np.dot(np.transpose(new_vec), new_vec)\n",
    "            \n",
    "            matrices.append(new_matrix)\n",
    "            rhs.append(d_ss[i][j]**2)\n",
    "\n",
    "    return (matrices, rhs)\n",
    "\n",
    "#Make fourth set of constraint matrices (sensors to sensors)\n",
    "def anchor_constraints(sensors, anchors):\n",
    "    num_anchors = np.shape(anchors)[0]\n",
    "    d_sa = generate_sa_distances(sensors, anchors)\n",
    "    matrices = []\n",
    "    rhs = []\n",
    "    for i in range(num_anchors):\n",
    "        for j in range(num_sensors):\n",
    "            zero_vec_num_s = np.zeros(num_sensors)\n",
    "            zero_vec_num_s[j] = -1\n",
    "\n",
    "            new_vec = np.append(np.array(anchors[i,:]), np.array(zero_vec_num_s))\n",
    "            new_vec = np.matrix(new_vec)\n",
    "            new_matrix = np.dot(np.transpose(new_vec), new_vec)\n",
    "            matrices.append(new_matrix)\n",
    "            rhs.append(d_sa[j][i]**2)\n",
    "\n",
    "    return (matrices, rhs)"
   ]
  },
  {
   "cell_type": "code",
   "execution_count": 7,
   "metadata": {},
   "outputs": [],
   "source": [
    "def get_NLLS_matches(sensors, anchors):\n",
    "    check = 1000\n",
    "    max_iter = 10000\n",
    "    k = 0\n",
    "\n",
    "    # Initial sensors guess\n",
    "    sensors_0 = generate_points(num_sensors, dim)\n",
    "    sensors_k = sensors_0\n",
    "\n",
    "    # iteration\n",
    "    alpha = .0000001\n",
    "    while check > 10**-8 and k < max_iter:\n",
    "        sensors_k1 = sensors_k - alpha * grad(sensors_k)\n",
    "        check = np.linalg.norm(sensors_k1 - sensors_k)\n",
    "        sensors_k = sensors_k1\n",
    "        if(k % 1000 == 0):\n",
    "            print(\"NLLS k:\" + str(k))\n",
    "        k = k+1\n",
    "\n",
    "    print(\"NLLS complete\")\n",
    "    return sensors_k\n",
    "    \n",
    "def grad(X):\n",
    "    sensor_distance_sum = np.zeros((1,X.shape[1]))\n",
    "    anchor_distance_sum = np.zeros((1,X.shape[1]))\n",
    "    gradient = np.zeros(X.shape)\n",
    "\n",
    "    for i, sensor_i in enumerate(X):\n",
    "        for j, sensor_j in enumerate(X):\n",
    "            if(i != j):\n",
    "                sensor_distance_sum += (np.linalg.norm(sensor_i - sensor_j)**2 - \\\n",
    "                                        np.linalg.norm(sensors[i,:] - sensors[j,:])**2) * \\\n",
    "                                       (sensor_i - sensor_j)\n",
    "\n",
    "        for k, anchor_k in enumerate(anchors):\n",
    "            anchor_distance_sum += (np.linalg.norm(anchor_k - sensor_i)**2 - \\\n",
    "                                    np.linalg.norm(anchors[k,:] - sensors[i,:])**2) * \\\n",
    "                                   (sensor_i - anchor_k)\n",
    "\n",
    "        gradient[i,:] = 8*sensor_distance_sum + 4*anchor_distance_sum\n",
    "\n",
    "    return gradient"
   ]
  },
  {
   "cell_type": "code",
   "execution_count": 12,
   "metadata": {
    "collapsed": true
   },
   "outputs": [],
   "source": [
    "def get_sensor_matches(sensors, results):\n",
    "    matches = []\n",
    "    for sensor, result in zip(sensors, results):\n",
    "        matches.append(np.linalg.norm(sensor - result) < 10**(-6))\n",
    "    return matches"
   ]
  },
  {
   "cell_type": "code",
   "execution_count": 9,
   "metadata": {},
   "outputs": [
    {
     "name": "stdout",
     "output_type": "stream",
     "text": [
      "SOCP complete\n",
      "SDP complete\n",
      "NLLS k:0\n",
      "NLLS k:500\n",
      "NLLS k:1000\n",
      "NLLS k:1500\n",
      "NLLS k:2000\n",
      "NLLS k:2500\n",
      "NLLS k:3000\n",
      "NLLS k:3500\n",
      "NLLS k:4000\n",
      "NLLS k:4500\n",
      "NLLS k:5000\n",
      "NLLS k:5500\n",
      "NLLS k:6000\n",
      "NLLS k:6500\n",
      "NLLS k:7000\n",
      "NLLS k:7500\n",
      "NLLS k:8000\n",
      "NLLS k:8500\n",
      "NLLS k:9000\n",
      "NLLS k:9500\n"
     ]
    }
   ],
   "source": [
    "#run simulation\n",
    "dim = 2\n",
    "num_sensors = 10\n",
    "num_anchors = 4\n",
    "\n",
    "anchors = generate_points(num_anchors, dim)\n",
    "sensors = generate_points(num_sensors, dim)\n",
    "\n",
    "SOCP_result = get_SOCP_result(sensors, anchors)\n",
    "SDP_result = get_SDP_result(sensors, anchors)\n",
    "NLLS_result = get_NLLS_matches(sensors, anchors)"
   ]
  },
  {
   "cell_type": "code",
   "execution_count": 14,
   "metadata": {},
   "outputs": [
    {
     "name": "stdout",
     "output_type": "stream",
     "text": [
      "[[ 1.97484834  1.69665244]\n",
      " [-1.97778303 -1.3966189 ]\n",
      " [-1.25784669 -1.69066805]\n",
      " [ 0.10999455 -1.72076001]\n",
      " [-0.57225127 -0.85888764]\n",
      " [-0.36876669 -0.03505139]\n",
      " [ 0.17546492  0.0899418 ]\n",
      " [ 1.48423434 -1.91628835]\n",
      " [-1.83964622  0.26857945]\n",
      " [ 0.5151761  -0.94136593]]\n",
      "[False, False, False, False, True, True, True, False, False, False]\n",
      "[True, True, True, True, True, True, True, True, True, True]\n",
      "[False, False, False, False, False, False, False, False, False, False]\n"
     ]
    }
   ],
   "source": [
    "print(sensors)\n",
    "print(get_sensor_matches(sensors,SOCP_result))\n",
    "print(get_sensor_matches(sensors,SDP_result))\n",
    "print(get_sensor_matches(sensors,NLLS_result))"
   ]
  }
 ],
 "metadata": {
  "kernelspec": {
   "display_name": "Python 3",
   "language": "python",
   "name": "python3"
  },
  "language_info": {
   "codemirror_mode": {
    "name": "ipython",
    "version": 3
   },
   "file_extension": ".py",
   "mimetype": "text/x-python",
   "name": "python",
   "nbconvert_exporter": "python",
   "pygments_lexer": "ipython3",
   "version": "3.6.1"
  }
 },
 "nbformat": 4,
 "nbformat_minor": 2
}
