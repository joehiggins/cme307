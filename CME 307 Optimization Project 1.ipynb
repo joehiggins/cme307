{
 "cells": [
  {
   "cell_type": "markdown",
   "metadata": {},
   "source": [
    "*Group: Austin Wang, Joe Higgins, Lawrence Moore*"
   ]
  },
  {
   "cell_type": "markdown",
   "metadata": {},
   "source": [
    "The sensor network localization (SNL) problem is easy to understand yet surprisingly complex to solve. Given the distance between a set of anchors and sensors, with the true location of the anchors being known, the goal is to locate the sensors. Yet despite the straightforward statement of the problem, localizing the sensors in a wide variety of configurations presents a major challenge. In this project, we dive deep into two major components of the SNL problem under the assumption that all distance information is known:\n",
    "\n",
    " * How do the number of dimensions and anchors along with the starting point and learning rate affect the performance of the algorithms over a *large* number of randomly generated points\n",
    " * What algorithmic approach is overall best suited for the problem. To be explicit, we implemented extensible variations of \n",
    "     * Second Order Conic Problem (SOCP)  \n",
    "     * Semi-definite Programming (SDP), with and without noise \n",
    "     * Simple non-linear least squares (NLLS)\n",
    "     * Steepest Descent Method (SDM) with three different schemes for enforcing semi-definiteness\n",
    "\n",
    "After running 50 simulations for each configuration of dimensions, anchors, and sensors, we found that SDP is the best approach once the number of anchors exceeds the number of dimensions - it always found the sensors. In the case that the number of anchors is less than the number of dimensions, NLLS slightly outpeforms the other two. SOCP performs the worst under almost all circumstances. \n",
    "\n",
    "Additionally, we investigated two other aspects of the SNL problem. One was introducing noise to the SDP formulation. Unfortunately we found that it didn't aid in the convergence process. Either the noise would be set to zero at the optimal point, or the resulting incorrect estimate did not lead NLLS to the optimal solution when initialized to that point. For the SDM method, only the eigenvalue decomposition lead to an optimal point. Using only the top 6 eigenvalues did not lead to convergence. The LDL decomposition fails when the solution falls out of the feasible region."
   ]
  },
  {
   "cell_type": "markdown",
   "metadata": {},
   "source": [
    "## Question 1: Comparing Average Performance of SOCP, SDP, and NLLS\n",
    "\n",
    "In previous homeworks, our analysis of SOCP and SDP was mainly concerned with the relative positions of the sensors in the anchor-sensor system. As opposed to focusing on which specific configurations allow the sensors to be localized for the three different methods, in this part of the project we explore the effects of dimensionality and number of anchors on the success rates of the methods."
   ]
  },
  {
   "cell_type": "markdown",
   "metadata": {},
   "source": [
    "### Methodology\n",
    "\n",
    "Our first step was providing an extensible implementation of the SOCP, SDP, and NLLS for a given dimension-number of anchors combination $(d, a)$, where $d \\in [1,2,3]$  and  $a \\in [2,3,4]$. We fix the number of sensors at 10. The functions run_socp, run_sdp, and run_nlls execute a single run of the methods for given input sensors and input anchors, and return the number of sensors that were located correctly. \n",
    "\n",
    "Then, at the beginning of each of 50 trials, we randomly generate sensors and anchors whose coordinates are chosen from $(-2, 2)$ for a given dimension and a given number of anchors. Finally, we count the number of correctly located sensors for each method and display the average number of successes per iteration in the bar graphs that follow. "
   ]
  },
  {
   "cell_type": "code",
   "execution_count": null,
   "metadata": {
    "collapsed": true
   },
   "outputs": [],
   "source": [
    "# Import necessary modules\n",
    "import cvxpy as cvx\n",
    "import numpy as np\n",
    "%matplotlib inline\n",
    "import matplotlib.pyplot as plt"
   ]
  },
  {
   "cell_type": "markdown",
   "metadata": {},
   "source": [
    "### Helper functions"
   ]
  },
  {
   "cell_type": "markdown",
   "metadata": {},
   "source": [
    "#### General Helpers"
   ]
  },
  {
   "cell_type": "code",
   "execution_count": 2,
   "metadata": {
    "collapsed": true
   },
   "outputs": [],
   "source": [
    "# Used for generating random anchors and sensors whose coordinates are in [-2,2]\n",
    "def generate_points(num, dim):\n",
    "    return np.matrix(4 * np.random.random((num, dim)) - 2)\n",
    "\n",
    "# For generating the sensor-sensor distances and sensor-anchor distances\n",
    "def generate_ss_distances(sensors):\n",
    "    return list(map(lambda s1: \n",
    "                list(map(lambda s2: np.linalg.norm(s1 - s2), sensors))\n",
    "            , sensors))\n",
    "\n",
    "def generate_sa_distances(sensors, anchors):\n",
    "    return list(map(lambda s: \n",
    "                list(map(lambda a: np.linalg.norm(a - s), anchors))\n",
    "            , sensors))\n",
    "\n",
    "# For defining the the matrix-matrix dot product\n",
    "def sum_elem_product(A,B):\n",
    "    return cvx.sum_entries(cvx.mul_elemwise(A, B))\n",
    "\n",
    "# For calculating the number of sensors that are correctly located\n",
    "def sensor_acc(x, true_sensors):\n",
    "    num_correct = 0\n",
    "    for i in range(true_sensors.shape[0]):\n",
    "        if abs(np.linalg.norm(x[i,:]-true_sensors[i,:])) <= 10**-2:\n",
    "            num_correct += 1\n",
    "    return num_correct"
   ]
  },
  {
   "cell_type": "markdown",
   "metadata": {},
   "source": [
    "#### SDP Helpers"
   ]
  },
  {
   "cell_type": "code",
   "execution_count": 3,
   "metadata": {
    "collapsed": true
   },
   "outputs": [],
   "source": [
    "#Make first set of constraint matrices (look like identity)\n",
    "def enforce_id(sensors):\n",
    "    dim = np.shape(sensors)[1]\n",
    "    num_sensors = np.shape(sensors)[0]\n",
    "    matrices = []\n",
    "    rhs = []\n",
    "    for i in range(dim):\n",
    "        new_matrix = np.zeros((dim+num_sensors, dim+num_sensors))\n",
    "        new_matrix[i,i] = 1\n",
    "        matrices.append(new_matrix)\n",
    "        rhs.append(1)\n",
    "        \n",
    "    return (matrices, rhs)\n",
    "\n",
    "#Make second set of constraint matrices (symmetric holders) \n",
    "def enforce_id2(sensors):\n",
    "    dim = np.shape(sensors)[1]\n",
    "    num_sensors = np.shape(sensors)[0]\n",
    "    matrices = []\n",
    "    rhs = []\n",
    "    for i in range(dim):\n",
    "        for j in range(dim):\n",
    "            new_matrix = np.identity(dim)\n",
    "            if(j > i):\n",
    "                new_matrix[i,j] = 1\n",
    "                new_matrix[j,i] = 1\n",
    "                big_matrix = np.zeros((dim+num_sensors, dim+num_sensors))\n",
    "                big_matrix[0:dim,0:dim] = new_matrix\n",
    "                matrices.append(big_matrix)\n",
    "                rhs.append(dim)\n",
    "                \n",
    "    return (matrices, rhs)\n",
    "\n",
    "\n",
    "#Make third set of constraint matrices (anchors to sensors)\n",
    "def sensor_constraints(sensors):\n",
    "    dim = np.shape(sensors)[1]\n",
    "    num_sensors = np.shape(sensors)[0]\n",
    "    d_ss = generate_ss_distances(sensors)\n",
    "    matrices = []\n",
    "    rhs = []\n",
    "    zero_vec_dim = np.zeros(dim)\n",
    "    for i in range(num_sensors):\n",
    "        for j in range(i+1, num_sensors):\n",
    "            zero_vec_num_s = np.zeros(num_sensors)\n",
    "            zero_vec_num_s[i] = 1\n",
    "            zero_vec_num_s[j] = -1\n",
    "            \n",
    "            new_vec = np.matrix(np.append(zero_vec_dim, zero_vec_num_s))\n",
    "            \n",
    "            new_matrix = np.dot(np.transpose(new_vec), new_vec)\n",
    "            \n",
    "            matrices.append(new_matrix)\n",
    "            rhs.append(d_ss[i][j]**2)\n",
    "\n",
    "    return (matrices, rhs)\n",
    "\n",
    "#Make fourth set of constraint matrices (sensors to sensors)\n",
    "def anchor_constraints(sensors, anchors):\n",
    "    num_sensors = np.shape(sensors)[0]\n",
    "    num_anchors = np.shape(anchors)[0]\n",
    "    d_sa = generate_sa_distances(sensors, anchors)\n",
    "    matrices = []\n",
    "    rhs = []\n",
    "    for i in range(num_anchors):\n",
    "        for j in range(num_sensors):\n",
    "            zero_vec_num_s = np.zeros(num_sensors)\n",
    "            zero_vec_num_s[j] = -1\n",
    "\n",
    "            new_vec = np.append(np.array(anchors[i,:]), np.array(zero_vec_num_s))\n",
    "            new_vec = np.matrix(new_vec)\n",
    "            new_matrix = np.dot(np.transpose(new_vec), new_vec)\n",
    "            matrices.append(new_matrix)\n",
    "            rhs.append(d_sa[j][i]**2)\n",
    "\n",
    "    return (matrices, rhs)"
   ]
  },
  {
   "cell_type": "markdown",
   "metadata": {},
   "source": [
    "#### NLLS Helpers"
   ]
  },
  {
   "cell_type": "code",
   "execution_count": 4,
   "metadata": {
    "collapsed": true
   },
   "outputs": [],
   "source": [
    "# Gradient of objective\n",
    "def grad(sensors, anchors, sens2sens_dist, sens2anc_dist):\n",
    "    dim = sensors.shape[1]\n",
    "    sensor_distance_sum = np.zeros((1,dim))\n",
    "    anchor_distance_sum = np.zeros((1,dim))\n",
    "    gradient = np.zeros(sensors.shape)\n",
    "\n",
    "    for i, sensor_i in enumerate(sensors):\n",
    "        for j, sensor_j in enumerate(sensors):\n",
    "            if(i != j):\n",
    "                sensor_distance_sum += (np.linalg.norm(sensor_i - sensor_j)**2 - \\\n",
    "                                        np.linalg.norm(sens2sens_dist[i][j])**2) * \\\n",
    "                                       (sensor_i - sensor_j)\n",
    "\n",
    "        for k, anchor_k in enumerate(anchors):\n",
    "            anchor_distance_sum += (np.linalg.norm(anchor_k - sensor_i)**2 - \\\n",
    "                                    np.linalg.norm(sens2anc_dist[i][k])**2) * \\\n",
    "                                   (sensor_i - anchor_k)\n",
    "\n",
    "        gradient[i,:] = 8*sensor_distance_sum + 4*anchor_distance_sum\n",
    "\n",
    "    return gradient"
   ]
  },
  {
   "cell_type": "markdown",
   "metadata": {},
   "source": [
    "#### Individual Method Run Helpers"
   ]
  },
  {
   "cell_type": "code",
   "execution_count": 5,
   "metadata": {
    "collapsed": true
   },
   "outputs": [],
   "source": [
    "# Returns the number of correctly located sensors for SOCP\n",
    "def run_socp(sensors, anchors):\n",
    "    d_ss = generate_ss_distances(sensors)\n",
    "    d_sa = generate_sa_distances(sensors, anchors)\n",
    "    \n",
    "    dim = sensors.shape[1]\n",
    "    num_sensors = 10\n",
    "    num_anchors = anchors.shape[0]\n",
    "    x = cvx.Variable(num_sensors, dim)\n",
    "    objective = cvx.Minimize(0)\n",
    "    \n",
    "    constraints  = []\n",
    "    for i in range(num_sensors):\n",
    "        x_i = x[i, :]\n",
    "        for j in range(num_anchors):\n",
    "            constraints.append(cvx.norm(x_i - anchors[j]) <= d_sa[i][j])\n",
    "        for j in range(num_sensors):\n",
    "            if i < j:\n",
    "                constraints.append(cvx.norm(x_i - sensors[j]) <= d_ss[i][j])\n",
    "\n",
    "    prob = cvx.Problem(objective, constraints)\n",
    "    result = prob.solve(solver = 'MOSEK')\n",
    "    return sensor_acc(x.value, sensors)"
   ]
  },
  {
   "cell_type": "code",
   "execution_count": 6,
   "metadata": {
    "collapsed": true
   },
   "outputs": [],
   "source": [
    "# Returns the number of correctly located sensors for SDP\n",
    "def run_sdp(sensors, anchors):    \n",
    "    \n",
    "    # Make constraints\n",
    "    A = enforce_id(sensors)\n",
    "    B = enforce_id2(sensors)\n",
    "    C = sensor_constraints(sensors)\n",
    "    D = anchor_constraints(sensors, anchors)\n",
    "    \n",
    "    # Parameters\n",
    "    dim = sensors.shape[1]\n",
    "    num_sensors = 10\n",
    "    num_anchors = anchors.shape[0]\n",
    "    Z = cvx.Semidef(num_sensors + dim)\n",
    "    \n",
    "    constraints = []\n",
    "    for id_constraint, rhs in zip(A[0], A[1]):\n",
    "        constraints.append(sum_elem_product(id_constraint, Z) == rhs)\n",
    "    for id_constraint2, rhs in zip(B[0], B[1]):\n",
    "        constraints.append(sum_elem_product(id_constraint2, Z) == rhs)\n",
    "    for sensor_constraint, rhs in zip(C[0], C[1]):\n",
    "        constraints.append(sum_elem_product(sensor_constraint, Z) == rhs)\n",
    "    for anchor_constraint, rhs in zip(D[0], D[1]):\n",
    "        constraints.append(sum_elem_product(anchor_constraint, Z) == rhs)\n",
    "        \n",
    "    objective = cvx.Minimize(0)\n",
    "    prob = cvx.Problem(objective, constraints)\n",
    "    result = prob.solve(solver = 'MOSEK')\n",
    "    sol = np.transpose(Z[0:dim, dim:dim+num_sensors].value)\n",
    "    \n",
    "    return sensor_acc(sol, sensors)"
   ]
  },
  {
   "cell_type": "code",
   "execution_count": 7,
   "metadata": {
    "collapsed": true
   },
   "outputs": [],
   "source": [
    "def run_nlls(sensors, anchors):\n",
    "    check = 1000\n",
    "    max_iter = 10000\n",
    "    k = 0\n",
    "\n",
    "    # Parameters and initial data\n",
    "    dim = sensors.shape[1]\n",
    "    num_sensors = 10\n",
    "    num_anchors = anchors.shape[0]\n",
    "    d_ss = generate_ss_distances(sensors)\n",
    "    d_sa = generate_sa_distances(sensors, anchors)\n",
    "    \n",
    "    # Initial sensors guess\n",
    "    \n",
    "    # RESULTS QUITE SENSITIVE TO INITIAL GUESS AS WELL\n",
    "    sensors_0 = np.zeros(sensors.shape)\n",
    "    sensors_k = sensors_0\n",
    "\n",
    "\n",
    "    # Iteration\n",
    "    alpha = .0001 # Result quite sensitive to alpha; chose from empirical evidence\n",
    "    while check > 10**-6 and k < max_iter:\n",
    "        sensors_k1 = sensors_k - alpha * grad(sensors_k, anchors, d_ss, d_sa)\n",
    "        check = np.linalg.norm(sensors_k1 - sensors_k)\n",
    "        sensors_k = sensors_k1\n",
    "        k = k+1\n",
    "    return sensor_acc(sensors_k1, sensors)"
   ]
  },
  {
   "cell_type": "code",
   "execution_count": 9,
   "metadata": {
    "collapsed": true
   },
   "outputs": [],
   "source": [
    "# Function that takes in a given dimension dim in [1,2,3] and outputs\n",
    "# a tuple of 3 lists of lists. Each of these three outer lists corresponds\n",
    "# to the data for SOCP, SDP, and Nonlinear Least Squares. The inner lists each\n",
    "# correspond to the number of anchors in [2,3,4]. The values in each of these inner\n",
    "# lists are the average number of sensors out of the 10 that were located correctly\n",
    "# out of 50 trials\n",
    "def execute_solvers(dim):\n",
    "    SOCP_vals = []\n",
    "    SDP_vals = []\n",
    "    NLLS_vals = []\n",
    "    for anc_i in num_anchors:\n",
    "        socp_sum = 0\n",
    "        sdp_sum = 0\n",
    "        nlls_sum = 0\n",
    "        for j in range(50):\n",
    "            # Initialize data for a given trial\n",
    "            sensors = generate_points(10, dim)\n",
    "            anchors = generate_points(anc_i, dim)\n",
    "            \n",
    "            socp_sum += run_socp(sensors, anchors)\n",
    "            sdp_sum += run_sdp(sensors, anchors)\n",
    "            nlls_sum += run_nlls(sensors, anchors)\n",
    "        SOCP_vals.append(socp_sum/50)\n",
    "        SDP_vals.append(sdp_sum/50)\n",
    "        NLLS_vals.append(nlls_sum/50)\n",
    "        print('Finished One Anchor Iteration')\n",
    "\n",
    "    return (SOCP_vals, SDP_vals, NLLS_vals)"
   ]
  },
  {
   "cell_type": "code",
   "execution_count": 10,
   "metadata": {
    "collapsed": true
   },
   "outputs": [],
   "source": [
    "num_anchors = [2,3,4]\n",
    "\n",
    "# Results - uncomment the following cells to run solvers\n",
    "# dim1 = execute_solvers(1)\n",
    "# dim2 = execute_solvers(2)\n",
    "# dim3 = execute_solvers(3)\n",
    "\n",
    "# Results of our simulation (if you don't want to rerun code)\n",
    "dim1 = ([7.38, 7.5, 7.62], [10.0, 10.0, 10.0], [7.6, 8.8, 9.0])\n",
    "dim2 = ([2.76, 3.06, 3.6], [0.06, 10.0, 10.0], [3.82, 7.0, 7.82])\n",
    "dim3 = ([0.62, 0.94, 1.16], [0.0, 0.16, 10.0], [0.0, 2.68, 4.5])"
   ]
  },
  {
   "cell_type": "code",
   "execution_count": 47,
   "metadata": {
    "scrolled": true
   },
   "outputs": [
    {
     "data": {
      "image/png": "[encoded data removed]",
      "text/plain": [
       "<matplotlib.figure.Figure at 0x1171a17f0>"
      ]
     },
     "metadata": {},
     "output_type": "display_data"
    },
    {
     "data": {
      "image/png": "[encoded data removed]",
      "text/plain": [
       "<matplotlib.figure.Figure at 0x116c902b0>"
      ]
     },
     "metadata": {},
     "output_type": "display_data"
    },
    {
     "data": {
      "image/png": "[encoded data removed]",
      "text/plain": [
       "<matplotlib.figure.Figure at 0x117cc5c18>"
      ]
     },
     "metadata": {},
     "output_type": "display_data"
    }
   ],
   "source": [
    "# 1 Dimension\n",
    "\n",
    "# 2 anchors\n",
    "plt.figure()\n",
    "plt.bar(['SOCP','SDP','NLLS'],[i[0] for i in dim1])\n",
    "plt.title('2 Anchors, 1 Dimension')\n",
    "plt.xlabel('Method')\n",
    "plt.ylabel('Number of Correctly Located Sensors')\n",
    "plt.ylim((0,10))\n",
    "plt.savefig('anc2_dim1.jpg')\n",
    "\n",
    "# 3 anchors\n",
    "plt.figure()\n",
    "plt.bar(['SOCP','SDP','NLLS'],[i[1] for i in dim1])\n",
    "plt.title('3 Anchors, 1 Dimension')\n",
    "plt.xlabel('Method')\n",
    "plt.ylabel('Number of Correctly Located Sensors')\n",
    "plt.ylim((0,10))\n",
    "plt.savefig('anc3_dim1.jpg')\n",
    "\n",
    "# 4 anchors\n",
    "plt.figure()\n",
    "plt.bar(['SOCP','SDP','NLLS'],[i[2] for i in dim1])\n",
    "plt.title('4 Anchors, 1 Dimension')\n",
    "plt.xlabel('Method')\n",
    "plt.ylabel('Number of Correctly Located Sensors')\n",
    "plt.ylim((0,10))\n",
    "plt.savefig('anc4_dim1.jpg')"
   ]
  },
  {
   "cell_type": "code",
   "execution_count": 48,
   "metadata": {
    "scrolled": true
   },
   "outputs": [
    {
     "data": {
      "image/png": "[encoded data removed]",
      "text/plain": [
       "<matplotlib.figure.Figure at 0x117d449e8>"
      ]
     },
     "metadata": {},
     "output_type": "display_data"
    },
    {
     "data": {
      "image/png": "[encoded data removed]",
      "text/plain": [
       "<matplotlib.figure.Figure at 0x1178ee9b0>"
      ]
     },
     "metadata": {},
     "output_type": "display_data"
    },
    {
     "data": {
      "image/png": "[encoded data removed]",
      "text/plain": [
       "<matplotlib.figure.Figure at 0x10c3f0c18>"
      ]
     },
     "metadata": {},
     "output_type": "display_data"
    }
   ],
   "source": [
    "# 2 Dimensions\n",
    "\n",
    "# 2 anchors\n",
    "plt.figure()\n",
    "plt.bar(['SOCP','SDP','NLLS'],[i[0] for i in dim2])\n",
    "plt.title('2 Anchors, 2 Dimensions')\n",
    "plt.xlabel('Method')\n",
    "plt.ylabel('Number of Correctly Located Sensors')\n",
    "plt.ylim((0,10))\n",
    "plt.savefig('anc2_dim2.jpg')\n",
    "\n",
    "# 3 anchors\n",
    "plt.figure()\n",
    "plt.bar(['SOCP','SDP','NLLS'],[i[1] for i in dim2])\n",
    "plt.title('3 Anchors, 2 Dimensions')\n",
    "plt.xlabel('Method')\n",
    "plt.ylabel('Number of Correctly Located Sensors')\n",
    "plt.ylim((0,10))\n",
    "plt.savefig('anc3_dim2.jpg')\n",
    "\n",
    "# 4 anchors\n",
    "plt.figure()\n",
    "plt.bar(['SOCP','SDP','NLLS'],[i[2] for i in dim2])\n",
    "plt.title('4 Anchors, 2 Dimensions')\n",
    "plt.xlabel('Method')\n",
    "plt.ylabel('Number of Correctly Located Sensors')\n",
    "plt.ylim((0,10))\n",
    "plt.savefig('anc4_dim2.jpg')"
   ]
  },
  {
   "cell_type": "code",
   "execution_count": 49,
   "metadata": {
    "scrolled": true
   },
   "outputs": [
    {
     "data": {
      "image/png": "[encoded data removed]",
      "text/plain": [
       "<matplotlib.figure.Figure at 0x10c3fd9e8>"
      ]
     },
     "metadata": {},
     "output_type": "display_data"
    },
    {
     "data": {
      "image/png": "[encoded data removed]",
      "text/plain": [
       "<matplotlib.figure.Figure at 0x1178ee080>"
      ]
     },
     "metadata": {},
     "output_type": "display_data"
    },
    {
     "data": {
      "image/png": "[encoded data removed]",
      "text/plain": [
       "<matplotlib.figure.Figure at 0x1174709e8>"
      ]
     },
     "metadata": {},
     "output_type": "display_data"
    }
   ],
   "source": [
    "# 3 Dimensions\n",
    "\n",
    "# 2 anchors\n",
    "plt.figure()\n",
    "plt.bar(['SOCP','SDP','NLLS'],[i[0] for i in dim3])\n",
    "plt.title('2 Anchors, 3 Dimensions')\n",
    "plt.xlabel('Method')\n",
    "plt.ylabel('Number of Correctly Located Sensors')\n",
    "plt.ylim((0,10))\n",
    "plt.savefig('anc2_dim3.jpg')\n",
    "\n",
    "# 3 anchors\n",
    "plt.figure()\n",
    "plt.bar(['SOCP','SDP','NLLS'],[i[1] for i in dim3])\n",
    "plt.title('3 Anchors, 3 Dimensions')\n",
    "plt.xlabel('Method')\n",
    "plt.ylabel('Number of Correctly Located Sensors')\n",
    "plt.ylim((0,10))\n",
    "plt.savefig('anc3_dim3.jpg')\n",
    "\n",
    "# 4 anchors\n",
    "plt.figure()\n",
    "plt.bar(['SOCP','SDP','NLLS'],[i[2] for i in dim3])\n",
    "plt.title('4 Anchors, 3 Dimensions')\n",
    "plt.xlabel('Method')\n",
    "plt.ylabel('Number of Correctly Located Sensors')\n",
    "plt.ylim((0,10))\n",
    "plt.savefig('anc4_dim3.jpg')"
   ]
  },
  {
   "cell_type": "markdown",
   "metadata": {},
   "source": [
    "### Discussion \n",
    "\n",
    "For a given dimension, the number of anchors heavily influences which algorithm performs the best. When the number of anchors is less than the number of dimensions, SDP performs the worst, with NLLS performing the best under this condition. However, once the number of anchors exceeds the number of dimensions, SDP finds all ten sensors in every case. Note that we generated the sensors and anchors randomly in a range of 2 across each dimension, which should capture instances of the sensors falling inside the convex hull of the anchors in addition to falling outside. SOCP's performance remains essentially constant across the number of anchors, as it would seem the number of points that fall within the convex hull remains roughly the same. NLLS does better with more anchors, though the increase in performance is not as drastic as with SDP. \n",
    "\n",
    "As the number of dimensions increased, the performance of all three algorithms decreased. This was particularly the case with SOCP, where the average number of anchors found for dimension 3 was only around 1. As we saw in the previous homeworks, the convex hull of the anchors plays a critical role in whether the location of the sensors is found for SOCP. Therefore, it makes sense that the increase in dimensions leads to more sensors outside the convex hull, and thus a worse performance overall. \n",
    "\n",
    "Changing the focus from dimensionality to initial conditions, we found that the success rate of NLLS is highly dependent on the starting point and the learning rate. In our particular simulations, we used a constant starting point of the origin. We saw that for a given run of the NLLS gradient descent algorithm, there were three possible cases. In the first case, the NLLS was able to exactly locate all 10 sensors. In the second case, the norm of the gradient became quite close to 0, but the algorithm did not converge to the true sensor locations. In the final case, the norm of the gradient blew up. Which case we encountered appears to be directly dependent on the starting point and the learning rate. Although we used the origin as a fixed starting point in our simulations, we also tested starting points that were very near the true sensor locations and very far. For starting points close to the true sensor location, we almost always encountered case 1 if we chose our learning rate small enough. As the starting points became further and further from the true sensor locations, we tended to encounter case 2 more often. In addition, we needed to increase the learning rate to achieve a reasonable convergence speed, but this could lead to an explosion of the gradient, given that we used a constant learning rate in our simulations (i.e. no backtracking). To achieve a reasonable convergence rate using a constant learning rate, and to increase the frequency of convergence to the true sensor locations, we found that a good learning rate was 0.0001."
   ]
  }
 ],
 "metadata": {
  "kernelspec": {
   "display_name": "Python 3",
   "language": "python",
   "name": "python3"
  },
  "language_info": {
   "codemirror_mode": {
    "name": "ipython",
    "version": 3
   },
   "file_extension": ".py",
   "mimetype": "text/x-python",
   "name": "python",
   "nbconvert_exporter": "python",
   "pygments_lexer": "ipython3",
   "version": "3.6.3"
  }
 },
 "nbformat": 4,
 "nbformat_minor": 2
}
