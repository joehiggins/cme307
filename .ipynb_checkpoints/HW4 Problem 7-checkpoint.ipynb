{
 "cells": [
  {
   "cell_type": "markdown",
   "metadata": {
    "collapsed": true
   },
   "source": [
    "## Team members: Lawrence Moore, Austin Wang, Joe Higgins\n",
    "\n",
    "### Question 7"
   ]
  },
  {
   "cell_type": "markdown",
   "metadata": {},
   "source": [
    "For this question, we implement the ADMM algorithm and explore the behavior with various betas and objective functions"
   ]
  },
  {
   "cell_type": "markdown",
   "metadata": {},
   "source": [
    "#### Part a"
   ]
  },
  {
   "cell_type": "code",
   "execution_count": 1,
   "metadata": {
    "collapsed": true
   },
   "outputs": [],
   "source": [
    "import numpy as np"
   ]
  },
  {
   "cell_type": "code",
   "execution_count": 2,
   "metadata": {},
   "outputs": [],
   "source": [
    "def M_beta(beta):\n",
    "    LHM = np.matrix([\n",
    "        [3*beta, 0,      0,      0, 0, 0],\n",
    "        [4*beta, 6*beta, 0,      0, 0, 0],\n",
    "        [5*beta, 7*beta, 9*beta, 0, 0, 0],\n",
    "        [1*beta, 1*beta, 1*beta, 1, 0, 0],\n",
    "        [1*beta, 1*beta, 2*beta, 0, 1, 0],\n",
    "        [1*beta, 2*beta, 2*beta, 0, 0, 1],\n",
    "    ])\n",
    "\n",
    "    RHM = np.matrix([\n",
    "        [0, -4*beta, -5*beta, 1, 1, 1],\n",
    "        [0,       0, -7*beta, 1, 1, 2],\n",
    "        [0,       0,       0, 1, 2, 2],\n",
    "        [0,       0,       0, 1, 0, 0],\n",
    "        [0,       0,       0, 0, 1, 0],\n",
    "        [0,       0,       0, 0, 0, 1],\n",
    "    ])\n",
    "    \n",
    "    return (np.linalg.inv(LHM) * RHM)[1:,1:]"
   ]
  },
  {
   "cell_type": "code",
   "execution_count": 3,
   "metadata": {
    "collapsed": true
   },
   "outputs": [],
   "source": [
    "def find_optimal(M):\n",
    "    xy = np.matrix([[1], [2], [3], [4], [5]])\n",
    "    xy_k = xy\n",
    "    check = 10**6\n",
    "    max_iter = 1000\n",
    "    k = 0\n",
    "\n",
    "    np.linalg.eig(M)\n",
    "\n",
    "    while(check > 10**-8 and k < max_iter):\n",
    "        k += 1\n",
    "        xy_k1 = M * xy_k\n",
    "        check = np.linalg.norm(xy_k1 - xy_k)\n",
    "        xy_k = xy_k1\n",
    "    return xy_k, k"
   ]
  },
  {
   "cell_type": "code",
   "execution_count": 4,
   "metadata": {},
   "outputs": [
    {
     "name": "stdout",
     "output_type": "stream",
     "text": [
      "Optimal value\n",
      "[0, 0, 0]\n",
      "Number of Iterations for beta = 0.1\n",
      "1000\n",
      "Optimal for beta = 0.1\n",
      "[[  2.37133293e+12]\n",
      " [ -3.28160297e+12]\n",
      " [ -3.67229831e+11]\n",
      " [ -2.43974628e+11]\n",
      " [  4.27589544e+11]]\n",
      "Number of Iterations for beta = 1\n",
      "1000\n",
      "Optimal for beta = 1\n",
      "[[  1.71634730e+12]\n",
      " [ -8.37461739e+11]\n",
      " [ -3.16129952e+12]\n",
      " [  2.59931941e+12]\n",
      " [ -1.01866966e+12]]\n",
      "Number of Iterations for beta = 10\n",
      "1000\n",
      "Optimal for beta = 10\n",
      "[[  1.65084874e+12]\n",
      " [ -5.93047616e+11]\n",
      " [ -3.11019964e+13]\n",
      " [  3.10322598e+13]\n",
      " [ -1.54812616e+13]]\n"
     ]
    }
   ],
   "source": [
    "optimal_beta_p1, num_iter1 = find_optimal(M_beta(.1))\n",
    "optimal_beta_1, num_iter2 = find_optimal(M_beta(1))\n",
    "optimal_beta_10, num_iter3 = find_optimal(M_beta(10))\n",
    "print(\"Optimal value\")\n",
    "print([0, 0, 0])\n",
    "print(\"Number of Iterations for beta = 0.1\")\n",
    "print(num_iter1)\n",
    "print(\"Optimal for beta = 0.1\")\n",
    "print(optimal_beta_p1)\n",
    "print(\"Number of Iterations for beta = 1\")\n",
    "print(num_iter2)\n",
    "print(\"Optimal for beta = 1\")\n",
    "print(optimal_beta_1)\n",
    "print(\"Number of Iterations for beta = 10\")\n",
    "print(num_iter2)\n",
    "print(\"Optimal for beta = 10\")\n",
    "print(optimal_beta_10)"
   ]
  },
  {
   "cell_type": "markdown",
   "metadata": {},
   "source": [
    "As we can see above, the algorithm never converges for any beta. The lack of influence of beta  can be easily explained by the fact that M does not change (within rounding error), as shown below. This means that the spectral radius always remains above 1."
   ]
  },
  {
   "cell_type": "code",
   "execution_count": 5,
   "metadata": {},
   "outputs": [
    {
     "name": "stdout",
     "output_type": "stream",
     "text": [
      "M for beta .1\n",
      "[[ 0.88888889 -0.05555556 -0.55555556 -0.55555556  1.11111111]\n",
      " [ 0.04938272  0.9691358  -0.30864198  0.80246914 -0.49382716]\n",
      " [ 0.03950617  0.07530864  0.75308642 -0.35802469 -0.39506173]\n",
      " [ 0.0345679  -0.02160494 -0.21604938  0.5617284  -0.34567901]\n",
      " [-0.05432099 -0.01604938 -0.16049383 -0.38271605  0.54320988]]\n",
      "M for beta 1\n",
      "[[ 0.88888889 -0.05555556 -0.05555556 -0.05555556  0.11111111]\n",
      " [ 0.04938272  0.9691358  -0.0308642   0.08024691 -0.04938272]\n",
      " [ 0.39506173  0.75308642  0.75308642 -0.35802469 -0.39506173]\n",
      " [ 0.34567901 -0.21604938 -0.21604938  0.5617284  -0.34567901]\n",
      " [-0.54320988 -0.16049383 -0.16049383 -0.38271605  0.54320988]]\n",
      "M for beta 10\n",
      "[[  8.88888889e-01  -5.55555556e-02  -5.55555556e-03  -5.55555556e-03\n",
      "    1.11111111e-02]\n",
      " [  4.93827160e-02   9.69135802e-01  -3.08641975e-03   8.02469136e-03\n",
      "   -4.93827160e-03]\n",
      " [  3.95061728e+00   7.53086420e+00   7.53086420e-01  -3.58024691e-01\n",
      "   -3.95061728e-01]\n",
      " [  3.45679012e+00  -2.16049383e+00  -2.16049383e-01   5.61728395e-01\n",
      "   -3.45679012e-01]\n",
      " [ -5.43209877e+00  -1.60493827e+00  -1.60493827e-01  -3.82716049e-01\n",
      "    5.43209877e-01]]\n",
      "Spectral Radius: \n",
      "1.02783930328\n"
     ]
    }
   ],
   "source": [
    "print(\"M for beta .1\")\n",
    "print(M_beta(.1))\n",
    "print(\"M for beta 1\")\n",
    "print(M_beta(1))\n",
    "print(\"M for beta 10\")\n",
    "print(M_beta(10))\n",
    "print(\"Spectral Radius: \")\n",
    "print(abs(max(np.linalg.eig(M_beta(1))[0])))"
   ]
  },
  {
   "cell_type": "markdown",
   "metadata": {},
   "source": [
    "### Part 2"
   ]
  },
  {
   "cell_type": "code",
   "execution_count": 6,
   "metadata": {},
   "outputs": [],
   "source": [
    "def M_beta(beta):\n",
    "\n",
    "    LHM = np.matrix([\n",
    "        [3*beta+1, 0,        0,        0, 0, 0],\n",
    "        [4*beta,   6*beta+1, 0,        0, 0, 0],\n",
    "        [5*beta,   7*beta,   9*beta+1, 0, 0, 0],\n",
    "        [1*beta,   1*beta,   1*beta,   1, 0, 0],\n",
    "        [1*beta,   1*beta,   2*beta,   0, 1, 0],\n",
    "        [1*beta,   2*beta,   2*beta,   0, 0, 1],\n",
    "    ])\n",
    "    \n",
    "    RHM = np.matrix([\n",
    "        [0, -4*beta, -5*beta, 1, 1, 1],\n",
    "        [0,       0, -7*beta, 1, 1, 2],\n",
    "        [0,       0,       0, 1, 2, 2],\n",
    "        [0,       0,       0, 1, 0, 0],\n",
    "        [0,       0,       0, 0, 1, 0],\n",
    "        [0,       0,       0, 0, 0, 1],\n",
    "    ])\n",
    "    \n",
    "    return (np.linalg.inv(LHM) * RHM)[1:,1:]"
   ]
  },
  {
   "cell_type": "code",
   "execution_count": 7,
   "metadata": {},
   "outputs": [
    {
     "name": "stdout",
     "output_type": "stream",
     "text": [
      "Optimal value\n",
      "[0, 0, 0]\n",
      "Number of Iterations for beta = 0.1\n",
      "775\n",
      "Optimal for beta = 0.1\n",
      "[[ -2.93033503e-08]\n",
      " [ -9.89961652e-08]\n",
      " [  5.28840640e-07]\n",
      " [ -6.85444480e-08]\n",
      " [ -2.45373955e-07]]\n",
      "Number of Iterations for beta = 1\n",
      "127\n",
      "Optimal for beta = 1\n",
      "[[  1.05245707e-08]\n",
      " [ -4.67365615e-09]\n",
      " [ -9.68404504e-09]\n",
      " [  6.84665935e-09]\n",
      " [ -4.34146491e-09]]\n",
      "Number of Iterations for beta = 10\n",
      "127\n",
      "Optimal for beta = 10\n",
      "[[   8559.14743958]\n",
      " [ -12400.66457325]\n",
      " [ -96080.2342266 ]\n",
      " [-138965.88646777]\n",
      " [ 180805.67129445]]\n"
     ]
    }
   ],
   "source": [
    "optimal_beta_p1, num_iter1 = find_optimal(M_beta(.1))\n",
    "optimal_beta_1, num_iter2 = find_optimal(M_beta(1))\n",
    "optimal_beta_10, num_iter3 = find_optimal(M_beta(10))\n",
    "print(\"Optimal value\")\n",
    "print([0, 0, 0])\n",
    "print(\"Number of Iterations for beta = 0.1\")\n",
    "print(num_iter1)\n",
    "print(\"Optimal for beta = 0.1\")\n",
    "print(optimal_beta_p1)\n",
    "print(\"Number of Iterations for beta = 1\")\n",
    "print(num_iter2)\n",
    "print(\"Optimal for beta = 1\")\n",
    "print(optimal_beta_1)\n",
    "print(\"Number of Iterations for beta = 10\")\n",
    "print(num_iter2)\n",
    "print(\"Optimal for beta = 10\")\n",
    "print(optimal_beta_10)"
   ]
  },
  {
   "cell_type": "markdown",
   "metadata": {},
   "source": [
    "From above, we can see that we now converge for beta equal to 0.1 and 1, though not for 10. This is because the beta actually changes the matrix of transformation, with the spectral radius less than 1 as shown below. "
   ]
  },
  {
   "cell_type": "code",
   "execution_count": 8,
   "metadata": {},
   "outputs": [
    {
     "name": "stdout",
     "output_type": "stream",
     "text": [
      "M for beta .1\n",
      "[[ 0.07692308 -0.34134615  0.43269231  0.43269231  1.05769231]\n",
      " [ 0.05263158  0.22697368  0.16447368  0.69078947  0.46052632]\n",
      " [ 0.01781377  0.04989879  0.86336032 -0.18927126 -0.22874494]\n",
      " [ 0.01255061  0.02720142 -0.15308704  0.7416498  -0.27479757]\n",
      " [ 0.0048583   0.06133603 -0.19635628 -0.30161943  0.6194332 ]]\n",
      "M for beta 1\n",
      "[[  5.71428571e-01  -2.85714286e-01   7.93016446e-18  -1.18952467e-17\n",
      "    1.42857143e-01]\n",
      " [  1.00000000e-01   8.25000000e-01  -2.50000000e-02   7.50000000e-02\n",
      "   -2.50000000e-02]\n",
      " [  3.28571429e-01   7.10714286e-01   7.75000000e-01  -3.25000000e-01\n",
      "   -3.67857143e-01]\n",
      " [  2.28571429e-01  -1.14285714e-01  -2.00000000e-01   6.00000000e-01\n",
      "   -3.42857143e-01]\n",
      " [ -3.42857143e-01   1.71428571e-01  -2.00000000e-01  -4.00000000e-01\n",
      "    5.14285714e-01]]\n",
      "M for beta 10\n",
      "[[  8.46113168e-01  -8.98995241e-02  -4.75938657e-03  -4.75938657e-03\n",
      "    1.16340561e-02]\n",
      " [  5.81121681e-02   9.55364044e-01  -3.07413369e-03   7.91487730e-03\n",
      "   -4.69546318e-03]\n",
      " [  3.86097245e+00   7.47438706e+00   7.55754557e-01  -3.54135552e-01\n",
      "   -3.91966574e-01]\n",
      " [  3.27985077e+00  -2.07925337e+00  -2.13504106e-01   5.66715675e-01\n",
      "   -3.45011942e-01]\n",
      " [ -5.18128091e+00  -1.18025813e+00  -1.65910240e-01  -3.85690460e-01\n",
      "    5.38647497e-01]]\n",
      "Spectral Radius: \n",
      "0.857648347685\n"
     ]
    }
   ],
   "source": [
    "print(\"M for beta .1\")\n",
    "print(M_beta(.1))\n",
    "print(\"M for beta 1\")\n",
    "print(M_beta(1))\n",
    "print(\"M for beta 10\")\n",
    "print(M_beta(10))\n",
    "print(\"Spectral Radius: \")\n",
    "print(abs(max(np.linalg.eig(M_beta(1))[0])))"
   ]
  },
  {
   "cell_type": "markdown",
   "metadata": {},
   "source": [
    "### Part C "
   ]
  },
  {
   "cell_type": "code",
   "execution_count": 9,
   "metadata": {},
   "outputs": [
    {
     "name": "stdout",
     "output_type": "stream",
     "text": [
      "number of iterations\n",
      "866\n",
      "Optimal value:\n",
      "[0, 0, 0]\n",
      "Generated solution:\n",
      "[[  1.02296880e-08]\n",
      " [ -1.76270334e-09]\n",
      " [ -4.31216850e-09]\n",
      " [  1.33546532e-08]\n",
      " [  1.35380481e-08]\n",
      " [ -2.02153747e-08]]\n"
     ]
    }
   ],
   "source": [
    "def M_beta(beta, permutation):\n",
    "\n",
    "    LHM = np.matrix([\n",
    "        [3*beta,   4*beta,   5*beta,   0, 0, 0],\n",
    "        [4*beta,   6*beta,   7*beta,   0, 0, 0],\n",
    "        [5*beta,   7*beta,   9*beta,   0, 0, 0],\n",
    "        [1*beta,   1*beta,   1*beta,   1, 0, 0],\n",
    "        [1*beta,   1*beta,   2*beta,   0, 1, 0],\n",
    "        [1*beta,   2*beta,   2*beta,   0, 0, 1],\n",
    "    ])\n",
    "    \n",
    "    RHM = np.matrix([\n",
    "        [0, 0, 0, 1, 1, 1],\n",
    "        [0, 0, 0, 1, 1, 2],\n",
    "        [0, 0, 0, 1, 2, 2],\n",
    "        [0, 0, 0, 1, 0, 0],\n",
    "        [0, 0, 0, 0, 1, 0],\n",
    "        [0, 0, 0, 0, 0, 1],\n",
    "    ])\n",
    "    \n",
    "    not_visited = set(permutation) \n",
    "    for i in permutation:\n",
    "        not_visited.remove(i)\n",
    "        \n",
    "        for j in not_visited:\n",
    "            RHM[i,j] = -1*LHM[i,j]\n",
    "            LHM[i,j] = 0\n",
    "            \n",
    "    return (np.linalg.inv(LHM) * RHM)\n",
    "\n",
    "xy = np.matrix([[1], [2], [3], [4], [5], [6]])\n",
    "xy_k = xy\n",
    "check = 10**6\n",
    "max_iter = 2000\n",
    "k = 0\n",
    "\n",
    "while(check > 10**-8 and k < max_iter):\n",
    "    perm = np.random.permutation([0, 1, 2])\n",
    "    M = M_beta(1, perm)\n",
    "    k += 1\n",
    "    xy_k1 = M * xy_k\n",
    "    check = np.linalg.norm(xy_k1 - xy_k)\n",
    "    xy_k = xy_k1\n",
    "print(\"number of iterations\")\n",
    "print(k)\n",
    "print(\"Optimal value:\")\n",
    "print([0, 0, 0])\n",
    "print(\"Generated solution:\")\n",
    "print(xy_k)"
   ]
  },
  {
   "cell_type": "markdown",
   "metadata": {},
   "source": [
    "By permuting the order, we do indeed converge. "
   ]
  },
  {
   "cell_type": "markdown",
   "metadata": {},
   "source": [
    "### Part d)"
   ]
  },
  {
   "cell_type": "code",
   "execution_count": 11,
   "metadata": {},
   "outputs": [],
   "source": [
    "top_identity = np.eye(10, 6)\n",
    "bottom_identity = np.eye(10, 6, k=-4)\n",
    "A_1 = A_2 = A_3 = A_4 = top_identity\n",
    "A_5 = bottom_identity\n",
    "A = np.hstack([A_1, A_2, A_3, A_4, A_5])\n",
    "\n",
    "# Q = identity of size 30 by 30\n",
    "# objective = 1/2 * xT * Q * x\n",
    "x = np.random.rand(30,1)\n",
    "b = np.zeros((10, 1))\n",
    "b = np.ones((10, 1))\n",
    "y = np.random.rand(10,1)\n",
    "beta = 1"
   ]
  },
  {
   "cell_type": "code",
   "execution_count": 12,
   "metadata": {
    "collapsed": true
   },
   "outputs": [],
   "source": [
    "def update(cols_to_pick):\n",
    "    A_chunk = A[0:10, cols_to_pick]\n",
    "    LHS = beta * np.dot(np.transpose(A_chunk), A_chunk) + np.identity(6)\n",
    "    dat_sum = np.dot(A, x) - np.dot(A_chunk, x[cols_to_pick])\n",
    "    RHS = np.dot(np.transpose(A_chunk), y) - beta * np.dot(np.transpose(A_chunk), dat_sum)\n",
    "    x[cols_to_pick] = np.linalg.solve(LHS, RHS)\n"
   ]
  },
  {
   "cell_type": "code",
   "execution_count": 13,
   "metadata": {},
   "outputs": [],
   "source": [
    "check = 10**6\n",
    "max_iter = 10000\n",
    "k = 0"
   ]
  },
  {
   "cell_type": "code",
   "execution_count": 14,
   "metadata": {},
   "outputs": [
    {
     "name": "stdout",
     "output_type": "stream",
     "text": [
      "Number of iterations:\n",
      "22\n",
      "Real solution for generic ADMM:\n",
      "[[ 1.]\n",
      " [ 1.]\n",
      " [ 1.]\n",
      " [ 1.]\n",
      " [ 1.]\n",
      " [ 1.]\n",
      " [ 1.]\n",
      " [ 1.]\n",
      " [ 1.]\n",
      " [ 1.]]\n",
      "Generated Result:\n",
      "[[ 1.0000001 ]\n",
      " [ 1.00000004]\n",
      " [ 0.99999993]\n",
      " [ 0.99999992]\n",
      " [ 1.        ]\n",
      " [ 0.99999988]\n",
      " [ 0.99999974]\n",
      " [ 0.99999971]\n",
      " [ 0.99999967]\n",
      " [ 0.99999961]]\n"
     ]
    }
   ],
   "source": [
    "while(check > 10**-6 and k < max_iter):\n",
    "    k += 1\n",
    "    perm = range(0, 5)\n",
    "    old_x = x.copy()\n",
    "    for index in perm:\n",
    "        cols_to_pick = range(index*6, index*6+6)\n",
    "        update(cols_to_pick)\n",
    "    y = y - beta * (np.dot(A, x) - b)\n",
    "    check = np.linalg.norm(x - old_x)\n",
    "print(\"Number of iterations:\")\n",
    "print(k)\n",
    "print(\"Real solution for generic ADMM:\")\n",
    "print(b)\n",
    "print(\"Generated Result:\")\n",
    "print(np.dot(A, x))"
   ]
  },
  {
   "cell_type": "markdown",
   "metadata": {},
   "source": [
    "For the simple ADMM implementation, our solution converges. "
   ]
  },
  {
   "cell_type": "code",
   "execution_count": 15,
   "metadata": {
    "collapsed": true
   },
   "outputs": [],
   "source": [
    "top_identity = np.eye(10, 6)\n",
    "bottom_identity = np.eye(10, 6, k=-4)\n",
    "A_1 = A_2 = A_3 = A_4 = top_identity\n",
    "A_5 = bottom_identity\n",
    "A = np.hstack([A_1, A_2, A_3, A_4, A_5])\n",
    "\n",
    "# Q = identity of size 30 by 30\n",
    "# objective = 1/2 * xT * Q * x\n",
    "x = np.random.rand(30,1)\n",
    "b = np.zeros((10, 1))\n",
    "b = np.ones((10, 1))\n",
    "y = np.random.rand(10,1)\n",
    "beta = 1"
   ]
  },
  {
   "cell_type": "code",
   "execution_count": null,
   "metadata": {},
   "outputs": [],
   "source": [
    "check = 10**6\n",
    "max_iter = 10000\n",
    "k = 0\n",
    "\n",
    "while(check > 10**-6 and k < max_iter):\n",
    "    k += 1\n",
    "    old_x = x.copy()\n",
    "    perm = np.random.permutation(range(0, 5))\n",
    "    for index in perm:\n",
    "        cols_to_pick = range(index*6, index*6+6)\n",
    "        update(big_perm[cols_to_pick])\n",
    "    y = y - beta * (np.dot(A, x) - b)\n",
    "    check = np.linalg.norm(x - old_x)\n",
    "print(\"Number of iterations:\")\n",
    "print(k)\n",
    "print(\"Real solution with random block update:\")\n",
    "print(b)\n",
    "print(\"Generated Result:\")\n",
    "print(np.dot(A, x))"
   ]
  },
  {
   "cell_type": "markdown",
   "metadata": {},
   "source": [
    "The algorithm still converges when choosing random blocks, with roughly the same speed."
   ]
  },
  {
   "cell_type": "code",
   "execution_count": null,
   "metadata": {
    "collapsed": true
   },
   "outputs": [],
   "source": [
    "top_identity = np.eye(10, 6)\n",
    "bottom_identity = np.eye(10, 6, k=-4)\n",
    "A_1 = A_2 = A_3 = A_4 = top_identity\n",
    "A_5 = bottom_identity\n",
    "A = np.hstack([A_1, A_2, A_3, A_4, A_5])\n",
    "\n",
    "# Q = identity of size 30 by 30\n",
    "# objective = 1/2 * xT * Q * x\n",
    "x = np.random.rand(30,1)\n",
    "b = np.zeros((10, 1))\n",
    "b = np.ones((10, 1))\n",
    "y = np.random.rand(10,1)\n",
    "beta = 1"
   ]
  },
  {
   "cell_type": "code",
   "execution_count": null,
   "metadata": {},
   "outputs": [],
   "source": [
    "check = 10**6\n",
    "max_iter = 10000\n",
    "k = 0\n",
    "\n",
    "big_perm = np.random.permutation(range(0, 30))\n",
    "while(check > 10**-6 and k < max_iter):\n",
    "    k += 1\n",
    "    old_x = x.copy()\n",
    "    for index in perm:\n",
    "        cols_to_pick = big_perm[index*6: index*6+6]\n",
    "        update(big_perm[cols_to_pick])\n",
    "    y = y - beta * (np.dot(A, x) - b)\n",
    "    check = np.linalg.norm(x - old_x)\n",
    "print(\"Number of iterations:\")\n",
    "print(k)\n",
    "print(\"Real solution with random sampling update:\")\n",
    "print(b)\n",
    "print(\"Generated Result:\")\n",
    "print(np.dot(A, x))"
   ]
  },
  {
   "cell_type": "markdown",
   "metadata": {},
   "source": [
    "The algorithm still converges when choosing random columns to update."
   ]
  }
 ],
 "metadata": {
  "kernelspec": {
   "display_name": "Python 3",
   "language": "python",
   "name": "python3"
  },
  "language_info": {
   "codemirror_mode": {
    "name": "ipython",
    "version": 3
   },
   "file_extension": ".py",
   "mimetype": "text/x-python",
   "name": "python",
   "nbconvert_exporter": "python",
   "pygments_lexer": "ipython3",
   "version": "3.6.3"
  }
 },
 "nbformat": 4,
 "nbformat_minor": 2
}
