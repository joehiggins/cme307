{
 "cells": [
  {
   "cell_type": "code",
   "execution_count": 2,
   "metadata": {
    "collapsed": true
   },
   "outputs": [],
   "source": [
    "import numpy as np"
   ]
  },
  {
   "cell_type": "code",
   "execution_count": 86,
   "metadata": {},
   "outputs": [
    {
     "name": "stdout",
     "output_type": "stream",
     "text": [
      "1000\n",
      "[[  1.65084874e+12]\n",
      " [ -5.93047616e+11]\n",
      " [ -3.11019964e+13]\n",
      " [  3.10322598e+13]\n",
      " [ -1.54812616e+13]]\n"
     ]
    }
   ],
   "source": [
    "def M_beta(beta):\n",
    "    LHM = np.matrix([\n",
    "        [3*beta, 0,      0,      0, 0, 0],\n",
    "        [4*beta, 6*beta, 0,      0, 0, 0],\n",
    "        [5*beta, 7*beta, 9*beta, 0, 0, 0],\n",
    "        [1*beta, 1*beta, 1*beta, 1, 0, 0],\n",
    "        [1*beta, 1*beta, 2*beta, 0, 1, 0],\n",
    "        [1*beta, 2*beta, 2*beta, 0, 0, 1],\n",
    "    ])\n",
    "\n",
    "    RHM = np.matrix([\n",
    "        [0, -4*beta, -5*beta, 1, 1, 1],\n",
    "        [0,       0, -7*beta, 1, 1, 2],\n",
    "        [0,       0,       0, 1, 2, 2],\n",
    "        [0,       0,       0, 1, 0, 0],\n",
    "        [0,       0,       0, 0, 1, 0],\n",
    "        [0,       0,       0, 0, 0, 1],\n",
    "    ])\n",
    "    \n",
    "    return (np.linalg.inv(LHM) * RHM)[1:,1:]\n",
    "\n",
    "\n",
    "M = M_beta(10)\n",
    "xy = np.matrix([[1], [2], [3], [4], [5]])\n",
    "xy_k = xy\n",
    "check = 10**6\n",
    "max_iter = 1000\n",
    "k = 0\n",
    "\n",
    "np.linalg.eig(M)\n",
    "\n",
    "while(check > 10**-8 and k < max_iter):\n",
    "    k += 1\n",
    "    xy_k1 = M * xy_k\n",
    "    check = np.linalg.norm(xy_k1 - xy_k)\n",
    "    xy_k = xy_k1\n",
    "\n",
    "print(k)\n",
    "print(xy_k)\n",
    "    "
   ]
  },
  {
   "cell_type": "markdown",
   "metadata": {},
   "source": [
    "Changing beta does not change m --> eigenvalue doesn't change"
   ]
  },
  {
   "cell_type": "code",
   "execution_count": 76,
   "metadata": {},
   "outputs": [
    {
     "name": "stdout",
     "output_type": "stream",
     "text": [
      "127\n",
      "[[  1.05245707e-08]\n",
      " [ -4.67365615e-09]\n",
      " [ -9.68404504e-09]\n",
      " [  6.84665935e-09]\n",
      " [ -4.34146491e-09]]\n"
     ]
    }
   ],
   "source": [
    "def M_beta(beta):\n",
    "\n",
    "    LHM = np.matrix([\n",
    "        [3*beta+1, 0,        0,        0, 0, 0],\n",
    "        [4*beta,   6*beta+1, 0,        0, 0, 0],\n",
    "        [5*beta,   7*beta,   9*beta+1, 0, 0, 0],\n",
    "        [1*beta,   1*beta,   1*beta,   1, 0, 0],\n",
    "        [1*beta,   1*beta,   2*beta,   0, 1, 0],\n",
    "        [1*beta,   2*beta,   2*beta,   0, 0, 1],\n",
    "    ])\n",
    "    \n",
    "    RHM = np.matrix([\n",
    "        [0, -4*beta, -5*beta, 1, 1, 1],\n",
    "        [0,       0, -7*beta, 1, 1, 2],\n",
    "        [0,       0,       0, 1, 2, 2],\n",
    "        [0,       0,       0, 1, 0, 0],\n",
    "        [0,       0,       0, 0, 1, 0],\n",
    "        [0,       0,       0, 0, 0, 1],\n",
    "    ])\n",
    "    \n",
    "    return (np.linalg.inv(LHM) * RHM)[1:,1:]\n",
    "\n",
    "\n",
    "M = M_beta(1)\n",
    "xy = np.matrix([[1], [2], [3], [4], [5]])\n",
    "xy_k = xy\n",
    "check = 10**6\n",
    "max_iter = 1000\n",
    "k = 0\n",
    "\n",
    "while(check > 10**-8 and k < max_iter):\n",
    "    k += 1\n",
    "    xy_k1 = M * xy_k\n",
    "    check = np.linalg.norm(xy_k1 - xy_k)\n",
    "    xy_k = xy_k1\n",
    "\n",
    "print(k)\n",
    "print(xy_k)\n",
    "    "
   ]
  },
  {
   "cell_type": "code",
   "execution_count": null,
   "metadata": {
    "collapsed": true
   },
   "outputs": [],
   "source": [
    "print(M*162)\n",
    "print(abs(max(np.linalg.eig(M)[0])))"
   ]
  },
  {
   "cell_type": "code",
   "execution_count": 87,
   "metadata": {},
   "outputs": [
    {
     "name": "stdout",
     "output_type": "stream",
     "text": [
      "[[  1.44000000e+02  -9.00000000e+00  -9.00000000e-01  -9.00000000e-01\n",
      "    1.80000000e+00]\n",
      " [  8.00000000e+00   1.57000000e+02  -5.00000000e-01   1.30000000e+00\n",
      "   -8.00000000e-01]\n",
      " [  6.40000000e+02   1.22000000e+03   1.22000000e+02  -5.80000000e+01\n",
      "   -6.40000000e+01]\n",
      " [  5.60000000e+02  -3.50000000e+02  -3.50000000e+01   9.10000000e+01\n",
      "   -5.60000000e+01]\n",
      " [ -8.80000000e+02  -2.60000000e+02  -2.60000000e+01  -6.20000000e+01\n",
      "    8.80000000e+01]]\n",
      "1.02783930328\n"
     ]
    }
   ],
   "source": [
    "Changing beta now does change m --> eigenvalue does change"
   ]
  },
  {
   "cell_type": "code",
   "execution_count": 138,
   "metadata": {},
   "outputs": [
    {
     "name": "stdout",
     "output_type": "stream",
     "text": [
      "1062\n",
      "[[  3.62606662e-09]\n",
      " [  3.21723324e-09]\n",
      " [ -1.84406276e-09]\n",
      " [ -1.03421968e-09]\n",
      " [ -2.80194184e-08]\n",
      " [  1.45268190e-08]]\n"
     ]
    }
   ],
   "source": [
    "def M_beta(beta, permutation):\n",
    "\n",
    "    LHM = np.matrix([\n",
    "        [3*beta,   4*beta,   5*beta,   0, 0, 0],\n",
    "        [4*beta,   6*beta,   7*beta,   0, 0, 0],\n",
    "        [5*beta,   7*beta,   9*beta,   0, 0, 0],\n",
    "        [1*beta,   1*beta,   1*beta,   1, 0, 0],\n",
    "        [1*beta,   1*beta,   2*beta,   0, 1, 0],\n",
    "        [1*beta,   2*beta,   2*beta,   0, 0, 1],\n",
    "    ])\n",
    "    \n",
    "    RHM = np.matrix([\n",
    "        [0, 0, 0, 1, 1, 1],\n",
    "        [0, 0, 0, 1, 1, 2],\n",
    "        [0, 0, 0, 1, 2, 2],\n",
    "        [0, 0, 0, 1, 0, 0],\n",
    "        [0, 0, 0, 0, 1, 0],\n",
    "        [0, 0, 0, 0, 0, 1],\n",
    "    ])\n",
    "    \n",
    "    not_visited = set(permutation) \n",
    "    for i in permutation:\n",
    "        not_visited.remove(i)\n",
    "        \n",
    "        for j in not_visited:\n",
    "            RHM[i,j] = -1*LHM[i,j]\n",
    "            LHM[i,j] = 0\n",
    "            \n",
    "    return (np.linalg.inv(LHM) * RHM)\n",
    "\n",
    "xy = np.matrix([[1], [2], [3], [4], [5], [6]])\n",
    "xy_k = xy\n",
    "check = 10**6\n",
    "max_iter = 2000\n",
    "k = 0\n",
    "\n",
    "while(check > 10**-8 and k < max_iter):\n",
    "    perm = np.random.permutation([0, 1, 2])\n",
    "    M = M_beta(1, perm)\n",
    "    k += 1\n",
    "    xy_k1 = M * xy_k\n",
    "    check = np.linalg.norm(xy_k1 - xy_k)\n",
    "    xy_k = xy_k1\n",
    "\n",
    "print(k)\n",
    "print(xy_k)"
   ]
  },
  {
   "cell_type": "markdown",
   "metadata": {},
   "source": [
    "Part bullshit time"
   ]
  },
  {
   "cell_type": "code",
   "execution_count": 53,
   "metadata": {},
   "outputs": [
    {
     "name": "stdout",
     "output_type": "stream",
     "text": [
      "[[ 1.  0.  0.  0.  0.  0.]\n",
      " [ 0.  1.  0.  0.  0.  0.]\n",
      " [ 0.  0.  1.  0.  0.  0.]\n",
      " [ 0.  0.  0.  1.  0.  0.]\n",
      " [ 0.  0.  0.  0.  1.  0.]\n",
      " [ 0.  0.  0.  0.  0.  1.]\n",
      " [ 0.  0.  0.  0.  0.  0.]\n",
      " [ 0.  0.  0.  0.  0.  0.]\n",
      " [ 0.  0.  0.  0.  0.  0.]\n",
      " [ 0.  0.  0.  0.  0.  0.]]\n"
     ]
    }
   ],
   "source": [
    "top_identity = np.eye(10, 6)\n",
    "bottom_identity = np.eye(10, 6, k=-4)\n",
    "A_1 = A_2 = A_3 = A_4 = top_identity\n",
    "A_5 = bottom_identity\n",
    "A = np.hstack([A_1, A_2, A_3, A_4, A_5])\n",
    "\n",
    "# Q = identity of size 30 by 30\n",
    "# objective = 1/2 * xT * Q * x\n",
    "x = np.random.rand(30,1)\n",
    "b = np.zeros((10, 1))\n",
    "b = np.ones((10, 1))\n",
    "y = np.random.rand(10,1)\n",
    "beta = 1\n",
    "print(A[0:10, 0:6])"
   ]
  },
  {
   "cell_type": "code",
   "execution_count": 54,
   "metadata": {
    "collapsed": true
   },
   "outputs": [],
   "source": [
    "def update(cols_to_pick):\n",
    "    A_chunk = A[0:10, cols_to_pick]\n",
    "    LHS = beta * np.dot(np.transpose(A_chunk), A_chunk) + np.identity(6)\n",
    "    dat_sum = np.dot(A, x) - np.dot(A_chunk, x[cols_to_pick])\n",
    "    RHS = np.dot(np.transpose(A_chunk), y) - beta * np.dot(np.transpose(A_chunk), dat_sum)\n",
    "    x[cols_to_pick] = np.linalg.solve(LHS, RHS)\n"
   ]
  },
  {
   "cell_type": "code",
   "execution_count": 56,
   "metadata": {},
   "outputs": [
    {
     "name": "stdout",
     "output_type": "stream",
     "text": [
      "[[ 1.]\n",
      " [ 1.]\n",
      " [ 1.]\n",
      " [ 1.]\n",
      " [ 1.]\n",
      " [ 1.]\n",
      " [ 1.]\n",
      " [ 1.]\n",
      " [ 1.]\n",
      " [ 1.]]\n"
     ]
    }
   ],
   "source": [
    "check = 10**6\n",
    "max_iter = 1000\n",
    "k = 0\n",
    "\n",
    "while(check > 10**-8 and k < max_iter):\n",
    "    k += 1\n",
    "    perm = np.random.permutation(range(0, 5))\n",
    "    old_x = x.copy()\n",
    "    for index in perm:\n",
    "        cols_to_pick = np.range(index*6, index*6+6)\n",
    "        update(cols_to_pick)\n",
    "    y = y - beta * (np.dot(A, x) - b)\n",
    "    check = np.linalg.norm(x - old_x)\n",
    "print(np.dot(A, x))\n",
    "    "
   ]
  },
  {
   "cell_type": "code",
   "execution_count": 50,
   "metadata": {},
   "outputs": [
    {
     "name": "stdout",
     "output_type": "stream",
     "text": [
      "[[ 2.  0.  0.  0.  0.  0.]\n",
      " [ 0.  2.  0.  0.  0.  0.]\n",
      " [ 0.  0.  2.  0.  0.  0.]\n",
      " [ 0.  0.  0.  2.  0.  0.]\n",
      " [ 0.  0.  0.  0.  2.  0.]\n",
      " [ 0.  0.  0.  0.  0.  2.]]\n"
     ]
    }
   ],
   "source": [
    "big_perm = np.random.permutation(range(0, 30))"
   ]
  }
 ],
 "metadata": {
  "kernelspec": {
   "display_name": "Python 3",
   "language": "python",
   "name": "python3"
  },
  "language_info": {
   "codemirror_mode": {
    "name": "ipython",
    "version": 3
   },
   "file_extension": ".py",
   "mimetype": "text/x-python",
   "name": "python",
   "nbconvert_exporter": "python",
   "pygments_lexer": "ipython3",
   "version": "3.6.3"
  }
 },
 "nbformat": 4,
 "nbformat_minor": 2
}
