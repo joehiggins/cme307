{
 "cells": [
  {
   "cell_type": "markdown",
   "metadata": {},
   "source": [
    "Group: Austin Wang, Joe Higgins, Lawrence Moore"
   ]
  },
  {
   "cell_type": "markdown",
   "metadata": {},
   "source": [
    "# Question 1"
   ]
  },
  {
   "cell_type": "markdown",
   "metadata": {},
   "source": [
    "# SOCP"
   ]
  },
  {
   "cell_type": "code",
   "execution_count": 1,
   "metadata": {
    "collapsed": true
   },
   "outputs": [],
   "source": [
    "# Import necessary modules\n",
    "import cvxpy as cvx\n",
    "import numpy as np"
   ]
  },
  {
   "cell_type": "code",
   "execution_count": 2,
   "metadata": {},
   "outputs": [],
   "source": [
    "def generate_points(num, dim):\n",
    "    return np.matrix(4 * np.random.random((num, dim)) - 2)"
   ]
  },
  {
   "cell_type": "code",
   "execution_count": 3,
   "metadata": {},
   "outputs": [],
   "source": [
    "num_sensors = 10\n",
    "num_anchors = 4\n",
    "dim = 2\n",
    "range_mult = 100\n",
    "\n",
    "anchors = generate_points(num_anchors, dim) * range_mult\n",
    "sensors = generate_points(num_sensors, dim)\n",
    "\n",
    "d_sa = list(map(lambda s: list(map(lambda a: np.linalg.norm(a - s), anchors)), sensors))\n",
    "\n",
    "d_ss = list(map(lambda s1: \n",
    "        list(map(lambda s2: np.linalg.norm(s1 - s2), sensors))\n",
    "    , sensors))"
   ]
  },
  {
   "cell_type": "code",
   "execution_count": 4,
   "metadata": {},
   "outputs": [],
   "source": [
    "x = cvx.Variable(num_sensors, dim)\n",
    "objective = cvx.Minimize(0)"
   ]
  },
  {
   "cell_type": "code",
   "execution_count": 5,
   "metadata": {},
   "outputs": [],
   "source": [
    "constraints  = []\n",
    "for i in range(num_sensors):\n",
    "    x_i = x[i, :]\n",
    "    for j in range(num_anchors):\n",
    "        constraints.append(cvx.norm(x_i - anchors[j]) <= d_sa[i][j])\n",
    "    for j in range(num_sensors):\n",
    "        if i < j:\n",
    "            constraints.append(cvx.norm(x_i - sensors[j]) <= d_ss[i][j])\n"
   ]
  },
  {
   "cell_type": "code",
   "execution_count": 6,
   "metadata": {},
   "outputs": [
    {
     "name": "stdout",
     "output_type": "stream",
     "text": [
      "[[-0.82963175  1.49491793]\n",
      " [-1.6397261  -0.88638492]\n",
      " [-0.57167572 -1.90004467]\n",
      " [-0.57647951 -1.41087409]\n",
      " [ 0.12781571 -0.32245923]\n",
      " [-1.03637545 -0.24204694]\n",
      " [-1.55879562  1.60678321]\n",
      " [ 1.34062095  1.62617786]\n",
      " [ 0.88287445 -1.71321207]\n",
      " [ 1.62936614  0.73302684]]\n"
     ]
    }
   ],
   "source": [
    "print(sensors)"
   ]
  },
  {
   "cell_type": "code",
   "execution_count": 7,
   "metadata": {},
   "outputs": [
    {
     "name": "stdout",
     "output_type": "stream",
     "text": [
      "[[  71.26364541   31.19531126]\n",
      " [  79.36622871  132.69536359]\n",
      " [ -95.36945673  116.07136195]\n",
      " [ -80.2814842  -168.8118134 ]]\n"
     ]
    }
   ],
   "source": [
    "print(anchors)"
   ]
  },
  {
   "cell_type": "code",
   "execution_count": 8,
   "metadata": {},
   "outputs": [
    {
     "name": "stdout",
     "output_type": "stream",
     "text": [
      "[[-0.82963175  1.49491793]\n",
      " [-1.6397261  -0.88638492]\n",
      " [-0.57167572 -1.90004467]\n",
      " [-0.57647951 -1.41087409]\n",
      " [ 0.12781571 -0.32245923]\n",
      " [-1.03637545 -0.24204694]\n",
      " [-1.55879562  1.60678321]\n",
      " [ 1.34062095  1.62617786]\n",
      " [ 0.88287445 -1.71321207]\n",
      " [ 1.62936614  0.73302684]]\n"
     ]
    }
   ],
   "source": [
    "prob = cvx.Problem(objective, constraints)\n",
    "\n",
    "# The optimal objective is returned by prob.solve().\n",
    "result = prob.solve(solver = 'MOSEK')\n",
    "# The optimal value for x is stored in x.value.\n",
    "print(x.value)"
   ]
  },
  {
   "cell_type": "code",
   "execution_count": 9,
   "metadata": {},
   "outputs": [
    {
     "name": "stdout",
     "output_type": "stream",
     "text": [
      "[[ True  True]\n",
      " [ True  True]\n",
      " [ True  True]\n",
      " [ True  True]\n",
      " [ True  True]\n",
      " [ True  True]\n",
      " [ True  True]\n",
      " [ True  True]\n",
      " [ True  True]\n",
      " [ True  True]]\n"
     ]
    }
   ],
   "source": [
    "print(abs(x.value-sensors)<= 10**-5)"
   ]
  },
  {
   "cell_type": "markdown",
   "metadata": {},
   "source": [
    "# SDP"
   ]
  },
  {
   "cell_type": "code",
   "execution_count": 10,
   "metadata": {
    "collapsed": true
   },
   "outputs": [],
   "source": [
    "Z = cvx.Semidef(num_sensors + dim)"
   ]
  },
  {
   "cell_type": "code",
   "execution_count": 11,
   "metadata": {
    "collapsed": true
   },
   "outputs": [],
   "source": [
    "def sum_elem_product(A,B):\n",
    "    return cvx.sum_entries(cvx.mul_elemwise(A, B))"
   ]
  },
  {
   "cell_type": "code",
   "execution_count": 12,
   "metadata": {},
   "outputs": [],
   "source": [
    "#Make first set of constraint matrices (look like identity)\n",
    "def enforce_id(dim, num_sensors):\n",
    "    matrices = []\n",
    "    rhs = []\n",
    "    for i in range(dim):\n",
    "        new_matrix = np.zeros((dim+num_sensors, dim+num_sensors))\n",
    "        new_matrix[i,i] = 1\n",
    "        matrices.append(new_matrix)\n",
    "        rhs.append(1)\n",
    "        \n",
    "    return (matrices, rhs)\n",
    "\n",
    "#Make second set of constraint matrices (symmetric holders) \n",
    "def enforce_id2(dim, num_sensors):\n",
    "    matrices = []\n",
    "    rhs = []\n",
    "    for i in range(dim):\n",
    "        for j in range(dim):\n",
    "            new_matrix = np.identity(dim)\n",
    "            if(j > i):\n",
    "                new_matrix[i,j] = 1\n",
    "                new_matrix[j,i] = 1\n",
    "                big_matrix = np.zeros((dim+num_sensors, dim+num_sensors))\n",
    "                big_matrix[0:dim,0:dim] = new_matrix\n",
    "                matrices.append(big_matrix)\n",
    "                rhs.append(dim)\n",
    "                \n",
    "    return (matrices, rhs)\n",
    "\n",
    "\n",
    "#Make third set of constraint matrices (anchors to sensors)\n",
    "def sensor_constraints(dim, num_sensors):\n",
    "    matrices = []\n",
    "    rhs = []\n",
    "    zero_vec_dim = np.zeros(dim)\n",
    "    for i in range(num_sensors):\n",
    "        for j in range(i+1, num_sensors):\n",
    "            zero_vec_num_s = np.zeros(num_sensors)\n",
    "            zero_vec_num_s[i] = 1\n",
    "            zero_vec_num_s[j] = -1\n",
    "            \n",
    "            new_vec = np.matrix(np.append(zero_vec_dim, zero_vec_num_s))\n",
    "            \n",
    "            new_matrix = np.dot(np.transpose(new_vec), new_vec)\n",
    "            \n",
    "            matrices.append(new_matrix)\n",
    "            rhs.append(d_ss[i][j]**2)\n",
    "\n",
    "    return (matrices, rhs)\n",
    "\n",
    "#Make fourth set of constraint matrices (sensors to sensors)\n",
    "def anchor_constraints(num_anchors, num_sensors):\n",
    "    matrices = []\n",
    "    rhs = []\n",
    "    for i in range(num_anchors):\n",
    "        for j in range(num_sensors):\n",
    "            zero_vec_num_s = np.zeros(num_sensors)\n",
    "            zero_vec_num_s[j] = -1\n",
    "\n",
    "            new_vec = np.append(np.array(anchors[i,:]), np.array(zero_vec_num_s))\n",
    "            new_vec = np.matrix(new_vec)\n",
    "            new_matrix = np.dot(np.transpose(new_vec), new_vec)\n",
    "            matrices.append(new_matrix)\n",
    "            rhs.append(d_sa[j][i]**2)\n",
    "\n",
    "    return (matrices, rhs)\n",
    "\n",
    "A = enforce_id(dim, num_sensors)\n",
    "B = enforce_id2(dim, num_sensors)\n",
    "C = sensor_constraints(dim, num_sensors)\n",
    "D = anchor_constraints(num_anchors, num_sensors)"
   ]
  },
  {
   "cell_type": "code",
   "execution_count": 13,
   "metadata": {},
   "outputs": [],
   "source": [
    "constraints = []\n",
    "for id_constraint, rhs in zip(A[0], A[1]):\n",
    "    constraints.append(sum_elem_product(id_constraint, Z) == rhs)\n",
    "for id_constraint2, rhs in zip(B[0], B[1]):\n",
    "    constraints.append(sum_elem_product(id_constraint2, Z) == rhs)\n",
    "for sensor_constraint, rhs in zip(C[0], C[1]):\n",
    "    constraints.append(sum_elem_product(sensor_constraint, Z) == rhs)\n",
    "for anchor_constraint, rhs in zip(D[0], D[1]):\n",
    "    constraints.append(sum_elem_product(anchor_constraint, Z) == rhs)"
   ]
  },
  {
   "cell_type": "code",
   "execution_count": 14,
   "metadata": {},
   "outputs": [],
   "source": [
    "prob = cvx.Problem(objective, constraints)\n",
    "result = prob.solve(solver = 'MOSEK')"
   ]
  },
  {
   "cell_type": "code",
   "execution_count": 15,
   "metadata": {},
   "outputs": [
    {
     "name": "stdout",
     "output_type": "stream",
     "text": [
      "Real sensors: \n",
      "[[-0.82963175  1.49491793]\n",
      " [-1.6397261  -0.88638492]\n",
      " [-0.57167572 -1.90004467]\n",
      " [-0.57647951 -1.41087409]\n",
      " [ 0.12781571 -0.32245923]\n",
      " [-1.03637545 -0.24204694]\n",
      " [-1.55879562  1.60678321]\n",
      " [ 1.34062095  1.62617786]\n",
      " [ 0.88287445 -1.71321207]\n",
      " [ 1.62936614  0.73302684]]\n",
      "Generated Sensors: \n",
      "[[-0.82963175  1.49491793]\n",
      " [-1.6397261  -0.88638492]\n",
      " [-0.57167572 -1.90004467]\n",
      " [-0.57647951 -1.41087409]\n",
      " [ 0.12781571 -0.32245923]\n",
      " [-1.03637545 -0.24204694]\n",
      " [-1.55879562  1.60678321]\n",
      " [ 1.34062095  1.62617786]\n",
      " [ 0.88287445 -1.71321207]\n",
      " [ 1.62936614  0.73302684]]\n"
     ]
    }
   ],
   "source": [
    "print(\"Real sensors: \")\n",
    "print(sensors)\n",
    "print(\"Generated Sensors: \")\n",
    "generated = np.transpose(Z[0:dim, dim:dim+num_sensors].value)\n",
    "print(generated)"
   ]
  },
  {
   "cell_type": "code",
   "execution_count": 16,
   "metadata": {
    "collapsed": true
   },
   "outputs": [],
   "source": [
    "def super_quick_func(real, generated):\n",
    "    for_real_do_results = []\n",
    "    for real_sens, real_gen in zip(real, generated):\n",
    "        for_real_do_results.append(np.linalg.norm(real_sens - real_gen) < 10**(-6))\n",
    "    return for_real_do_results\n"
   ]
  },
  {
   "cell_type": "code",
   "execution_count": 17,
   "metadata": {},
   "outputs": [
    {
     "data": {
      "text/plain": [
       "[True, True, True, True, True, True, True, True, True, True]"
      ]
     },
     "execution_count": 17,
     "metadata": {},
     "output_type": "execute_result"
    }
   ],
   "source": [
    "super_quick_func(sensors, generated)"
   ]
  },
  {
   "cell_type": "code",
   "execution_count": null,
   "metadata": {
    "collapsed": true
   },
   "outputs": [],
   "source": []
  },
  {
   "cell_type": "markdown",
   "metadata": {},
   "source": [
    "Yo, anchors is huge == it'll localize."
   ]
  },
  {
   "cell_type": "markdown",
   "metadata": {},
   "source": [
    "### Part 3 "
   ]
  },
  {
   "cell_type": "code",
   "execution_count": 18,
   "metadata": {
    "collapsed": true
   },
   "outputs": [],
   "source": [
    "def grad(X):\n",
    "    sensor_distance_sum = np.zeros((1,X.shape[1]))\n",
    "    anchor_distance_sum = np.zeros((1,X.shape[1]))\n",
    "    gradient = np.zeros(X.shape)\n",
    "\n",
    "    for i, sensor_i in enumerate(X):\n",
    "        for j, sensor_j in enumerate(X):\n",
    "            if(i != j):\n",
    "                sensor_distance_sum += (np.linalg.norm(sensor_i - sensor_j)**2 - \\\n",
    "                                        np.linalg.norm(sensors[i,:] - sensors[j,:])**2) * \\\n",
    "                                       (sensor_i - sensor_j)\n",
    "\n",
    "        for k, anchor_k in enumerate(anchors):\n",
    "            anchor_distance_sum += (np.linalg.norm(anchor_k - sensor_i)**2 - \\\n",
    "                                    np.linalg.norm(anchors[k,:] - sensors[i,:])**2) * \\\n",
    "                                   (sensor_i - anchor_k)\n",
    "\n",
    "        gradient[i,:] = 8*sensor_distance_sum + 4*anchor_distance_sum\n",
    "\n",
    "    return gradient"
   ]
  },
  {
   "cell_type": "code",
   "execution_count": 33,
   "metadata": {},
   "outputs": [],
   "source": [
    "check = 1000\n",
    "max_iter = 10000\n",
    "k = 0\n",
    "\n",
    "# Initial sensors guess\n",
    "sensors_0 = generate_points(num_sensors, dim)\n",
    "sensors_k = sensors_0\n",
    "\n",
    "# D iteration\n",
    "alpha = .0000001\n",
    "while check > 10**-8 and k < max_iter:\n",
    "    sensors_k1 = sensors_k - alpha * grad(sensors_k)\n",
    "    check = np.linalg.norm(sensors_k1 - sensors_k)\n",
    "    sensors_k = sensors_k1\n",
    "    k = k+1\n",
    "    "
   ]
  },
  {
   "cell_type": "code",
   "execution_count": 31,
   "metadata": {},
   "outputs": [
    {
     "data": {
      "text/plain": [
       "matrix([[-0.82963175,  1.49491793],\n",
       "        [-1.6397261 , -0.88638492],\n",
       "        [-0.57167572, -1.90004467],\n",
       "        [-0.57647951, -1.41087409],\n",
       "        [ 0.12781571, -0.32245923],\n",
       "        [-1.03637545, -0.24204694],\n",
       "        [-1.55879562,  1.60678321],\n",
       "        [ 1.34062095,  1.62617786],\n",
       "        [ 0.88287445, -1.71321207],\n",
       "        [ 1.62936614,  0.73302684]])"
      ]
     },
     "execution_count": 31,
     "metadata": {},
     "output_type": "execute_result"
    }
   ],
   "source": [
    "sensors"
   ]
  },
  {
   "cell_type": "code",
   "execution_count": 34,
   "metadata": {
    "scrolled": true
   },
   "outputs": [
    {
     "data": {
      "text/plain": [
       "matrix([[-0.82963175,  1.49491793],\n",
       "        [-1.6397261 , -0.88638492],\n",
       "        [-0.57167572, -1.90004467],\n",
       "        [-0.57647952, -1.41087409],\n",
       "        [ 0.12781572, -0.32245924],\n",
       "        [-1.03637549, -0.24204693],\n",
       "        [-1.55879554,  1.60678318],\n",
       "        [ 1.34062092,  1.62617787],\n",
       "        [ 0.88287422, -1.71321199],\n",
       "        [ 1.62936685,  0.73302657]])"
      ]
     },
     "execution_count": 34,
     "metadata": {},
     "output_type": "execute_result"
    }
   ],
   "source": [
    "sensors_k"
   ]
  },
  {
   "cell_type": "markdown",
   "metadata": {},
   "source": [
    "### Question 2"
   ]
  },
  {
   "cell_type": "code",
   "execution_count": 82,
   "metadata": {},
   "outputs": [],
   "source": [
    "#order of indexing: (1,2), (1,3), (1,4)... (9,10)\n",
    "delta_p_ss = cvx.Variable((int) (num_sensors*(num_sensors-1)/2))\n",
    "delta_pp_ss = cvx.Variable((int) (num_sensors*(num_sensors-1)/2))\n",
    "                           \n",
    "#order of indexing: (anchor, sensor), primary sort on anchors\n",
    "delta_p_sa = cvx.Variable(num_anchors * num_sensors)\n",
    "delta_pp_sa = cvx.Variable(num_anchors * num_sensors)"
   ]
  },
  {
   "cell_type": "code",
   "execution_count": 95,
   "metadata": {},
   "outputs": [],
   "source": [
    "constraints = []\n",
    "\n",
    "constraints.append(delta_p_ss >= 0)\n",
    "constraints.append(delta_pp_ss >= 0)\n",
    "constraints.append(delta_p_sa >= 0)\n",
    "constraints.append(delta_pp_sa >= 0)\n",
    "\n",
    "for id_constraint, rhs in zip(A[0], A[1]):\n",
    "    constraints.append(sum_elem_product(id_constraint, Z) == rhs)\n",
    "for id_constraint2, rhs in zip(B[0], B[1]):\n",
    "    constraints.append(sum_elem_product(id_constraint2, Z) == rhs)\n",
    "for sensor_constraint, rhs, dp, dpp in zip(C[0], C[1], delta_p_ss, delta_pp_ss):\n",
    "    constraints.append(sum_elem_product(sensor_constraint, Z) \\\n",
    "                       == rhs)\n",
    "for anchor_constraint, rhs, dp, dpp in zip(D[0], D[1], delta_p_sa, delta_pp_sa):\n",
    "    constraints.append(sum_elem_product(anchor_constraint, Z) \\\n",
    "                       == rhs)\n"
   ]
  },
  {
   "cell_type": "code",
   "execution_count": 96,
   "metadata": {},
   "outputs": [],
   "source": [
    "objective = cvx.Minimize(cvx.sum_entries(delta_p_ss) + \\\n",
    "                         cvx.sum_entries(delta_pp_ss) + \\\n",
    "                         cvx.sum_entries(delta_p_sa) + \\\n",
    "                         cvx.sum_entries(delta_pp_sa))"
   ]
  },
  {
   "cell_type": "code",
   "execution_count": 97,
   "metadata": {},
   "outputs": [],
   "source": [
    "prob = cvx.Problem(objective, constraints)\n",
    "result = prob.solve(solver = 'MOSEK')"
   ]
  },
  {
   "cell_type": "code",
   "execution_count": 98,
   "metadata": {},
   "outputs": [
    {
     "name": "stdout",
     "output_type": "stream",
     "text": [
      "Real sensors: \n",
      "[[-0.82963175  1.49491793]\n",
      " [-1.6397261  -0.88638492]\n",
      " [-0.57167572 -1.90004467]\n",
      " [-0.57647951 -1.41087409]\n",
      " [ 0.12781571 -0.32245923]\n",
      " [-1.03637545 -0.24204694]\n",
      " [-1.55879562  1.60678321]\n",
      " [ 1.34062095  1.62617786]\n",
      " [ 0.88287445 -1.71321207]\n",
      " [ 1.62936614  0.73302684]]\n",
      "Generated Sensors: \n",
      "None\n"
     ]
    }
   ],
   "source": [
    "print(\"Real sensors: \")\n",
    "print(sensors)\n",
    "print(\"Generated Sensors: \")\n",
    "generated = np.transpose(Z[0:dim, dim:dim+num_sensors].value)\n",
    "print(generated)"
   ]
  },
  {
   "cell_type": "code",
   "execution_count": 99,
   "metadata": {},
   "outputs": [
    {
     "name": "stdout",
     "output_type": "stream",
     "text": [
      "None\n"
     ]
    }
   ],
   "source": [
    "print(delta_p_ss.value)"
   ]
  }
 ],
 "metadata": {
  "kernelspec": {
   "display_name": "Python 3",
   "language": "python",
   "name": "python3"
  },
  "language_info": {
   "codemirror_mode": {
    "name": "ipython",
    "version": 3
   },
   "file_extension": ".py",
   "mimetype": "text/x-python",
   "name": "python",
   "nbconvert_exporter": "python",
   "pygments_lexer": "ipython3",
   "version": "3.6.3"
  }
 },
 "nbformat": 4,
 "nbformat_minor": 2
}
