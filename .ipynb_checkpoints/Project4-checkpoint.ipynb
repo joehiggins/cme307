{
 "cells": [
  {
   "cell_type": "code",
   "execution_count": 2,
   "metadata": {
    "collapsed": true
   },
   "outputs": [],
   "source": [
    "# Import necessary modules\n",
    "import cvxpy as cvx\n",
    "import numpy as np"
   ]
  },
  {
   "cell_type": "code",
   "execution_count": 16,
   "metadata": {},
   "outputs": [],
   "source": [
    "def generate_points(num, dim):\n",
    "    return 4 * np.random.random((num, dim)) - 2 "
   ]
  },
  {
   "cell_type": "code",
   "execution_count": 5,
   "metadata": {},
   "outputs": [],
   "source": [
    "num_sensors = 10\n",
    "num_anchors = 2\n",
    "dim = 1\n",
    "\n",
    "anchors = generate_points\n",
    "\n",
    "sensors = np.matrix([\n",
    "    [ 0,   -0.3],\n",
    "    [ 0,    0.7],\n",
    "    [ 1,    0.7],\n",
    "    [ 2,    0.7],\n",
    "    [ 0,    1.7],\n",
    "    [ 0,    2.0],\n",
    "    [ -1,   0.7],\n",
    "    [ -.5,  0.7],\n",
    "    [ -.25, 0.7],\n",
    "    [ 0,    1.0],\n",
    "])\n",
    "\n",
    "d_sa = list(map(lambda s: \n",
    "        list(map(lambda a: np.linalg.norm(a - s), anchors))\n",
    "    , sensors))\n",
    "\n",
    "d_ss = list(map(lambda s1: \n",
    "        list(map(lambda s2: np.linalg.norm(s1 - s2), sensors))\n",
    "    , sensors))"
   ]
  },
  {
   "cell_type": "code",
   "execution_count": 6,
   "metadata": {},
   "outputs": [
    {
     "name": "stdout",
     "output_type": "stream",
     "text": [
      "[[1.0440306508910551, 1.0440306508910551, 2.2999999999999998], [1.2206555615733703, 1.2206555615733703, 1.3], [0.69999999999999996, 2.118962010041709, 1.6401219466856727], [1.2206555615733703, 3.0805843601498726, 2.3853720883753127], [1.972308292331602, 1.972308292331602, 0.30000000000000004], [2.2360679774997898, 2.2360679774997898, 0.0], [2.118962010041709, 0.69999999999999996, 1.6401219466856727], [1.6552945357246849, 0.86023252670426265, 1.3928388277184121], [1.4326548781894402, 1.0259142264341596, 1.3238202294873727], [1.4142135623730951, 1.4142135623730951, 1.0]]\n"
     ]
    }
   ],
   "source": [
    "x = cvx.Variable(2,n)\n",
    "objective = cvx.Minimize(0)"
   ]
  },
  {
   "cell_type": "code",
   "execution_count": null,
   "metadata": {
    "collapsed": true
   },
   "outputs": [],
   "source": [
    "constraints  = []\n",
    "for i, sensor in enumerate(sensors):\n",
    "    for j, anchor in enumerate(anchors):\n",
    "        constraints.append(cvx.norm(sensor - anchor) <= d_sa[i][j])\n",
    "        "
   ]
  }
 ],
 "metadata": {
  "kernelspec": {
   "display_name": "Python 3",
   "language": "python",
   "name": "python3"
  },
  "language_info": {
   "codemirror_mode": {
    "name": "ipython",
    "version": 3
   },
   "file_extension": ".py",
   "mimetype": "text/x-python",
   "name": "python",
   "nbconvert_exporter": "python",
   "pygments_lexer": "ipython3",
   "version": "3.6.3"
  }
 },
 "nbformat": 4,
 "nbformat_minor": 2
}
