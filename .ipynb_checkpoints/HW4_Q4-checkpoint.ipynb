{
 "cells": [
  {
   "cell_type": "code",
   "execution_count": 6,
   "metadata": {},
   "outputs": [
    {
     "name": "stdout",
     "output_type": "stream",
     "text": [
      "[0, 1, 2]\n"
     ]
    }
   ],
   "source": [
    "import numpy as np\n",
    "\n",
    "e = np.exp(1)\n",
    "\n",
    "pos_data = np.matrix([\n",
    "    [ -0.01, -0.01],\n",
    "    [ 1, 0],\n",
    "    [ 0, 1]\n",
    "])\n",
    "neg_data = np.matrix([\n",
    "    [ 0.01, 0.01],\n",
    "    [-1, 0],\n",
    "    [ 0,-1]\n",
    "])\n",
    "\n",
    "# Add shift variable\n",
    "pos_data = np.hstack((pos_data, np.ones((3,1))))\n",
    "neg_data = np.hstack((neg_data, np.ones((3,1))))\n",
    "\n",
    "print([x for x in range(3)])"
   ]
  },
  {
   "cell_type": "code",
   "execution_count": null,
   "metadata": {
    "collapsed": true
   },
   "outputs": [],
   "source": [
    "def hess(x):\n",
    "    output_hess = np.zeros((3, 3))\n",
    "    for j in range(3):\n",
    "        pos_sum = np.zeros((1,3))\n",
    "        neg_sum = np.zeros((1,3))\n",
    "        for i in range(3):\n",
    "            num = e**(-1 * np.dot(pos_data[i, :], x) \\\n",
    "                  * pos_data[i, j]\n",
    "            den = (1 + e**(-1 * np.dot(pos_data[i, :], x))**2\n",
    "            pos_sum += (num/den)*pos_data[i, :]\n",
    "                          \n",
    "            num = e**(np.dot(neg_data[i, :], x) \\\n",
    "                  * neg_data[i, j]\n",
    "            den = (1 + e**(np.dot(neg_data[i, :], x))**2\n",
    "            neg_sum += (num/den)*neg_data[i, :]\n",
    "        output_hess[j,:] = pos_sum + neg_sum\n",
    "            \n",
    "            \n",
    "        output_hess[row_index, :]"
   ]
  }
 ],
 "metadata": {
  "kernelspec": {
   "display_name": "Python 3",
   "language": "python",
   "name": "python3"
  },
  "language_info": {
   "codemirror_mode": {
    "name": "ipython",
    "version": 3
   },
   "file_extension": ".py",
   "mimetype": "text/x-python",
   "name": "python",
   "nbconvert_exporter": "python",
   "pygments_lexer": "ipython3",
   "version": "3.6.3"
  }
 },
 "nbformat": 4,
 "nbformat_minor": 2
}
