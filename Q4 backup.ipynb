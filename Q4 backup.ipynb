{
 "cells": [
  {
   "cell_type": "code",
   "execution_count": 1,
   "metadata": {
    "collapsed": true
   },
   "outputs": [],
   "source": [
    "import numpy as np\n",
    "import scipy as sp\n",
    "from scipy import random"
   ]
  },
  {
   "cell_type": "code",
   "execution_count": 2,
   "metadata": {},
   "outputs": [
    {
     "name": "stdout",
     "output_type": "stream",
     "text": [
      "0\n",
      "1000\n",
      "2000\n",
      "3000\n",
      "4000\n",
      "5000\n",
      "6000\n",
      "7000\n",
      "8000\n",
      "9000\n",
      "10000\n",
      "11000\n",
      "12000\n",
      "13000\n",
      "14000\n",
      "15000\n",
      "16000\n",
      "17000\n",
      "18000\n",
      "19000\n"
     ]
    }
   ],
   "source": [
    "def sum_elem_product_noncvx(A,B):\n",
    "    return np.sum(np.multiply(A,B))\n",
    "\n",
    "sensors= np.matrix([\n",
    "    [0.1, 0.3],\n",
    "    [0, 0.4]\n",
    "])\n",
    "\n",
    "anchors = np.matrix([\n",
    "    [ 1, 0],\n",
    "    [-1, 0],\n",
    "    [ 0, 2]\n",
    "])\n",
    "\n",
    "A_1 = np.matrix([[1], [0], [0], [0]]) * \\\n",
    "        np.transpose(np.matrix([[1], [0], [0], [0]]))\n",
    "A_2 = np.matrix([[0], [1], [0], [0]]) * \\\n",
    "        np.transpose(np.matrix([[0], [1], [0], [0]]))\n",
    "A_3 = np.matrix([[1], [1], [0], [0]]) * \\\n",
    "        np.transpose(np.matrix([[1], [1], [0], [0]]))\n",
    "\n",
    "A_4 = np.vstack((np.transpose(anchors[0]), -1, 0)) * \\\n",
    "        np.transpose(np.vstack((np.transpose(anchors[0]), -1, 0)))\n",
    "A_5 = np.vstack((np.transpose(anchors[1]), -1, 0)) * \\\n",
    "        np.transpose(np.vstack((np.transpose(anchors[1]), -1, 0)))\n",
    "\n",
    "A_6 = np.vstack((np.transpose(anchors[1]), 0, -1)) * \\\n",
    "        np.transpose(np.vstack((np.transpose(anchors[1]), 0, -1)))\n",
    "A_7 = np.vstack((np.transpose(anchors[2]), 0, -1)) * \\\n",
    "        np.transpose(np.vstack((np.transpose(anchors[2]), 0, -1)))\n",
    "\n",
    "A_8 = np.matrix([[0], [0], [1], [-1]]) * \\\n",
    "        np.transpose(np.matrix([[0], [0], [1], [-1]]))\n",
    "\n",
    "\n",
    "A = [A_1, A_2, A_3, A_4, A_5, A_6, A_7, A_8]\n",
    "\n",
    "b = np.matrix([\n",
    "    [1],\n",
    "    [1],\n",
    "    [2],\n",
    "    \n",
    "    [np.linalg.norm(anchors[0] - sensors[0])**2],\n",
    "    [np.linalg.norm(anchors[1] - sensors[0])**2],\n",
    "    \n",
    "    [np.linalg.norm(anchors[1] - sensors[1])**2],\n",
    "    [np.linalg.norm(anchors[2] - sensors[1])**2],\n",
    "    \n",
    "    [np.linalg.norm(sensors[0] - sensors[1])**2]\n",
    "])\n",
    "\n",
    "def make_AX(X):\n",
    "    output = []\n",
    "    for i, A_i in enumerate(A):\n",
    "        output.append(sum_elem_product_noncvx(A_i, X))\n",
    "    return np.transpose(np.matrix(output))\n",
    "\n",
    "def At_y(y):\n",
    "    output = np.zeros((4,4))\n",
    "    for i, A_i in enumerate(A):\n",
    "        output += np.multiply(A_i, y[i])\n",
    "    return output\n",
    "\n",
    "def grad(X):\n",
    "    return At_y(make_AX(X) - b)\n",
    "\n",
    "#prepare iterations\n",
    "dim = np.shape(sensors)[0]\n",
    "num_sensors = np.shape(sensors)[1]\n",
    "thing = random.rand(dim+num_sensors,dim+num_sensors)\n",
    "X_0 = np.dot(thing,thing.transpose())\n",
    "X_k = X_0\n",
    "Beta = 100\n",
    "k = 0\n",
    "check = 1000\n",
    "max_iter = 20000\n",
    "\n",
    "while check > 10**-8 and k < max_iter:\n",
    "    \n",
    "    #get next iterate from descent\n",
    "    X_k1 = X_k - (1/Beta) * grad(X_k)\n",
    "    \n",
    "    #project back into cone with eigen decomp\n",
    "    [eigenvalues, V] = np.linalg.eig(X_k1)\n",
    "    eigenvalues[eigenvalues < 0] = 0\n",
    "    Lambda = np.diag(eigenvalues)\n",
    "    X_k1 = np.dot(np.dot(V, Lambda), np.transpose(V))\n",
    "    \n",
    "    #set up for next iteration\n",
    "    check = np.linalg.norm(X_k1 - X_k)  \n",
    "    X_k = X_k1\n",
    "    \n",
    "    if(k%1000 == 0):\n",
    "        print(k)\n",
    "    k = k+1\n",
    "\n",
    "    "
   ]
  },
  {
   "cell_type": "code",
   "execution_count": 119,
   "metadata": {},
   "outputs": [
    {
     "ename": "ImportError",
     "evalue": "cannot import name 'ldl'",
     "output_type": "error",
     "traceback": [
      "\u001b[0;31m---------------------------------------------------------------------------\u001b[0m",
      "\u001b[0;31mImportError\u001b[0m                               Traceback (most recent call last)",
      "\u001b[0;32m<ipython-input-119-0b8ad803f5b2>\u001b[0m in \u001b[0;36m<module>\u001b[0;34m()\u001b[0m\n\u001b[0;32m----> 1\u001b[0;31m \u001b[0;32mfrom\u001b[0m \u001b[0mscipy\u001b[0m\u001b[0;34m.\u001b[0m\u001b[0mlinalg\u001b[0m \u001b[0;32mimport\u001b[0m \u001b[0mldl\u001b[0m\u001b[0;34m\u001b[0m\u001b[0m\n\u001b[0m\u001b[1;32m      2\u001b[0m \u001b[0;34m\u001b[0m\u001b[0m\n\u001b[1;32m      3\u001b[0m \u001b[0;32mdef\u001b[0m \u001b[0mldl_decomp\u001b[0m\u001b[0;34m(\u001b[0m\u001b[0mA\u001b[0m\u001b[0;34m)\u001b[0m\u001b[0;34m:\u001b[0m\u001b[0;34m\u001b[0m\u001b[0m\n\u001b[1;32m      4\u001b[0m     \u001b[0mA\u001b[0m \u001b[0;34m=\u001b[0m \u001b[0mnp\u001b[0m\u001b[0;34m.\u001b[0m\u001b[0mmatrix\u001b[0m\u001b[0;34m(\u001b[0m\u001b[0mA\u001b[0m\u001b[0;34m)\u001b[0m\u001b[0;34m\u001b[0m\u001b[0m\n\u001b[1;32m      5\u001b[0m \u001b[0;34m\u001b[0m\u001b[0m\n",
      "\u001b[0;31mImportError\u001b[0m: cannot import name 'ldl'"
     ]
    }
   ],
   "source": [
    "from scipy.linalg import ldl\n",
    "\n",
    "def ldl_decomp(A):\n",
    "    A = np.matrix(A)\n",
    "\n",
    "    S = np.diag(np.diag(A))\n",
    "    Sinv = np.diag(1/np.diag(A))\n",
    "    D = np.matrix(S.dot(S))\n",
    "    Lch = np.linalg.cholesky(A)\n",
    "    L = np.matrix(Lch.dot(Sinv))\n",
    "    return L, D\n",
    "\n",
    "#prepare iterations\n",
    "dim = np.shape(sensors)[0]\n",
    "num_sensors = np.shape(sensors)[1]\n",
    "thing = random.rand(dim+num_sensors,dim+num_sensors)\n",
    "X_0 = np.dot(thing,thing.transpose())\n",
    "X_k = X_0\n",
    "Beta = 10000000\n",
    "k = 0\n",
    "check = 1000\n",
    "max_iter = 20000\n",
    "\n",
    "    \n",
    "while check > 10**-8 and k < max_iter:\n",
    "    \n",
    "    #get next iterate from descent\n",
    "    X_k1 = X_k - (1/Beta) * grad(X_k)\n",
    "    \n",
    "    #project back into cone with eigen decomp\n",
    "    [L, D, _] = sp.linalg.ldl(X_k1)\n",
    "    D[D < 0] = 0\n",
    "    D_psd = np.diag(D)\n",
    "    X_k1 = np.dot(np.dot(L, D), np.transpose(L))\n",
    "    \n",
    "    #set up for next iteration\n",
    "    check = np.linalg.norm(X_k1 - X_k)  \n",
    "    X_k = X_k1\n",
    "    \n",
    "    if(k%1000 == 0):\n",
    "        print(k)\n",
    "    k = k+1"
   ]
  },
  {
   "cell_type": "code",
   "execution_count": 135,
   "metadata": {},
   "outputs": [],
   "source": [
    "import scipy\n",
    "from scipy.linalg import eigh\n",
    "def pca(X):\n",
    "    [evalues, evectors] = scipy.linalg.eigh(X)\n",
    "    \n",
    "    idx = evalues.argsort()[::-1]   \n",
    "    evalues = evalues[idx]\n",
    "    evectors = evectors[:,idx]\n",
    "    \n",
    "    matrix = np.zeros(X.shape)\n",
    "    width = evalues.shape[0]\n",
    "    for i in range(3):\n",
    "        index = width - i - 1\n",
    "        if index >= 0 and evalues[index] > 0:\n",
    "            matrix += evalues[index] * np.outer(evectors[:, index], evectors[:, index])\n",
    "    return matrix"
   ]
  },
  {
   "cell_type": "code",
   "execution_count": 136,
   "metadata": {},
   "outputs": [
    {
     "name": "stdout",
     "output_type": "stream",
     "text": [
      "0\n",
      "1000\n",
      "2000\n",
      "3000\n",
      "4000\n",
      "5000\n",
      "6000\n",
      "7000\n",
      "8000\n",
      "9000\n",
      "10000\n",
      "11000\n",
      "12000\n",
      "13000\n",
      "14000\n",
      "15000\n",
      "16000\n",
      "17000\n",
      "18000\n",
      "19000\n"
     ]
    }
   ],
   "source": [
    "dim = np.shape(sensors)[0]\n",
    "num_sensors = np.shape(sensors)[1]\n",
    "thing = random.rand(dim+num_sensors,dim+num_sensors)\n",
    "X_0 = np.dot(thing,thing.transpose())\n",
    "X_k = X_0\n",
    "Beta = 100\n",
    "k = 0\n",
    "check = 1000\n",
    "max_iter = 20000\n",
    "\n",
    "    \n",
    "while check > 10**-8 and k < max_iter:\n",
    "    \n",
    "    #get next iterate from descent\n",
    "    X_k1 = X_k - (1/Beta) * grad(X_k)\n",
    "    \n",
    "    #project back into cone with eigen decomp\n",
    "    X_k1 = pca(X_k1) \n",
    "    \n",
    "    #set up for next iteration\n",
    "    check = np.linalg.norm(X_k1 - X_k)  \n",
    "    X_k = X_k1\n",
    "    \n",
    "    if(k%1000 == 0):\n",
    "        print(k)\n",
    "    k = k+1"
   ]
  },
  {
   "cell_type": "code",
   "execution_count": 130,
   "metadata": {},
   "outputs": [
    {
     "data": {
      "text/plain": [
       "<module 'numpy.linalg' from '/Users/lsmoore/anaconda3/lib/python3.6/site-packages/numpy/linalg/__init__.py'>"
      ]
     },
     "execution_count": 130,
     "metadata": {},
     "output_type": "execute_result"
    }
   ],
   "source": [
    "LA"
   ]
  },
  {
   "cell_type": "code",
   "execution_count": 134,
   "metadata": {},
   "outputs": [
    {
     "name": "stdout",
     "output_type": "stream",
     "text": [
      "Real sensors: \n",
      "[[ 0.1  0.3]\n",
      " [ 0.   0.4]]\n",
      "Generated Sensors: \n",
      "[[ 0.0154571  -0.00882466]\n",
      " [ 0.00524817  0.00990563]]\n"
     ]
    }
   ],
   "source": [
    "print(\"Real sensors: \")\n",
    "print(sensors)\n",
    "print(\"Generated Sensors: \")\n",
    "generated = np.transpose(X_k[0:dim, dim:dim+num_sensors])\n",
    "print(generated)\n"
   ]
  }
 ],
 "metadata": {
  "kernelspec": {
   "display_name": "Python 3",
   "language": "python",
   "name": "python3"
  },
  "language_info": {
   "codemirror_mode": {
    "name": "ipython",
    "version": 3
   },
   "file_extension": ".py",
   "mimetype": "text/x-python",
   "name": "python",
   "nbconvert_exporter": "python",
   "pygments_lexer": "ipython3",
   "version": "3.6.3"
  }
 },
 "nbformat": 4,
 "nbformat_minor": 2
}
