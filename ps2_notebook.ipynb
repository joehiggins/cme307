{
 "cells": [
  {
   "cell_type": "markdown",
   "metadata": {},
   "source": [
    "# Assignment 2, Problem 9 Computation Teamwork\n",
    "## Group: Austin Wang, Lawrence Moore, Joe Higgins\n"
   ]
  },
  {
   "cell_type": "code",
   "execution_count": 12,
   "metadata": {
    "collapsed": true
   },
   "outputs": [],
   "source": [
    "# Import necessary modules\n",
    "import cvxpy as cvx\n",
    "import numpy as np"
   ]
  },
  {
   "cell_type": "markdown",
   "metadata": {},
   "source": [
    "## Introduction\n",
    "In this notebook, we will be solving the two-dimensional sensor localization problem with one sensor and three anchors. We assume that we know each of the three distances between the sensor and the anchors. Our goal is to use this information to determine the location of the sensor.\n",
    "\n",
    "We will formulate this problem as both an SOCP relaxation problem and an SDP relaxation problem to analyze how the two methods compare."
   ]
  },
  {
   "cell_type": "markdown",
   "metadata": {},
   "source": [
    "# Results summary\n",
    "\n",
    "## SOCP\n",
    "\n",
    "### Case 1: Both in Convex Hulls\n",
    "Optimizer finds both sensors succesfully in this case. \n",
    "Ex: s1=[0, 0.1], s2=[0, 0.5]\n",
    "### Case 2: One in, one out, both in convex hull of anchors\n",
    "Optimizer finds the sensor in the convex hull correctly, but fails to find the sensor outside of the hull.\n",
    "Ex: s1=[0, 0.1], s2=[-.15, 1.8]\n",
    "### Case 3: One in, one out, one not in convex hull of anchors\n",
    "Optimizer does not find either of the sensors successfully\n",
    "Ex: s1=[0, 0.1], s2=[-.5, 10]\n",
    "### Case 4: Neither in convex hull of each other\n",
    "Optimizer does not find either of the sensors successfully\n",
    "Ex: s1=[ -.5, .5], s2=[.5, 0.5]\n",
    "\n",
    "## SDP\n",
    "### Case 1: Both in Convex Hulls\n",
    "Optimizer finds both sensors succesfully in this case. \n",
    "### Case 2: One in, one out, both in convex hull of anchors\n",
    "Optimizer finds both sensors succesfully in this case. \n",
    "### Case 3: One in, one out, one not in convex hull of anchors\n",
    "Optimizer does not find either of the sensors successfully\n",
    "### Case 4: Neither in convex hull of each other\n",
    "Optimizer does not find either of the sensors successfully"
   ]
  },
  {
   "cell_type": "markdown",
   "metadata": {},
   "source": [
    "## Problem Data"
   ]
  },
  {
   "cell_type": "code",
   "execution_count": 8,
   "metadata": {},
   "outputs": [],
   "source": [
    "# Define anchors\n",
    "anchors = np.matrix([\n",
    "    [ 1, 0],\n",
    "    [-1, 0],\n",
    "    [ 0, 1.4]\n",
    "])\n",
    "\n",
    "# Number of dimensions\n",
    "n = 2\n",
    "\n",
    "# Sensor locations\n",
    "# sensor_location_in = [0.44, 0.25] # Sensor inside convex hull\n",
    "# sensor_location_out = [1, 1]      # Sensor outside convex hull\n",
    "\n",
    "# case 1: sensor_location_both_in\n",
    "s1 = np.matrix([\n",
    "    [ 0, .1],\n",
    "    [0, 0.5]]) \n",
    "\n",
    "# case 2: sensor_location_one_in_one_out_in_anchors\n",
    "s1 = np.matrix([\n",
    "    [ 0, .1],\n",
    "    [-.15, 1.8]])\n",
    "\n",
    "# case 3: sensor_location_one_in_one_out_one_not_in_anchors\n",
    "s3 = np.matrix([\n",
    "    [ 0, .1],\n",
    "    [-.5, 10]])\n",
    "\n",
    "# case 4: one in one out, not in convex hull of anchors\n",
    "s3 = np.matrix([\n",
    "    [ 0, .1],\n",
    "    [0.05, 10]])\n",
    "\n",
    "\n",
    "# case 4: not in each others' convex hull\n",
    "s4 = np.matrix([\n",
    "    [ -.5, .5],\n",
    "    [.5, 0.5]])\n",
    "\n",
    "# Distances from anchors\n",
    "\n",
    "d0 = list(map(lambda a: np.linalg.norm(s1[0, :] - a), anchors))\n",
    "d1 = list(map(lambda a: np.linalg.norm(s1[1, :] - a), anchors))\n",
    "d_both_sensor = np.linalg.norm(s1[0, :] - s1[1, :])\n",
    "# d_out = list(map(lambda a: np.linalg.norm(sensor_location_out - a), anchors))"
   ]
  },
  {
   "cell_type": "markdown",
   "metadata": {},
   "source": [
    "## Part 1: SOCP Relaxation Problem Experimentation"
   ]
  },
  {
   "cell_type": "markdown",
   "metadata": {},
   "source": [
    "We formulate the SOCP relaxation problem below for a sensor in the convex hull:"
   ]
  },
  {
   "cell_type": "code",
   "execution_count": 13,
   "metadata": {
    "collapsed": true
   },
   "outputs": [],
   "source": [
    "# Construct the problem.\n",
    "x = cvx.Variable(2,n)\n",
    "objective = cvx.Minimize(0)\n",
    "\n",
    "x1 = x[0,:]\n",
    "x2 = x[1, :]\n",
    "\n",
    "constraints = [cvx.norm(x1 - anchors[0]) <= d0[0],\n",
    "               cvx.norm(x1 - anchors[1]) <= d0[1],\n",
    "               cvx.norm(x1 - x2) <= d_both_sensor,\n",
    "               cvx.norm(x2 - anchors[1]) <= d1[1],\n",
    "               cvx.norm(x2 - anchors[2]) <= d1[2]\n",
    "              ]\n",
    "\n",
    "prob = cvx.Problem(objective, constraints)"
   ]
  },
  {
   "cell_type": "markdown",
   "metadata": {},
   "source": [
    "Solving the problem yields the following:"
   ]
  },
  {
   "cell_type": "code",
   "execution_count": 14,
   "metadata": {},
   "outputs": [
    {
     "name": "stdout",
     "output_type": "stream",
     "text": [
      "Results for Sensor Inside of Convex Hull of Anchors\n",
      "---------------------------------------------------\n"
     ]
    },
    {
     "ename": "NameError",
     "evalue": "name 'sensor_location_both_in' is not defined",
     "output_type": "error",
     "traceback": [
      "\u001b[0;31m---------------------------------------------------------------------------\u001b[0m",
      "\u001b[0;31mNameError\u001b[0m                                 Traceback (most recent call last)",
      "\u001b[0;32m<ipython-input-14-67f243703b6b>\u001b[0m in \u001b[0;36m<module>\u001b[0;34m()\u001b[0m\n\u001b[1;32m      5\u001b[0m \u001b[0mprint\u001b[0m\u001b[0;34m(\u001b[0m\u001b[0;34m'Results for Sensor Inside of Convex Hull of Anchors'\u001b[0m\u001b[0;34m)\u001b[0m\u001b[0;34m\u001b[0m\u001b[0m\n\u001b[1;32m      6\u001b[0m \u001b[0mprint\u001b[0m\u001b[0;34m(\u001b[0m\u001b[0;34m'---------------------------------------------------'\u001b[0m\u001b[0;34m)\u001b[0m\u001b[0;34m\u001b[0m\u001b[0m\n\u001b[0;32m----> 7\u001b[0;31m \u001b[0mprint\u001b[0m\u001b[0;34m(\u001b[0m\u001b[0;34m'True Sensor Location: {}'\u001b[0m\u001b[0;34m.\u001b[0m\u001b[0mformat\u001b[0m\u001b[0;34m(\u001b[0m\u001b[0msensor_location_both_in\u001b[0m\u001b[0;34m)\u001b[0m\u001b[0;34m)\u001b[0m\u001b[0;34m\u001b[0m\u001b[0m\n\u001b[0m\u001b[1;32m      8\u001b[0m \u001b[0mprint\u001b[0m\u001b[0;34m(\u001b[0m\u001b[0;34m'SOCP optimal sensor location 1: {}'\u001b[0m\u001b[0;34m.\u001b[0m\u001b[0mformat\u001b[0m\u001b[0;34m(\u001b[0m\u001b[0mx1\u001b[0m\u001b[0;34m.\u001b[0m\u001b[0mvalue\u001b[0m\u001b[0;34m)\u001b[0m\u001b[0;34m)\u001b[0m\u001b[0;34m\u001b[0m\u001b[0m\n\u001b[1;32m      9\u001b[0m \u001b[0mprint\u001b[0m\u001b[0;34m(\u001b[0m\u001b[0;34m'SOCP optimal sensor location 2: {}'\u001b[0m\u001b[0;34m.\u001b[0m\u001b[0mformat\u001b[0m\u001b[0;34m(\u001b[0m\u001b[0mx2\u001b[0m\u001b[0;34m.\u001b[0m\u001b[0mvalue\u001b[0m\u001b[0;34m)\u001b[0m\u001b[0;34m)\u001b[0m\u001b[0;34m\u001b[0m\u001b[0m\n",
      "\u001b[0;31mNameError\u001b[0m: name 'sensor_location_both_in' is not defined"
     ]
    }
   ],
   "source": [
    "# The optimal objective is returned by prob.solve().\n",
    "result = prob.solve(solver = 'MOSEK')\n",
    "\n",
    "# The optimal value for x is stored in x.value.\n",
    "print('Results for Sensor Inside of Convex Hull of Anchors')\n",
    "print('---------------------------------------------------')\n",
    "print('True Sensor Location: {}'.format(sensor_location_both_in))\n",
    "print('SOCP optimal sensor location 1: {}'.format(x1.value))\n",
    "print('SOCP optimal sensor location 2: {}'.format(x2.value))"
   ]
  },
  {
   "cell_type": "code",
   "execution_count": null,
   "metadata": {
    "collapsed": true
   },
   "outputs": [],
   "source": []
  },
  {
   "cell_type": "code",
   "execution_count": null,
   "metadata": {
    "collapsed": true
   },
   "outputs": [],
   "source": []
  },
  {
   "cell_type": "markdown",
   "metadata": {},
   "source": [
    "As one can see, the SOCP relaxation problem solution yields the correct sensor location for a sensor in the convex hull of the anchors.\n",
    "\n",
    "Now let us see what happens if the sensor is outside of the convex hull:"
   ]
  },
  {
   "cell_type": "code",
   "execution_count": 11,
   "metadata": {},
   "outputs": [
    {
     "ename": "NameError",
     "evalue": "name 'x' is not defined",
     "output_type": "error",
     "traceback": [
      "\u001b[0;31m---------------------------------------------------------------------------\u001b[0m",
      "\u001b[0;31mNameError\u001b[0m                                 Traceback (most recent call last)",
      "\u001b[0;32m<ipython-input-11-3152f7da90e6>\u001b[0m in \u001b[0;36m<module>\u001b[0;34m()\u001b[0m\n\u001b[1;32m      1\u001b[0m \u001b[0;31m# Update constraints for sensor outside of the convex hull\u001b[0m\u001b[0;34m\u001b[0m\u001b[0;34m\u001b[0m\u001b[0m\n\u001b[0;32m----> 2\u001b[0;31m constraints = [cvx.norm(x - anchors[0]) <= d_out[0],\n\u001b[0m\u001b[1;32m      3\u001b[0m                \u001b[0mcvx\u001b[0m\u001b[0;34m.\u001b[0m\u001b[0mnorm\u001b[0m\u001b[0;34m(\u001b[0m\u001b[0mx\u001b[0m \u001b[0;34m-\u001b[0m \u001b[0manchors\u001b[0m\u001b[0;34m[\u001b[0m\u001b[0;36m1\u001b[0m\u001b[0;34m]\u001b[0m\u001b[0;34m)\u001b[0m \u001b[0;34m<=\u001b[0m \u001b[0md_out\u001b[0m\u001b[0;34m[\u001b[0m\u001b[0;36m1\u001b[0m\u001b[0;34m]\u001b[0m\u001b[0;34m,\u001b[0m\u001b[0;34m\u001b[0m\u001b[0m\n\u001b[1;32m      4\u001b[0m                cvx.norm(x - anchors[2]) <= d_out[2]]\n\u001b[1;32m      5\u001b[0m \u001b[0;34m\u001b[0m\u001b[0m\n",
      "\u001b[0;31mNameError\u001b[0m: name 'x' is not defined"
     ]
    }
   ],
   "source": [
    "# Update constraints for sensor outside of the convex hull\n",
    "constraints = [cvx.norm(x - anchors[0]) <= d_out[0],\n",
    "               cvx.norm(x - anchors[1]) <= d_out[1],\n",
    "               cvx.norm(x - anchors[2]) <= d_out[2]]\n",
    "\n",
    "prob = cvx.Problem(objective, constraints)\n",
    "result = prob.solve(solver = 'MOSEK')\n",
    "\n",
    "print('Results for Sensor Outside of Convex Hull of Anchors')\n",
    "print('---------------------------------------------------')\n",
    "print('True Sensor Location: {}'.format(sensor_location_out))\n",
    "print('SOCP optimal sensor location : {}'.format(x.value))"
   ]
  },
  {
   "cell_type": "code",
   "execution_count": null,
   "metadata": {
    "collapsed": true
   },
   "outputs": [],
   "source": []
  },
  {
   "cell_type": "markdown",
   "metadata": {},
   "source": [
    "Interestingly enough, the SOCP relaxation problem solution does not yield the correct sensor location for a sensor outside of the convex hull of the anchors. Let us see if the SDP relaxation problem differs."
   ]
  },
  {
   "cell_type": "markdown",
   "metadata": {},
   "source": [
    "## Part 2: SDP Relaxation Problem Experimentation"
   ]
  },
  {
   "cell_type": "markdown",
   "metadata": {},
   "source": [
    "The following functions will be useful in the code that follows:"
   ]
  },
  {
   "cell_type": "code",
   "execution_count": 4,
   "metadata": {
    "collapsed": true
   },
   "outputs": [],
   "source": [
    "def sum_elem_product(A,B):\n",
    "    return cvx.sum_entries(cvx.mul_elemwise(A, B))\n",
    "\n",
    "def col_vec_4elem(a,b,c,d):\n",
    "    return np.matrix([[a],[b],[c],[d]])"
   ]
  },
  {
   "cell_type": "markdown",
   "metadata": {},
   "source": [
    "We formulate the SDP relaxation problem below for a sensor in the convex hull:"
   ]
  },
  {
   "cell_type": "code",
   "execution_count": 9,
   "metadata": {
    "collapsed": true
   },
   "outputs": [],
   "source": [
    "# Constraints will define the proper structure for Z. The optimal value will be \n",
    "# located in the top right two elements of Z.\n",
    "Z = cvx.Semidef(4)\n",
    "\n",
    "# Objective does not matter; \n",
    "# We are simply concerned with solving feasibility conditions\n",
    "objective = cvx.Minimize(0) \n",
    "\n",
    "\n",
    "v0 = col_vec_4elem(1,0,0,0)\n",
    "v1 = col_vec_4elem(0,1,0,0)\n",
    "v2 = col_vec_4elem(1,1,0,0)\n",
    "\n",
    "a0 = col_vec_4elem(anchors[0,0], anchors[0,1], -1, 0)\n",
    "a1 = col_vec_4elem(anchors[1,0], anchors[1,1], -1, 0)\n",
    "\n",
    "a2 = col_vec_4elem(anchors[1,0], anchors[1,1], 0, -1)\n",
    "a3 = col_vec_4elem(anchors[2,0], anchors[2,1], 0, -1)\n",
    "\n",
    "v3 = col_vec_4elem(0, 0, 1, -1)\n",
    "\n",
    "constraints = [\n",
    "    sum_elem_product(v0*np.transpose(v0), Z) == 1,\n",
    "    sum_elem_product(v1*np.transpose(v1), Z) == 1,\n",
    "    sum_elem_product(v2*np.transpose(v2), Z) == 2,\n",
    "    sum_elem_product(a0*np.transpose(a0), Z) == cvx.square(d0[0]),\n",
    "    sum_elem_product(a1*np.transpose(a1), Z) == cvx.square(d0[1]),\n",
    "    sum_elem_product(a2*np.transpose(a2), Z) == cvx.square(d1[1]),\n",
    "    sum_elem_product(a3*np.transpose(a3), Z) == cvx.square(d1[2]),\n",
    "    sum_elem_product(v3*np.transpose(v3), Z) == cvx.square(d_both_sensor)\n",
    "]"
   ]
  },
  {
   "cell_type": "markdown",
   "metadata": {},
   "source": [
    "Solving the problem and extracting the solution from the top right two elements of Z yields:"
   ]
  },
  {
   "cell_type": "code",
   "execution_count": 10,
   "metadata": {},
   "outputs": [
    {
     "name": "stdout",
     "output_type": "stream",
     "text": [
      "Results for Sensor Inside of Convex Hull of Anchors\n",
      "---------------------------------------------------\n",
      "True Sensor Location: [[ 1.   0.7]\n",
      " [ 0.  -0.3]]\n",
      "SDP optimal sensor 1 location : [1.0, -0.047102782992636635]\n",
      "SDP optimal sensor 2 location : [-0.20474325496134232, -0.15375481788475545]\n"
     ]
    }
   ],
   "source": [
    "prob = cvx.Problem(objective, constraints)\n",
    "result = prob.solve(solver = 'MOSEK')\n",
    "\n",
    "# Optimal solution\n",
    "x_1_star = [Z[0,2].value, Z[1,2].value]\n",
    "x_2_star = [Z[0,3].value, Z[1,3].value]\n",
    "\n",
    "print('Results for Sensor Inside of Convex Hull of Anchors')\n",
    "print('---------------------------------------------------')\n",
    "print('True Sensor Location: {}'.format(s1))\n",
    "print('SDP optimal sensor 1 location : {}'.format(x_1_star))\n",
    "print('SDP optimal sensor 2 location : {}'.format(x_2_star))"
   ]
  },
  {
   "cell_type": "markdown",
   "metadata": {},
   "source": [
    "Like in the SOCP example, the SDP relaxation problem solution yields the correct location for the sensor located inside of the convex hull of the anchors.\n",
    "\n",
    "Now we test SDP for the sensor outside of the convex hull:"
   ]
  },
  {
   "cell_type": "code",
   "execution_count": 9,
   "metadata": {},
   "outputs": [
    {
     "name": "stdout",
     "output_type": "stream",
     "text": [
      "Results for Sensor Outside of Convex Hull of Anchors\n",
      "---------------------------------------------------\n",
      "True Sensor Location: [1, 1]\n",
      "SDP optimal sensor location : [1.0000000000000002, 1.0]\n"
     ]
    }
   ],
   "source": [
    "# Update constraints for sensor outside of the convex hull\n",
    "constraints = [\n",
    "    sum_elem_product(v0*np.transpose(v0), Z) == 1,\n",
    "    sum_elem_product(v1*np.transpose(v1), Z) == 1,\n",
    "    sum_elem_product(v2*np.transpose(v2), Z) == 2,\n",
    "    sum_elem_product(a0*np.transpose(a0), Z) == cvx.square(d_out[0]),\n",
    "    sum_elem_product(a1*np.transpose(a1), Z) == cvx.square(d_out[1]),\n",
    "    sum_elem_product(a2*np.transpose(a2), Z) == cvx.square(d_out[2])\n",
    "]\n",
    "\n",
    "prob = cvx.Problem(objective, constraints)\n",
    "result = prob.solve(solver = 'MOSEK')\n",
    "\n",
    "# Optimal solution\n",
    "x_star = [Z[0,2].value, Z[1,2].value]\n",
    "\n",
    "print('Results for Sensor Outside of Convex Hull of Anchors')\n",
    "print('---------------------------------------------------')\n",
    "print('True Sensor Location: {}'.format(sensor_location_out))\n",
    "print('SDP optimal sensor location : {}'.format(x_star))"
   ]
  },
  {
   "cell_type": "markdown",
   "metadata": {},
   "source": [
    "The SDP relaxation problem solution does yield the correct location for the sensor located outside of the convex hull. Therefore, we conclude that the SDP formulation is preferable to the SOCP formulation in solving our particular sensor localization problem if we care to generalize the possible locations for the sensor."
   ]
  },
  {
   "cell_type": "markdown",
   "metadata": {},
   "source": [
    "As a final test of the SDP formulation, we consider choosing a sensor that is very far outside the convex hull of the anchors:"
   ]
  },
  {
   "cell_type": "code",
   "execution_count": 10,
   "metadata": {},
   "outputs": [
    {
     "name": "stdout",
     "output_type": "stream",
     "text": [
      "Results for Sensor Outside of Convex Hull of Anchors\n",
      "---------------------------------------------------\n",
      "True Sensor Location: [1000, 1000]\n",
      "SDP optimal sensor location : [1000.0, 999.9999999999418]\n"
     ]
    }
   ],
   "source": [
    "sensor_location_out2 = [1000, 1000]\n",
    "d_out2 = list(map(lambda a: np.linalg.norm(sensor_location_out2 - a), anchors))\n",
    "\n",
    "# Update constraints for sensor very far outside of the convex hull\n",
    "constraints = [\n",
    "    sum_elem_product(v0*np.transpose(v0), Z) == 1,\n",
    "    sum_elem_product(v1*np.transpose(v1), Z) == 1,\n",
    "    sum_elem_product(v2*np.transpose(v2), Z) == 2,\n",
    "    sum_elem_product(a0*np.transpose(a0), Z) == cvx.square(d_out2[0]),\n",
    "    sum_elem_product(a1*np.transpose(a1), Z) == cvx.square(d_out2[1]),\n",
    "    sum_elem_product(a2*np.transpose(a2), Z) == cvx.square(d_out2[2])\n",
    "]\n",
    "\n",
    "prob = cvx.Problem(objective, constraints)\n",
    "result = prob.solve(solver = 'MOSEK')\n",
    "\n",
    "# Optimal solution\n",
    "x_star = [Z[0,2].value, Z[1,2].value]\n",
    "\n",
    "print('Results for Sensor Outside of Convex Hull of Anchors')\n",
    "print('---------------------------------------------------')\n",
    "print('True Sensor Location: {}'.format(sensor_location_out2))\n",
    "print('SDP optimal sensor location : {}'.format(x_star))"
   ]
  },
  {
   "cell_type": "markdown",
   "metadata": {},
   "source": [
    "As one can see, SDP is even able to find the correct sensor location for a point very far outside of the convex hull of the anchors. Therefore, we conclude that SDP is likely able to find the exact correct solution for every sensor location on the plane."
   ]
  }
 ],
 "metadata": {
  "kernelspec": {
   "display_name": "Python 3",
   "language": "python",
   "name": "python3"
  },
  "language_info": {
   "codemirror_mode": {
    "name": "ipython",
    "version": 3
   },
   "file_extension": ".py",
   "mimetype": "text/x-python",
   "name": "python",
   "nbconvert_exporter": "python",
   "pygments_lexer": "ipython3",
   "version": "3.6.1"
  }
 },
 "nbformat": 4,
 "nbformat_minor": 2
}
