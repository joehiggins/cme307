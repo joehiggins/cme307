{
 "cells": [
  {
   "cell_type": "code",
   "execution_count": 1,
   "metadata": {
    "collapsed": true
   },
   "outputs": [],
   "source": [
    "# Import necessary modules\n",
    "import cvxpy as cvx\n",
    "import numpy as np"
   ]
  },
  {
   "cell_type": "code",
   "execution_count": 2,
   "metadata": {
    "collapsed": true
   },
   "outputs": [],
   "source": [
    "def sum_elem_product(A,B):\n",
    "    return cvx.sum_entries(cvx.mul_elemwise(A, B))\n",
    "\n",
    "def col_vec_4elem(a,b,c,d):\n",
    "    return np.matrix([[a],[b],[c],[d]])"
   ]
  },
  {
   "cell_type": "code",
   "execution_count": 7,
   "metadata": {
    "collapsed": true
   },
   "outputs": [],
   "source": [
    "# Define anchors\n",
    "anchors = np.matrix([\n",
    "    [ 1, 0],\n",
    "    [-1, 0],\n",
    "    [ 0, 1.4]\n",
    "])\n",
    "\n",
    "# Number of dimensions\n",
    "n = 2\n",
    "\n",
    "# Sensor locations\n",
    "# sensor_location_in = [0.44, 0.25] # Sensor inside convex hull\n",
    "# sensor_location_out = [1, 1]      # Sensor outside convex hull\n",
    "\n",
    "# case 1: sensor_location_both_in\n",
    "s1 = np.matrix([\n",
    "    [ 0, .1],\n",
    "    [0, 0.5]]) \n",
    "\n",
    "# case 2: sensor_location_one_in_one_out_in_anchors\n",
    "s1 = np.matrix([\n",
    "    [ 0, .1],\n",
    "    [-.15, 1.8]])\n",
    "\n",
    "# case 3: sensor_location_one_in_one_out_one_not_in_anchors\n",
    "s3 = np.matrix([\n",
    "    [ 0, .1],\n",
    "    [-.5, 10]])\n",
    "\n",
    "# case 4: one in one out, not in convex hull of anchors\n",
    "s3 = np.matrix([\n",
    "    [ 0, .1],\n",
    "    [0.05, 10]])\n",
    "\n",
    "\n",
    "# case 4: not in each others' convex hull\n",
    "s4 = np.matrix([\n",
    "    [ -.5, .5],\n",
    "    [.5, 0.5]])\n",
    "\n",
    "# Distances from anchors\n",
    "\n",
    "d0 = list(map(lambda a: np.linalg.norm(s1[0, :] - a), anchors))\n",
    "d1 = list(map(lambda a: np.linalg.norm(s1[1, :] - a), anchors))\n",
    "d_both_sensor = np.linalg.norm(s1[0, :] - s1[1, :])\n",
    "# d_out = list(map(lambda a: np.linalg.norm(sensor_location_out - a), anchors))"
   ]
  },
  {
   "cell_type": "code",
   "execution_count": 8,
   "metadata": {},
   "outputs": [],
   "source": [
    "# Constraints will define the proper structure for Z. The optimal value will be \n",
    "# located in the top right two elements of Z.\n",
    "Z = cvx.Semidef(4)\n",
    "\n",
    "v0 = col_vec_4elem(1,0,0,0)\n",
    "v1 = col_vec_4elem(0,1,0,0)\n",
    "v2 = col_vec_4elem(1,1,0,0)\n",
    "\n",
    "a0 = col_vec_4elem(anchors[0,0], anchors[0,1], -1, 0)\n",
    "a1 = col_vec_4elem(anchors[1,0], anchors[1,1], -1, 0)\n",
    "\n",
    "a2 = col_vec_4elem(anchors[1,0], anchors[1,1], 0, -1)\n",
    "a3 = col_vec_4elem(anchors[2,0], anchors[2,1], 0, -1)\n",
    "\n",
    "v3 = col_vec_4elem(0, 0, 1, -1)\n",
    "\n",
    "constraints = [\n",
    "    sum_elem_product(v0*np.transpose(v0), Z) == 1,\n",
    "    sum_elem_product(v1*np.transpose(v1), Z) == 1,\n",
    "    sum_elem_product(v2*np.transpose(v2), Z) == 2,\n",
    "    sum_elem_product(a0*np.transpose(a0), Z) == cvx.square(d0[0]),\n",
    "    sum_elem_product(a1*np.transpose(a1), Z) == cvx.square(d0[1]),\n",
    "    sum_elem_product(a2*np.transpose(a2), Z) == cvx.square(d1[1]),\n",
    "    sum_elem_product(a3*np.transpose(a3), Z) == cvx.square(d1[2]),\n",
    "    sum_elem_product(v3*np.transpose(v3), Z) == cvx.square(d_both_sensor)\n",
    "]"
   ]
  },
  {
   "cell_type": "code",
   "execution_count": 20,
   "metadata": {},
   "outputs": [
    {
     "name": "stdout",
     "output_type": "stream",
     "text": [
      "(4, 4)\n"
     ]
    }
   ],
   "source": [
    "c1 = col_vec_4elem(anchors[2,0], anchors[2,1], -1, 0)\n",
    "c2 = col_vec_4elem(anchors[0,0], anchors[0,1], 0, -1)\n",
    "C = c1*np.transpose(c1) + c2*np.transpose(c2)\n",
    "objective = cvx.Maximize(sum_elem_product(C, Z))"
   ]
  },
  {
   "cell_type": "code",
   "execution_count": 27,
   "metadata": {
    "collapsed": true
   },
   "outputs": [],
   "source": [
    "c1 = col_vec_4elem(anchors[2,0], anchors[2,1], -1, 0)\n",
    "c2 = col_vec_4elem(anchors[0,0], anchors[0,1], 0, -1)\n",
    "C = c1*np.transpose(c1) + c2*np.transpose(c2)\n",
    "objective = cvx.Minimize(sum_elem_product(C, Z))"
   ]
  },
  {
   "cell_type": "code",
   "execution_count": null,
   "metadata": {
    "collapsed": true
   },
   "outputs": [],
   "source": [
    "C = np.identity(4)\n",
    "objective = cvx.Maximize(sum_elem_product(C, Z))"
   ]
  },
  {
   "cell_type": "code",
   "execution_count": 25,
   "metadata": {
    "collapsed": true
   },
   "outputs": [],
   "source": [
    "C = np.identity(4)\n",
    "objective = cvx.Minimize(sum_elem_product(C, Z))"
   ]
  },
  {
   "cell_type": "code",
   "execution_count": 28,
   "metadata": {},
   "outputs": [
    {
     "name": "stdout",
     "output_type": "stream",
     "text": [
      "Results for Sensor Inside of Convex Hull of Anchors\n",
      "---------------------------------------------------\n",
      "True Sensor Location: [[ 0.    0.1 ]\n",
      " [-0.15  1.8 ]]\n",
      "SDP optimal sensor 1 location : [0.0, -0.09177517898870537]\n",
      "SDP optimal sensor 2 location : [0.18698586653590854, 1.5592958096172085]\n"
     ]
    }
   ],
   "source": [
    "prob = cvx.Problem(objective, constraints)\n",
    "result = prob.solve(solver = 'MOSEK')\n",
    "\n",
    "# Optimal solution\n",
    "x_1_star = [Z[0,2].value, Z[1,2].value]\n",
    "x_2_star = [Z[0,3].value, Z[1,3].value]\n",
    "\n",
    "print('Results for Sensor Inside of Convex Hull of Anchors')\n",
    "print('---------------------------------------------------')\n",
    "print('True Sensor Location: {}'.format(s1))\n",
    "print('SDP optimal sensor 1 location : {}'.format(x_1_star))\n",
    "print('SDP optimal sensor 2 location : {}'.format(x_2_star))"
   ]
  },
  {
   "cell_type": "markdown",
   "metadata": {},
   "source": [
    "###Notes\n",
    "min Trace did not help\n",
    "mother fucking max trace coming through FTW\n"
   ]
  },
  {
   "cell_type": "code",
   "execution_count": null,
   "metadata": {
    "collapsed": true
   },
   "outputs": [],
   "source": []
  }
 ],
 "metadata": {
  "kernelspec": {
   "display_name": "Python 3",
   "language": "python",
   "name": "python3"
  },
  "language_info": {
   "codemirror_mode": {
    "name": "ipython",
    "version": 3
   },
   "file_extension": ".py",
   "mimetype": "text/x-python",
   "name": "python",
   "nbconvert_exporter": "python",
   "pygments_lexer": "ipython3",
   "version": "3.6.3"
  }
 },
 "nbformat": 4,
 "nbformat_minor": 2
}
