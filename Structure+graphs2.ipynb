{
 "cells": [
  {
   "cell_type": "code",
   "execution_count": 1,
   "metadata": {
    "collapsed": true
   },
   "outputs": [],
   "source": [
    "# Import necessary modules\n",
    "%matplotlib inline\n",
    "import cvxpy as cvx\n",
    "import numpy as np\n",
    "from scipy import random\n",
    "from scipy import linalg\n",
    "import matplotlib.pyplot as plt"
   ]
  },
  {
   "cell_type": "code",
   "execution_count": 2,
   "metadata": {
    "collapsed": true
   },
   "outputs": [],
   "source": [
    "def generate_points(num, dim):\n",
    "    return np.matrix(4 * np.random.random((num, dim)) - 2)"
   ]
  },
  {
   "cell_type": "code",
   "execution_count": 3,
   "metadata": {
    "collapsed": true
   },
   "outputs": [],
   "source": [
    "def sum_elem_product(A,B):\n",
    "    return cvx.sum_entries(cvx.mul_elemwise(A, B))"
   ]
  },
  {
   "cell_type": "code",
   "execution_count": 4,
   "metadata": {
    "collapsed": true
   },
   "outputs": [],
   "source": [
    "def generate_ss_distances(sensors):\n",
    "    return list(map(lambda s1: \n",
    "                list(map(lambda s2: np.linalg.norm(s1 - s2), sensors))\n",
    "            , sensors))\n",
    "\n",
    "def generate_sa_distances(sensors, anchors):\n",
    "    return list(map(lambda s: \n",
    "                list(map(lambda a: np.linalg.norm(a - s), anchors))\n",
    "            , sensors))"
   ]
  },
  {
   "cell_type": "code",
   "execution_count": 5,
   "metadata": {
    "collapsed": true
   },
   "outputs": [],
   "source": [
    "def get_SOCP_result(sensors, anchors):\n",
    "    d_ss = generate_ss_distances(sensors)\n",
    "    d_sa = generate_sa_distances(sensors, anchors)\n",
    "    \n",
    "    x = cvx.Variable(num_sensors, dim)\n",
    "    objective = cvx.Minimize(0)\n",
    "    \n",
    "    constraints  = []\n",
    "    for i in range(num_sensors):\n",
    "        x_i = x[i, :]\n",
    "        for j in range(num_anchors):\n",
    "            constraints.append(cvx.norm(x_i - anchors[j]) <= d_sa[i][j])\n",
    "        for j in range(num_sensors):\n",
    "            if i < j:\n",
    "                constraints.append(cvx.norm(x_i - sensors[j]) <= d_ss[i][j])\n",
    "\n",
    "    prob = cvx.Problem(objective, constraints)\n",
    "    result = prob.solve(solver = 'MOSEK')\n",
    "    #print(\"SOCP complete\")\n",
    "    return x.value"
   ]
  },
  {
   "cell_type": "code",
   "execution_count": 6,
   "metadata": {
    "collapsed": true
   },
   "outputs": [],
   "source": [
    "def get_SDP_result(sensors, anchors):    \n",
    "    \n",
    "    A = enforce_id(sensors)\n",
    "    B = enforce_id2(sensors)\n",
    "    C = sensor_constraints(sensors)\n",
    "    D = anchor_constraints(sensors, anchors)\n",
    "\n",
    "    Z = cvx.Semidef(num_sensors + dim)\n",
    "    \n",
    "    constraints = []\n",
    "    for id_constraint, rhs in zip(A[0], A[1]):\n",
    "        constraints.append(sum_elem_product(id_constraint, Z) == rhs)\n",
    "    for id_constraint2, rhs in zip(B[0], B[1]):\n",
    "        constraints.append(sum_elem_product(id_constraint2, Z) == rhs)\n",
    "    for sensor_constraint, rhs in zip(C[0], C[1]):\n",
    "        constraints.append(sum_elem_product(sensor_constraint, Z) == rhs)\n",
    "    for anchor_constraint, rhs in zip(D[0], D[1]):\n",
    "        constraints.append(sum_elem_product(anchor_constraint, Z) == rhs)\n",
    "        \n",
    "    objective = cvx.Minimize(0)\n",
    "    prob = cvx.Problem(objective, constraints)\n",
    "    result = prob.solve(solver = 'MOSEK')\n",
    "\n",
    "    #print(\"SDP complete\")\n",
    "    return np.transpose(Z[0:dim, dim:dim+num_sensors].value)\n",
    "\n",
    "#Make first set of constraint matrices (look like identity)\n",
    "def enforce_id(sensors):\n",
    "    dim = np.shape(sensors)[1]\n",
    "    num_sensors = np.shape(sensors)[0]\n",
    "    matrices = []\n",
    "    rhs = []\n",
    "    for i in range(dim):\n",
    "        new_matrix = np.zeros((dim+num_sensors, dim+num_sensors))\n",
    "        new_matrix[i,i] = 1\n",
    "        matrices.append(new_matrix)\n",
    "        rhs.append(1)\n",
    "        \n",
    "    return (matrices, rhs)\n",
    "\n",
    "#Make second set of constraint matrices (symmetric holders) \n",
    "def enforce_id2(sensors):\n",
    "    dim = np.shape(sensors)[1]\n",
    "    num_sensors = np.shape(sensors)[0]\n",
    "    matrices = []\n",
    "    rhs = []\n",
    "    for i in range(dim):\n",
    "        for j in range(dim):\n",
    "            new_matrix = np.identity(dim)\n",
    "            if(j > i):\n",
    "                new_matrix[i,j] = 1\n",
    "                new_matrix[j,i] = 1\n",
    "                big_matrix = np.zeros((dim+num_sensors, dim+num_sensors))\n",
    "                big_matrix[0:dim,0:dim] = new_matrix\n",
    "                matrices.append(big_matrix)\n",
    "                rhs.append(dim)\n",
    "                \n",
    "    return (matrices, rhs)\n",
    "\n",
    "\n",
    "#Make third set of constraint matrices (anchors to sensors)\n",
    "def sensor_constraints(sensors):\n",
    "    dim = np.shape(sensors)[1]\n",
    "    num_sensors = np.shape(sensors)[0]\n",
    "    d_ss = generate_ss_distances(sensors)\n",
    "    matrices = []\n",
    "    rhs = []\n",
    "    zero_vec_dim = np.zeros(dim)\n",
    "    for i in range(num_sensors):\n",
    "        for j in range(i+1, num_sensors):\n",
    "            zero_vec_num_s = np.zeros(num_sensors)\n",
    "            zero_vec_num_s[i] = 1\n",
    "            zero_vec_num_s[j] = -1\n",
    "            \n",
    "            new_vec = np.matrix(np.append(zero_vec_dim, zero_vec_num_s))\n",
    "            \n",
    "            new_matrix = np.dot(np.transpose(new_vec), new_vec)\n",
    "            \n",
    "            matrices.append(new_matrix)\n",
    "            rhs.append(d_ss[i][j]**2)\n",
    "\n",
    "    return (matrices, rhs)\n",
    "\n",
    "#Make fourth set of constraint matrices (sensors to sensors)\n",
    "def anchor_constraints(sensors, anchors):\n",
    "    num_anchors = np.shape(anchors)[0]\n",
    "    d_sa = generate_sa_distances(sensors, anchors)\n",
    "    matrices = []\n",
    "    rhs = []\n",
    "    for i in range(num_anchors):\n",
    "        for j in range(num_sensors):\n",
    "            zero_vec_num_s = np.zeros(num_sensors)\n",
    "            zero_vec_num_s[j] = -1\n",
    "\n",
    "            new_vec = np.append(np.array(anchors[i,:]), np.array(zero_vec_num_s))\n",
    "            new_vec = np.matrix(new_vec)\n",
    "            new_matrix = np.dot(np.transpose(new_vec), new_vec)\n",
    "            matrices.append(new_matrix)\n",
    "            rhs.append(d_sa[j][i]**2)\n",
    "\n",
    "    return (matrices, rhs)"
   ]
  },
  {
   "cell_type": "code",
   "execution_count": 7,
   "metadata": {
    "collapsed": true
   },
   "outputs": [],
   "source": [
    "def get_NLLS_matches(sensors, anchors):\n",
    "    check = 1000\n",
    "    max_iter = 10000\n",
    "    k = 0\n",
    "\n",
    "    # Initial sensors guess\n",
    "    sensors_0 = generate_points(num_sensors, dim)\n",
    "    sensors_k = sensors_0\n",
    "\n",
    "    # iteration\n",
    "    alpha = .0001\n",
    "    while check > 10**-8 and k < max_iter:\n",
    "        sensors_k1 = sensors_k - alpha * grad(sensors_k)\n",
    "        check = np.linalg.norm(sensors_k1 - sensors_k)\n",
    "        sensors_k = sensors_k1\n",
    "    #    if(k % 2000 == 0):\n",
    "    #        print(\"NLLS k:\" + str(k))\n",
    "    #    k = k+1\n",
    "    #\n",
    "    #print(\"NLLS complete\")\n",
    "    return sensors_k\n",
    "    \n",
    "def grad(X):\n",
    "    sensor_distance_sum = np.zeros((1,X.shape[1]))\n",
    "    anchor_distance_sum = np.zeros((1,X.shape[1]))\n",
    "    gradient = np.zeros(X.shape)\n",
    "\n",
    "    for i, sensor_i in enumerate(X):\n",
    "        for j, sensor_j in enumerate(X):\n",
    "            if(i != j):\n",
    "                sensor_distance_sum += (np.linalg.norm(sensor_i - sensor_j)**2 - \\\n",
    "                                        np.linalg.norm(sensors[i,:] - sensors[j,:])**2) * \\\n",
    "                                       (sensor_i - sensor_j)\n",
    "\n",
    "        for k, anchor_k in enumerate(anchors):\n",
    "            anchor_distance_sum += (np.linalg.norm(anchor_k - sensor_i)**2 - \\\n",
    "                                    np.linalg.norm(anchors[k,:] - sensors[i,:])**2) * \\\n",
    "                                   (sensor_i - anchor_k)\n",
    "\n",
    "        gradient[i,:] = 8*sensor_distance_sum + 4*anchor_distance_sum\n",
    "\n",
    "    return gradient"
   ]
  },
  {
   "cell_type": "code",
   "execution_count": 8,
   "metadata": {
    "collapsed": true
   },
   "outputs": [],
   "source": [
    "def get_sensor_matches(sensors, results):\n",
    "    matches = []\n",
    "    for sensor, result in zip(sensors, results):\n",
    "        matches.append(np.linalg.norm(sensor - result) < 10**(-4))\n",
    "    return np.array(matches)"
   ]
  },
  {
   "cell_type": "code",
   "execution_count": 9,
   "metadata": {
    "collapsed": true
   },
   "outputs": [],
   "source": [
    "def plot_results(anchors, sensors, results):\n",
    "    anchor_x = np.array(anchors[:,0])\n",
    "    anchor_y = np.array(anchors[:,1])\n",
    "    \n",
    "    matches = get_sensor_matches(sensors,results)\n",
    "    \n",
    "    matched_sensors_x = np.array(sensors[matches,0])\n",
    "    matched_sensors_y = np.array(sensors[matches,1])\n",
    "    unmatched_sensors_x = np.array(sensors[~matches,0])\n",
    "    unmatched_sensors_y = np.array(sensors[~matches,1])\n",
    "    \n",
    "    fig, out_plot = plt.subplots()\n",
    "    \n",
    "    out_plot.scatter(x=anchor_x, y=anchor_y, c=\"g\", alpha=0.5)\n",
    "    out_plot.scatter(x=matched_sensors_x, y=matched_sensors_y, c=\"b\", alpha=0.5)\n",
    "    out_plot.scatter(x=unmatched_sensors_x, y=unmatched_sensors_y, c=\"r\", alpha=0.5)"
   ]
  },
  {
   "cell_type": "code",
   "execution_count": 10,
   "metadata": {
    "collapsed": true
   },
   "outputs": [],
   "source": [
    "dim = 2\n",
    "num_anchors = 4\n",
    "num_sensors = 10"
   ]
  },
  {
   "cell_type": "markdown",
   "metadata": {},
   "source": [
    "### Structure of individual trials\n",
    "\n",
    "We now present plots showing which sensors were able to be located and which were not able to be located for several static configurations of anchors. This is presented to give an intuition for what's going on under the hood of the averages of each method (SDP, SOCP, NLLS) in the discussion above. We will present 2 examples with 4 anchors in 2 dimensions.\n",
    "\n",
    "* Green: anchor\n",
    "* Blue: sensor located by method\n",
    "* Red: sensor not located by method\n",
    "\n",
    "#### Example 1\n",
    "\n",
    "* SOCP: able to find sensors located within the convex hull of the anchors\n",
    "* SDP: able to find all sensors\n",
    "* NLLS: unable to converge and finds no sensors\n",
    "\n",
    "#### Example 2\n",
    "\n",
    "* SOCP: able to find sensors located within the convex hull of the anchors, and one outside\n",
    "* SDP: able to find all sensors\n",
    "* NLLS: unable to converge and finds no sensors\n",
    "\n",
    "### Conclusion\n",
    "\n",
    "The average performance of the plots for a given setup is comprised of examples\n",
    "\n",
    "* SOCP: typically finds a subset of the points based on the configuration of the sensors. It will generally locate all the sensors within the convex hull of the anchors, and occasionally locate some sensors outside of the convex hull\n",
    "* SDP: always locates all sensors, regardless of their location when the number of anchors is greater than the dimension\n",
    "* NLLS: the average performance is between finding every sensor and finding no sensors. However, it is not because it typically finds that many sensors: the average we observe is due to combining many trials where the problem either finds all of the sensors, or none of the sensors.\n",
    "\n"
   ]
  },
  {
   "cell_type": "code",
   "execution_count": 11,
   "metadata": {},
   "outputs": [
    {
     "data": {
      "image/png": "[encoded data removed]",
      "text/plain": [
       "<matplotlib.figure.Figure at 0x10d225198>"
      ]
     },
     "metadata": {},
     "output_type": "display_data"
    },
    {
     "data": {
      "image/png": "[encoded data removed]",
      "text/plain": [
       "<matplotlib.figure.Figure at 0x1062bf780>"
      ]
     },
     "metadata": {},
     "output_type": "display_data"
    },
    {
     "data": {
      "image/png": "[encoded data removed]",
      "text/plain": [
       "<matplotlib.figure.Figure at 0x10e91d780>"
      ]
     },
     "metadata": {},
     "output_type": "display_data"
    }
   ],
   "source": [
    "#Example 1: SOCP inside convex hull border, SDP everywhere, NLLS everywhere\n",
    "np.random.seed(seed=31)\n",
    "anchors = generate_points(num_anchors, dim)\n",
    "sensors = generate_points(num_sensors, dim)\n",
    "\n",
    "SOCP_result = get_SOCP_result(sensors, anchors)\n",
    "SDP_result = get_SDP_result(sensors, anchors)\n",
    "NLLS_result = get_NLLS_matches(sensors, anchors)\n",
    "plot_results(anchors, sensors, SOCP_result)"
   ]
  },
  {
   "cell_type": "code",
   "execution_count": null,
   "metadata": {
    "collapsed": true
   },
   "outputs": [],
   "source": [
    "plot_results(anchors, sensors, SDP_result)"
   ]
  },
  {
   "cell_type": "code",
   "execution_count": null,
   "metadata": {
    "collapsed": true
   },
   "outputs": [],
   "source": [
    "plot_results(anchors, sensors, NLLS_result)"
   ]
  },
  {
   "cell_type": "code",
   "execution_count": 12,
   "metadata": {},
   "outputs": [
    {
     "data": {
      "image/png": "[encoded data removed]",
      "text/plain": [
       "<matplotlib.figure.Figure at 0x10ffd5e80>"
      ]
     },
     "metadata": {},
     "output_type": "display_data"
    },
    {
     "data": {
      "image/png": "[encoded data removed]",
      "text/plain": [
       "<matplotlib.figure.Figure at 0x10ff02978>"
      ]
     },
     "metadata": {},
     "output_type": "display_data"
    },
    {
     "data": {
      "image/png": "[encoded data removed]",
      "text/plain": [
       "<matplotlib.figure.Figure at 0x110016a58>"
      ]
     },
     "metadata": {},
     "output_type": "display_data"
    }
   ],
   "source": [
    "#Example 2: SOCP near convex hull border, SDP everywhere, NLLS not converge\n",
    "np.random.seed(seed=18)\n",
    "\n",
    "anchors = generate_points(num_anchors, dim)\n",
    "sensors = generate_points(num_sensors, dim)\n",
    "\n",
    "SOCP_result = get_SOCP_result(sensors, anchors)\n",
    "SDP_result = get_SDP_result(sensors, anchors)\n",
    "NLLS_result = get_NLLS_matches(sensors, anchors)\n",
    "plot_results(anchors, sensors, SOCP_result)"
   ]
  },
  {
   "cell_type": "code",
   "execution_count": null,
   "metadata": {
    "collapsed": true
   },
   "outputs": [],
   "source": [
    "plot_results(anchors, sensors, SDP_result)"
   ]
  },
  {
   "cell_type": "code",
   "execution_count": null,
   "metadata": {
    "collapsed": true
   },
   "outputs": [],
   "source": [
    "plot_results(anchors, sensors, NLLS_result)"
   ]
  }
 ],
 "metadata": {
  "kernelspec": {
   "display_name": "Python 3",
   "language": "python",
   "name": "python3"
  },
  "language_info": {
   "codemirror_mode": {
    "name": "ipython",
    "version": 3
   },
   "file_extension": ".py",
   "mimetype": "text/x-python",
   "name": "python",
   "nbconvert_exporter": "python",
   "pygments_lexer": "ipython3",
   "version": "3.6.1"
  }
 },
 "nbformat": 4,
 "nbformat_minor": 2
}
