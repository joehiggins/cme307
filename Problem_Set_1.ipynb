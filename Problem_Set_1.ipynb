{
 "cells": [
  {
   "cell_type": "markdown",
   "metadata": {},
   "source": [
    "# Assignment 1, Problem 9 Computation Teamwork\n",
    "## Group: Austin Wang, Lawrence Moore, Joe Higgins\n"
   ]
  },
  {
   "cell_type": "code",
   "execution_count": 1,
   "metadata": {
    "collapsed": true
   },
   "outputs": [],
   "source": [
    "# Import necessary modules\n",
    "import cvxpy as cvx\n",
    "import numpy as np"
   ]
  },
  {
   "cell_type": "markdown",
   "metadata": {},
   "source": [
    "## Introduction\n",
    "In this notebook, we will be solving the two-dimensional sensor localization problem with one sensor and three anchors. We assume that we know each of the three distances between the sensor and the anchors. Our goal is to use this information to determine the location of the sensor.\n",
    "\n",
    "We will formulate this problem as both an SOCP relaxation problem and an SDP relaxation problem to analyze how the two methods compare."
   ]
  },
  {
   "cell_type": "markdown",
   "metadata": {},
   "source": [
    "## Problem Data"
   ]
  },
  {
   "cell_type": "code",
   "execution_count": 2,
   "metadata": {},
   "outputs": [],
   "source": [
    "# Define anchors\n",
    "anchors = np.matrix([\n",
    "    [ 1, 0],\n",
    "    [-1, 0],\n",
    "    [ 0, 2]\n",
    "])\n",
    "\n",
    "# Number of dimensions\n",
    "n = 2\n",
    "\n",
    "# Sensor locations\n",
    "sensor_location_in = [0.44, 0.25] # Sensor that is inside of the convex hull of the anchors\n",
    "sensor_location_out = [1, 1]      # Sensor that is outside of the convex hull of the anchors\n",
    "\n",
    "# Distances from anchors\n",
    "d_in = list(map(lambda a: np.linalg.norm(sensor_location_in - a), anchors))\n",
    "d_out = list(map(lambda a: np.linalg.norm(sensor_location_out - a), anchors))"
   ]
  },
  {
   "cell_type": "markdown",
   "metadata": {},
   "source": [
    "## Part 1: SOCP Relaxation Problem Experimentation"
   ]
  },
  {
   "cell_type": "markdown",
   "metadata": {},
   "source": [
    "We formulate the SOCP relaxation problem below for a sensor in the convex hull:"
   ]
  },
  {
   "cell_type": "code",
   "execution_count": 3,
   "metadata": {},
   "outputs": [],
   "source": [
    "# Construct the problem.\n",
    "x = cvx.Variable(1,n)\n",
    "objective = cvx.Minimize(cvx.norm(x - anchors[0]) + \n",
    "                         cvx.norm(x - anchors[1]) + \n",
    "                         cvx.norm(x - anchors[2]))\n",
    "\n",
    "constraints = [cvx.norm(x - anchors[0]) <= d_in[0],\n",
    "               cvx.norm(x - anchors[1]) <= d_in[1],\n",
    "               cvx.norm(x - anchors[2]) <= d_in[2]]\n",
    "\n",
    "prob = cvx.Problem(objective, constraints)"
   ]
  },
  {
   "cell_type": "markdown",
   "metadata": {},
   "source": [
    "Solving the problem yields the following:"
   ]
  },
  {
   "cell_type": "code",
   "execution_count": 4,
   "metadata": {},
   "outputs": [
    {
     "name": "stdout",
     "output_type": "stream",
     "text": [
      "Results for Sensor Inside of Convex Hull of Anchors\n",
      "---------------------------------------------------\n",
      "True Sensor Location: [0.44, 0.25]\n",
      "SOCP optimal sensor location : [[ 0.44  0.25]]\n"
     ]
    }
   ],
   "source": [
    "# The optimal objective is returned by prob.solve().\n",
    "result = prob.solve()\n",
    "\n",
    "# The optimal value for x is stored in x.value.\n",
    "print('Results for Sensor Inside of Convex Hull of Anchors')\n",
    "print('---------------------------------------------------')\n",
    "print('True Sensor Location: {}'.format(sensor_location_in))\n",
    "print('SOCP optimal sensor location : {}'.format(x.value))"
   ]
  },
  {
   "cell_type": "markdown",
   "metadata": {},
   "source": [
    "As one can see, the the SOCP relaxation problem solution yields the correct sensor location for a sensor in the convex hull of the anchors.\n",
    "\n",
    "Now let us see what happens if the sensor is outside of the convex hull:"
   ]
  },
  {
   "cell_type": "code",
   "execution_count": 5,
   "metadata": {},
   "outputs": [
    {
     "name": "stdout",
     "output_type": "stream",
     "text": [
      "Results for Sensor Outside of Convex Hull of Anchors\n",
      "---------------------------------------------------\n",
      "True Sensor Location: [1, 1]\n",
      "SOCP optimal sensor location : [[ 0.2  0.6]]\n"
     ]
    }
   ],
   "source": [
    "# Update constraints for sensor outside of the convex hull\n",
    "constraints = [cvx.norm(x - anchors[0]) <= d_out[0],\n",
    "               cvx.norm(x - anchors[1]) <= d_out[1],\n",
    "               cvx.norm(x - anchors[2]) <= d_out[2]]\n",
    "\n",
    "prob = cvx.Problem(objective, constraints)\n",
    "result = prob.solve()\n",
    "\n",
    "print('Results for Sensor Outside of Convex Hull of Anchors')\n",
    "print('---------------------------------------------------')\n",
    "print('True Sensor Location: {}'.format(sensor_location_out))\n",
    "print('SOCP optimal sensor location : {}'.format(x.value))"
   ]
  },
  {
   "cell_type": "markdown",
   "metadata": {},
   "source": [
    "Interestingly enough, the SOCP relaxation problem solution does not yield the correct sensor location for a sensor outside of the convex hull of the anchors. Let us see if the SDP relaxation problem differs."
   ]
  },
  {
   "cell_type": "markdown",
   "metadata": {},
   "source": [
    "## Part 2: SDP Relaxation Problem Experimentation"
   ]
  },
  {
   "cell_type": "markdown",
   "metadata": {},
   "source": [
    "The following functions will be useful in the code that follows:"
   ]
  },
  {
   "cell_type": "code",
   "execution_count": 6,
   "metadata": {
    "collapsed": true
   },
   "outputs": [],
   "source": [
    "def sum_elem_product(A,B):\n",
    "    return cvx.sum_entries(cvx.mul_elemwise(A, B))\n",
    "\n",
    "def col_vec_3elem(a,b,c):\n",
    "    return np.matrix([[a],[b],[c]])"
   ]
  },
  {
   "cell_type": "markdown",
   "metadata": {},
   "source": [
    "We formulate the SDP relaxation problem below for a sensor in the convex hull:"
   ]
  },
  {
   "cell_type": "code",
   "execution_count": 7,
   "metadata": {},
   "outputs": [],
   "source": [
    "# Constraints will define the proper structure for Z. The optimal value will be located\n",
    "# in the top right two elements of Z.\n",
    "Z = cvx.Semidef(3)\n",
    "\n",
    "objective = cvx.Minimize(0) # Objective does not matter; we are simply concerned with solving feasibility conditions\n",
    "\n",
    "v0 = col_vec_3elem(1,0,0)\n",
    "v1 = col_vec_3elem(0,1,0)\n",
    "v2 = col_vec_3elem(1,1,0)\n",
    "\n",
    "a0 = col_vec_3elem(anchors[0,0],anchors[0,1],-1)\n",
    "a1 = col_vec_3elem(anchors[1,0],anchors[1,1],-1)\n",
    "a2 = col_vec_3elem(anchors[2,0],anchors[2,1],-1)\n",
    "\n",
    "constraints = [\n",
    "    sum_elem_product(v0*np.transpose(v0), Z) == 1,\n",
    "    sum_elem_product(v1*np.transpose(v1), Z) == 1,\n",
    "    sum_elem_product(v2*np.transpose(v2), Z) == 2,\n",
    "    sum_elem_product(a0*np.transpose(a0), Z) == cvx.square(d_in[0]),\n",
    "    sum_elem_product(a1*np.transpose(a1), Z) == cvx.square(d_in[1]),\n",
    "    sum_elem_product(a2*np.transpose(a2), Z) == cvx.square(d_in[2])\n",
    "]"
   ]
  },
  {
   "cell_type": "markdown",
   "metadata": {},
   "source": [
    "Solving the problem and extracting the solution from the top right two elements of Z yields:"
   ]
  },
  {
   "cell_type": "code",
   "execution_count": 8,
   "metadata": {},
   "outputs": [
    {
     "name": "stdout",
     "output_type": "stream",
     "text": [
      "Results for Sensor Inside of Convex Hull of Anchors\n",
      "---------------------------------------------------\n",
      "True Sensor Location: [0.44, 0.25]\n",
      "SDP optimal sensor location : [0.4399404725449499, 0.2498104665101733]\n"
     ]
    }
   ],
   "source": [
    "prob = cvx.Problem(objective, constraints)\n",
    "result = prob.solve()\n",
    "\n",
    "# Optimal solution\n",
    "x_star = [Z[0,2].value, Z[1,2].value]\n",
    "\n",
    "print('Results for Sensor Inside of Convex Hull of Anchors')\n",
    "print('---------------------------------------------------')\n",
    "print('True Sensor Location: {}'.format(sensor_location_in))\n",
    "print('SDP optimal sensor location : {}'.format(x_star))"
   ]
  },
  {
   "cell_type": "markdown",
   "metadata": {},
   "source": [
    "Like in the SOCP example, the SDP relaxation problem solution yields essentially the correct location for the sensor located inside of the convex hull of the anchors. However, the solution seems to be slightly rougher of an approximation than in the SOCP case.\n",
    "\n",
    "Now we test SDP for the sensor outside of the convex hull:"
   ]
  },
  {
   "cell_type": "code",
   "execution_count": 9,
   "metadata": {},
   "outputs": [
    {
     "name": "stdout",
     "output_type": "stream",
     "text": [
      "Results for Sensor Outside of Convex Hull of Anchors\n",
      "---------------------------------------------------\n",
      "True Sensor Location: [1, 1]\n",
      "SDP optimal sensor location : [1.0002515201562214, 0.9992893768239621]\n"
     ]
    }
   ],
   "source": [
    "# Update constraints for sensor outside of the convex hull\n",
    "constraints = [\n",
    "    sum_elem_product(v0*np.transpose(v0), Z) == 1,\n",
    "    sum_elem_product(v1*np.transpose(v1), Z) == 1,\n",
    "    sum_elem_product(v2*np.transpose(v2), Z) == 2,\n",
    "    sum_elem_product(a0*np.transpose(a0), Z) == cvx.square(d_out[0]),\n",
    "    sum_elem_product(a1*np.transpose(a1), Z) == cvx.square(d_out[1]),\n",
    "    sum_elem_product(a2*np.transpose(a2), Z) == cvx.square(d_out[2])\n",
    "]\n",
    "\n",
    "prob = cvx.Problem(objective, constraints)\n",
    "result = prob.solve()\n",
    "\n",
    "# Optimal solution\n",
    "x_star = [Z[0,2].value, Z[1,2].value]\n",
    "\n",
    "print('Results for Sensor Outside of Convex Hull of Anchors')\n",
    "print('---------------------------------------------------')\n",
    "print('True Sensor Location: {}'.format(sensor_location_out))\n",
    "print('SDP optimal sensor location : {}'.format(x_star))"
   ]
  },
  {
   "cell_type": "markdown",
   "metadata": {},
   "source": [
    "The SDP relaxation problem solution does yield essentially the correct location for the sensor located outside of the convex hull (again, however, the solution is off slightly). Therefore, we conclude that the SDP formulation is preferable to the SOCP formulation in solving our particular sensor localization problem if we care to generalize the possible locations for the sensor."
   ]
  },
  {
   "cell_type": "markdown",
   "metadata": {},
   "source": [
    "As a final test of the SDP formulation, we consider choosing a sensor that is very far outside the convex hull of the anchors:"
   ]
  },
  {
   "cell_type": "code",
   "execution_count": 10,
   "metadata": {},
   "outputs": [
    {
     "name": "stdout",
     "output_type": "stream",
     "text": [
      "Results for Sensor Outside of Convex Hull of Anchors\n",
      "---------------------------------------------------\n",
      "True Sensor Location: [1000, 1000]\n",
      "SDP optimal sensor location : [1000.0082897885669, 1008.1844053294327]\n"
     ]
    }
   ],
   "source": [
    "sensor_location_out2 = [1000, 1000]\n",
    "d_out2 = list(map(lambda a: np.linalg.norm(sensor_location_out2 - a), anchors))\n",
    "\n",
    "# Update constraints for sensor very far outside of the convex hull\n",
    "constraints = [\n",
    "    sum_elem_product(v0*np.transpose(v0), Z) == 1,\n",
    "    sum_elem_product(v1*np.transpose(v1), Z) == 1,\n",
    "    sum_elem_product(v2*np.transpose(v2), Z) == 2,\n",
    "    sum_elem_product(a0*np.transpose(a0), Z) == cvx.square(d_out2[0]),\n",
    "    sum_elem_product(a1*np.transpose(a1), Z) == cvx.square(d_out2[1]),\n",
    "    sum_elem_product(a2*np.transpose(a2), Z) == cvx.square(d_out2[2])\n",
    "]\n",
    "\n",
    "prob = cvx.Problem(objective, constraints)\n",
    "result = prob.solve()\n",
    "\n",
    "# Optimal solution\n",
    "x_star = [Z[0,2].value, Z[1,2].value]\n",
    "\n",
    "print('Results for Sensor Outside of Convex Hull of Anchors')\n",
    "print('---------------------------------------------------')\n",
    "print('True Sensor Location: {}'.format(sensor_location_out2))\n",
    "print('SDP optimal sensor location : {}'.format(x_star))"
   ]
  },
  {
   "cell_type": "markdown",
   "metadata": {},
   "source": [
    "As one can see, the optimal solution's second coordinate is off from the true sensor location by a fair amount. This seems to indicate that the further away the sensor is from the convex hull of the anchors, the more difficult it is for SDP to arrive at the correct solution. Therefore, SDP does not find the exact correct solution for every sensor location on the plane, but it does yield a decent approximation."
   ]
  }
 ],
 "metadata": {
  "kernelspec": {
   "display_name": "Python 3",
   "language": "python",
   "name": "python3"
  },
  "language_info": {
   "codemirror_mode": {
    "name": "ipython",
    "version": 3
   },
   "file_extension": ".py",
   "mimetype": "text/x-python",
   "name": "python",
   "nbconvert_exporter": "python",
   "pygments_lexer": "ipython3",
   "version": "3.6.1"
  }
 },
 "nbformat": 4,
 "nbformat_minor": 2
}
