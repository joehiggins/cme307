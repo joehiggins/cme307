{
 "cells": [
  {
   "cell_type": "code",
   "execution_count": 2,
   "metadata": {
    "collapsed": true
   },
   "outputs": [],
   "source": [
    "# Import necessary modules\n",
    "import cvxpy as cvx\n",
    "import numpy as np"
   ]
  },
  {
   "cell_type": "code",
   "execution_count": 32,
   "metadata": {},
   "outputs": [],
   "source": [
    "def generate_points(num, dim):\n",
    "    return 4 * np.random.random((num, dim)) - 2 "
   ]
  },
  {
   "cell_type": "code",
   "execution_count": 33,
   "metadata": {},
   "outputs": [],
   "source": [
    "num_sensors = 10\n",
    "num_anchors = 2\n",
    "dim = 1\n",
    "\n",
    "anchors = generate_points(num_anchors, dim)\n",
    "sensors = generate_points(num_sensors, dim)\n",
    "\n",
    "print(anchors[0])\n",
    "\n",
    "d_sa = list(map(lambda s: \n",
    "        list(map(lambda a: np.linalg.norm(a - s), anchors))\n",
    "    , sensors))\n",
    "\n",
    "d_ss = list(map(lambda s1: \n",
    "        list(map(lambda s2: np.linalg.norm(s1 - s2), sensors))\n",
    "    , sensors))"
   ]
  },
  {
   "cell_type": "code",
   "execution_count": 34,
   "metadata": {},
   "outputs": [],
   "source": [
    "x = cvx.Variable(dim, num_sensors)\n",
    "objective = cvx.Minimize(0)"
   ]
  },
  {
   "cell_type": "code",
   "execution_count": 43,
   "metadata": {},
   "outputs": [],
   "source": [
    "constraints  = []\n",
    "for i, sensor in enumerate(sensors):\n",
    "    for j, anchor in enumerate(anchors):\n",
    "        constraints.append(cvx.norm(sensor - anchor) <= d_sa[i][j])\n",
    "    for j, other_sensor in enumerate(sensors):\n",
    "        if i < j:\n",
    "            constraints.append(cvx.norm(sensor - other_sensor) <= d_ss[i][j])\n"
   ]
  },
  {
   "cell_type": "code",
   "execution_count": 44,
   "metadata": {},
   "outputs": [
    {
     "name": "stdout",
     "output_type": "stream",
     "text": [
      "None\n"
     ]
    }
   ],
   "source": [
    "prob = cvx.Problem(objective, constraints)\n",
    "\n",
    "# The optimal objective is returned by prob.solve().\n",
    "result = prob.solve(solver = 'MOSEK')\n",
    "# The optimal value for x is stored in x.value.\n",
    "print(x.value)"
   ]
  }
 ],
 "metadata": {
  "kernelspec": {
   "display_name": "Python 3",
   "language": "python",
   "name": "python3"
  },
  "language_info": {
   "codemirror_mode": {
    "name": "ipython",
    "version": 3
   },
   "file_extension": ".py",
   "mimetype": "text/x-python",
   "name": "python",
   "nbconvert_exporter": "python",
   "pygments_lexer": "ipython3",
   "version": "3.6.3"
  }
 },
 "nbformat": 4,
 "nbformat_minor": 2
}
